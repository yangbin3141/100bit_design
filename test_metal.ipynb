{
 "cells": [
  {
   "cell_type": "code",
   "execution_count": 1,
   "metadata": {
    "collapsed": true
   },
   "outputs": [],
   "source": [
    "%reload_ext autoreload\n",
    "%autoreload 2"
   ]
  },
  {
   "cell_type": "code",
   "execution_count": 2,
   "outputs": [],
   "source": [
    "import qiskit_metal as metal\n",
    "from qiskit_metal import designs, draw\n",
    "from qiskit_metal import MetalGUI, Dict, Headings\n",
    "from qiskit_metal.qlibrary.qubits.transmon_cross import TransmonCross\n",
    "from qiskit_metal.qlibrary.resonator.readoutres_fc import ReadoutResFC\n",
    "import math\n",
    "import numpy as np\n",
    "\n",
    "# suppress deprecation warnings\n",
    "import warnings\n",
    "warnings.filterwarnings(\"ignore\", category=Warning)"
   ],
   "metadata": {
    "collapsed": false
   }
  },
  {
   "cell_type": "code",
   "execution_count": 3,
   "outputs": [],
   "source": [
    "# Initialise design\n",
    "design = designs.DesignFlipChip()\n",
    "# Specify design name\n",
    "design.metadata['design_name'] = 'FlipChip_Device'\n",
    "# launch GUI\n",
    "gui = MetalGUI(design)\n",
    "# Allow running the same cell here multiple times to overwrite changes\n",
    "design.overwrite_enabled = True"
   ],
   "metadata": {
    "collapsed": false
   }
  },
  {
   "cell_type": "code",
   "execution_count": 4,
   "outputs": [],
   "source": [
    "# delete existing components\n",
    "design.delete_all_components()\n",
    "\n",
    "# draw an Xmon on the Q_chip. Notice that I have defined one more item called chip and set it to be the 'Q_chip'\n",
    "options_cpads = Dict(\n",
    "        connector_type = '0', # claw type\n",
    "        claw_length = '30um',\n",
    "        ground_spacing = '5um',\n",
    "        claw_width = '10um',\n",
    "        claw_gap = '6um')\n",
    "options = Dict(\n",
    "    chip = 'Q_chip',\n",
    "    cross_width = '20um',\n",
    "    cross_length = '150um',\n",
    "    cross_gap = '20um',\n",
    "    connection_pads = Dict(\n",
    "        claw_west = Dict(connector_location= '180', **options_cpads)))\n",
    "\n",
    "# position the center of the Xmon at (0,0)\n",
    "q1_x = '0.0 mm'\n",
    "q1_y = '0.0 mm'\n",
    "\n",
    "# build the device, positioned at (q1_x, q1_y)\n",
    "q1 = TransmonCross(design, 'Q1', options = Dict(pos_x=q1_x, pos_y=q1_y, **options))\n",
    "\n",
    "# rebuild in gui\n",
    "gui.rebuild()\n",
    "gui.autoscale()"
   ],
   "metadata": {
    "collapsed": false
   }
  },
  {
   "cell_type": "code",
   "execution_count": 5,
   "outputs": [],
   "source": [
    "# delete existing components\n",
    "design.delete_all_components()\n",
    "\n",
    "# draw an Xmon on the Q_chip. Notice that I have defined one more item called chip and set it to be the 'Q_chip'\n",
    "options_cpads = Dict(\n",
    "        connector_type = '0', # claw type\n",
    "        claw_length = '30um',\n",
    "        ground_spacing = '5um',\n",
    "        claw_width = '10um',\n",
    "        claw_gap = '6um')\n",
    "options = Dict(\n",
    "    chip = 'Q_chip',\n",
    "    cross_width = '20um',\n",
    "    cross_length = '150um',\n",
    "    cross_gap = '20um',\n",
    "    connection_pads = Dict(\n",
    "        claw_west = Dict(connector_location= '180', **options_cpads)))\n",
    "\n",
    "# position the center of the Xmon at (0,0)\n",
    "q1_x = '0.0 mm'\n",
    "q1_y = '0.0 mm'\n",
    "\n",
    "# build the device, positioned at (q1_x, q1_y)\n",
    "q1 = TransmonCross(design, 'Q1', options = Dict(pos_x=q1_x, pos_y=q1_y, **options))\n",
    "\n",
    "# rebuild in gui\n",
    "gui.rebuild()\n",
    "gui.autoscale()"
   ],
   "metadata": {
    "collapsed": false
   }
  },
  {
   "cell_type": "code",
   "execution_count": 6,
   "outputs": [],
   "source": [
    "# draw a readout resonator on the C_chip. Note that we specify the chip='C_chip'.\n",
    "# The readout resonator can me made into any shape. Here I opted to use a lambda/4 cpw-based resonator.\n",
    "# The open-ended end of the resonator has a circular shape with a radius of readout_radius. Change this radius to change the qubit-resonator coupling strength.\n",
    "# The cpw_width and cpw_gap are the size of the signal line and the ground gap of the cpw transmission line.\n",
    "# The parameters readout_l1 ... l5, are the lengths of various parts of the cpw.\n",
    "# arc_step is the length of a line that approximates an arc.\n",
    "options = Dict(\n",
    "    chip = 'C_chip',\n",
    "    readout_radius = '20 um',\n",
    "    readout_cpw_width = '10 um',\n",
    "    readout_cpw_gap = '10 um',\n",
    "    readout_cpw_turnradius = '50 um',\n",
    "    readout_l1 = '600 um',\n",
    "    readout_l2 = '200 um',\n",
    "    readout_l3 = '300 um',\n",
    "    readout_l4 = '150 um',\n",
    "    readout_l5 = '550 um',\n",
    "    arc_step = '5 um')\n",
    "\n",
    "# the resonator is set to have its origin at the center of the circular patch.\n",
    "# So we set the qubit and the resonator to share the same coordinate (q1_x, q1_y)\n",
    "r1 = ReadoutResFC(design, 'R1', options = Dict(pos_x = q1_x, pos_y = q1_y, **options))\n",
    "\n",
    "# rebuild in gui\n",
    "gui.rebuild()\n",
    "gui.autoscale()"
   ],
   "metadata": {
    "collapsed": false
   }
  },
  {
   "cell_type": "code",
   "execution_count": 7,
   "outputs": [
    {
     "data": {
      "text/plain": "{'short_segments_to_not_fillet': 'True',\n 'check_short_segments_by_scaling_fillet': '2.0',\n 'gds_unit': 0.001,\n 'ground_plane': 'True',\n 'negative_mask': {'Q_chip': []},\n 'fabricate': 'False',\n 'corners': 'circular bend',\n 'tolerance': '0.00001',\n 'precision': '0.000000001',\n 'width_LineString': '10um',\n 'path_filename': '../resources/Fake_Junctions.GDS',\n 'junction_pad_overlap': '5um',\n 'max_points': '199',\n 'cheese': {'datatype': '100',\n  'shape': '0',\n  'cheese_0_x': '25um',\n  'cheese_0_y': '25um',\n  'cheese_1_radius': '100um',\n  'view_in_file': {'Q_chip': {1: True}},\n  'delta_x': '100um',\n  'delta_y': '100um',\n  'edge_nocheese': '200um'},\n 'no_cheese': {'datatype': '99',\n  'buffer': '25um',\n  'cap_style': '2',\n  'join_style': '2',\n  'view_in_file': {'Q_chip': {1: True}}},\n 'bounding_box_scale_x': '1.2',\n 'bounding_box_scale_y': '1.2'}"
     },
     "execution_count": 7,
     "metadata": {},
     "output_type": "execute_result"
    }
   ],
   "source": [
    "a_gds = design.renderers.gds\n",
    "a_gds.options.negative_mask = {'Q_chip': []}\n",
    "a_gds.options.cheese.view_in_file =  {'Q_chip': {1: True}, 'C_chip':{1:True}}\n",
    "a_gds.options.no_cheese.view_in_file =  {'Q_chip': {1: True}, 'C_chip':{1:True}}\n",
    "a_gds.options"
   ],
   "metadata": {
    "collapsed": false
   }
  },
  {
   "cell_type": "code",
   "execution_count": 8,
   "outputs": [
    {
     "name": "stderr",
     "output_type": "stream",
     "text": [
      "11:48AM 04s WARNING [_import_junctions_to_one_cell]: Not able to find file:\"../resources/Fake_Junctions.GDS\".  Not used to replace junction. Checked directory:\"C:\\Users\\CJZ\\PycharmProjects\\resources\".\n",
      "11:48AM 04s WARNING [_import_junctions_to_one_cell]: Not able to find file:\"../resources/Fake_Junctions.GDS\".  Not used to replace junction. Checked directory:\"C:\\Users\\CJZ\\PycharmProjects\\resources\".\n",
      "11:48AM 04s WARNING [_check_either_cheese]: Chip=C_chip is not either in no_cheese_view_in_file or cheese_view_in_file from self.options.\n",
      "11:48AM 04s WARNING [_check_either_cheese]: Chip=C_chip is not either in no_cheese_view_in_file or cheese_view_in_file from self.options.\n"
     ]
    },
    {
     "data": {
      "text/plain": "1"
     },
     "execution_count": 8,
     "metadata": {},
     "output_type": "execute_result"
    }
   ],
   "source": [
    "a_gds.export_to_gds('flip_chip_test.gds')"
   ],
   "metadata": {
    "collapsed": false
   }
  },
  {
   "cell_type": "code",
   "execution_count": 18,
   "outputs": [
    {
     "data": {
      "text/plain": "(4, 2)"
     },
     "execution_count": 18,
     "metadata": {},
     "output_type": "execute_result"
    }
   ],
   "source": [
    "x = np.array([1,2])\n",
    "y = np.array([2,2])\n",
    "z = np.array([2,3])\n",
    "h = np.array([3,7])\n",
    "xs,ys = x+y\n",
    "xs,ys\n",
    "\n",
    "np.array([x,y,z,h]).shape"
   ],
   "metadata": {
    "collapsed": false
   }
  },
  {
   "cell_type": "code",
   "execution_count": 9,
   "outputs": [
    {
     "data": {
      "text/plain": "array([6.123234e-17, 1.000000e+00])"
     },
     "execution_count": 9,
     "metadata": {},
     "output_type": "execute_result"
    }
   ],
   "source": [
    "def  vector_rotation(vec,angle):\n",
    "    theta = np.deg2rad(angle)\n",
    "    rot = np.array([[math.cos(theta), -math.sin(theta)], [math.sin(theta), math.cos(theta)]])\n",
    "    return np.dot(rot,vec)\n",
    "\n",
    "v = np.array([1, 0])\n",
    "vector_rotation(v,90)"
   ],
   "metadata": {
    "collapsed": false
   }
  },
  {
   "cell_type": "code",
   "execution_count": 2,
   "outputs": [
    {
     "name": "stdout",
     "output_type": "stream",
     "text": [
      "2\n",
      "3\n",
      "1\n",
      "4\n"
     ]
    }
   ],
   "source": [
    "for i in [2,3,1,4]:\n",
    "    print(i)"
   ],
   "metadata": {
    "collapsed": false
   }
  },
  {
   "cell_type": "code",
   "execution_count": 1,
   "outputs": [
    {
     "data": {
      "text/plain": "4"
     },
     "execution_count": 1,
     "metadata": {},
     "output_type": "execute_result"
    }
   ],
   "source": [
    "int(4.5)"
   ],
   "metadata": {
    "collapsed": false
   }
  },
  {
   "cell_type": "code",
   "execution_count": 8,
   "outputs": [
    {
     "ename": "TypeError",
     "evalue": "can't multiply sequence by non-int of type 'list'",
     "output_type": "error",
     "traceback": [
      "\u001B[1;31m---------------------------------------------------------------------------\u001B[0m",
      "\u001B[1;31mTypeError\u001B[0m                                 Traceback (most recent call last)",
      "\u001B[1;32m~\\AppData\\Local\\Temp\\ipykernel_1728\\1826428525.py\u001B[0m in \u001B[0;36m<module>\u001B[1;34m\u001B[0m\n\u001B[1;32m----> 1\u001B[1;33m \u001B[0mx\u001B[0m\u001B[1;33m,\u001B[0m\u001B[0my\u001B[0m \u001B[1;33m=\u001B[0m\u001B[1;33m[\u001B[0m\u001B[1;36m1\u001B[0m\u001B[1;33m,\u001B[0m\u001B[1;36m2\u001B[0m\u001B[1;33m]\u001B[0m\u001B[1;33m*\u001B[0m \u001B[1;33m[\u001B[0m\u001B[1;36m2\u001B[0m\u001B[1;33m,\u001B[0m\u001B[1;36m3\u001B[0m\u001B[1;33m]\u001B[0m\u001B[1;33m\u001B[0m\u001B[1;33m\u001B[0m\u001B[0m\n\u001B[0m\u001B[0;32m      2\u001B[0m \u001B[1;31m# x0 = x+3\u001B[0m\u001B[1;33m\u001B[0m\u001B[1;33m\u001B[0m\u001B[0m\n\u001B[0;32m      3\u001B[0m \u001B[1;31m# np.concatenate([x,x0])\u001B[0m\u001B[1;33m\u001B[0m\u001B[1;33m\u001B[0m\u001B[0m\n\u001B[0;32m      4\u001B[0m \u001B[0mx\u001B[0m\u001B[1;33m,\u001B[0m\u001B[0my\u001B[0m\u001B[1;33m\u001B[0m\u001B[1;33m\u001B[0m\u001B[0m\n",
      "\u001B[1;31mTypeError\u001B[0m: can't multiply sequence by non-int of type 'list'"
     ]
    }
   ],
   "source": [
    "x,y =[1,2]* np.array([2,3])\n",
    "# x0 = x+3\n",
    "# np.concatenate([x,x0])\n",
    "x,y"
   ],
   "metadata": {
    "collapsed": false
   }
  },
  {
   "cell_type": "code",
   "execution_count": 6,
   "outputs": [
    {
     "data": {
      "text/plain": "array([ 0, 19, 20, 21, 22,  1])"
     },
     "execution_count": 6,
     "metadata": {},
     "output_type": "execute_result"
    }
   ],
   "source": [
    "flip_resonator_list = np.array([0,19,20,21,22])\n",
    "# for i in range(3):\n",
    "#     flip_resonator_list = np.concatenate([flip_resonator_list,flip_resonator_list+23])\n",
    "flip_resonator_list=np.append(flip_resonator_list,1)\n",
    "flip_resonator_list"
   ],
   "metadata": {
    "collapsed": false
   }
  },
  {
   "cell_type": "code",
   "execution_count": 9,
   "outputs": [
    {
     "name": "stdout",
     "output_type": "stream",
     "text": [
      "0\n",
      "19\n",
      "20\n",
      "21\n",
      "22\n",
      "23\n",
      "42\n",
      "43\n",
      "44\n",
      "45\n",
      "23\n",
      "42\n",
      "43\n",
      "44\n",
      "45\n",
      "46\n",
      "65\n",
      "66\n",
      "67\n",
      "68\n",
      "23\n",
      "42\n",
      "43\n",
      "44\n",
      "45\n",
      "46\n",
      "65\n",
      "66\n",
      "67\n",
      "68\n",
      "46\n",
      "65\n",
      "66\n",
      "67\n",
      "68\n",
      "69\n",
      "88\n",
      "89\n",
      "90\n",
      "91\n"
     ]
    }
   ],
   "source": [
    "for i in flip_resonator_list:\n",
    "    print(i)"
   ],
   "metadata": {
    "collapsed": false
   }
  },
  {
   "cell_type": "code",
   "execution_count": 5,
   "outputs": [
    {
     "name": "stdout",
     "output_type": "stream",
     "text": [
      "OK\n"
     ]
    }
   ],
   "source": [
    "n=10\n",
    "# if n not in [8, 9]:\n",
    "#     print('error')\n",
    "# else:\n",
    "#     print('OK')\n",
    "\n",
    "\n",
    "if n == 8 or n==9:\n",
    "    print('error')\n",
    "else:\n",
    "    print('OK')"
   ],
   "metadata": {
    "collapsed": false
   }
  },
  {
   "cell_type": "code",
   "execution_count": 7,
   "outputs": [
    {
     "data": {
      "text/plain": "array([-6.123234e-17, -1.000000e+00])"
     },
     "execution_count": 7,
     "metadata": {},
     "output_type": "execute_result"
    }
   ],
   "source": [
    "def  vector_rotation(vec,angle):\n",
    "    theta = np.deg2rad(angle)\n",
    "    rot = np.array([[math.cos(theta), -math.sin(theta)], [math.sin(theta), math.cos(theta)]])\n",
    "    return np.dot(rot,vec)\n",
    "\n",
    "a = np.array([-1,0])\n",
    "b = vector_rotation(a,90)\n",
    "b"
   ],
   "metadata": {
    "collapsed": false
   }
  },
  {
   "cell_type": "code",
   "execution_count": 8,
   "outputs": [
    {
     "data": {
      "text/plain": "[1, 2, 3, 4]"
     },
     "execution_count": 8,
     "metadata": {},
     "output_type": "execute_result"
    }
   ],
   "source": [
    "a=[1,2]\n",
    "b=[3,4]\n",
    "c=a+b\n",
    "c"
   ],
   "metadata": {
    "collapsed": false
   }
  },
  {
   "cell_type": "code",
   "execution_count": 5,
   "outputs": [
    {
     "data": {
      "text/plain": "-1"
     },
     "execution_count": 5,
     "metadata": {},
     "output_type": "execute_result"
    }
   ],
   "source": [
    "a = -10\n",
    "np.sign(a)"
   ],
   "metadata": {
    "collapsed": false
   }
  },
  {
   "cell_type": "code",
   "execution_count": 3,
   "outputs": [
    {
     "data": {
      "text/plain": "3.141592653589793"
     },
     "execution_count": 3,
     "metadata": {},
     "output_type": "execute_result"
    }
   ],
   "source": [
    "math.pi"
   ],
   "metadata": {
    "collapsed": false
   }
  },
  {
   "cell_type": "code",
   "execution_count": null,
   "outputs": [],
   "source": [],
   "metadata": {
    "collapsed": false
   }
  }
 ],
 "metadata": {
  "kernelspec": {
   "display_name": "Python 3",
   "language": "python",
   "name": "python3"
  },
  "language_info": {
   "codemirror_mode": {
    "name": "ipython",
    "version": 2
   },
   "file_extension": ".py",
   "mimetype": "text/x-python",
   "name": "python",
   "nbconvert_exporter": "python",
   "pygments_lexer": "ipython2",
   "version": "2.7.6"
  }
 },
 "nbformat": 4,
 "nbformat_minor": 0
}
