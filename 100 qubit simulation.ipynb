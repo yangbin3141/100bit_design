{
 "cells": [
  {
   "cell_type": "code",
   "execution_count": 2,
   "metadata": {
    "collapsed": true
   },
   "outputs": [],
   "source": [
    "# automatic reloading of modules when they change.\n",
    "%load_ext autoreload\n",
    "%autoreload 2"
   ]
  },
  {
   "cell_type": "code",
   "execution_count": 3,
   "outputs": [],
   "source": [
    "from qiskit_metal import draw, Dict\n",
    "from qiskit_metal.qlibrary.core import BaseQubit\n",
    "from qiskit_metal.toolbox_metal import math_and_overrides\n",
    "from qiskit_metal.qlibrary.core import QComponent\n",
    "from qiskit_metal.draw import LineString\n",
    "from qiskit_metal.qlibrary.core.qroute import QRouteLead, QRoutePoint, QRoute\n",
    "from qiskit_metal.qlibrary.tlines.straight_path import RouteStraight\n",
    "from qiskit_metal.qlibrary.terminations.open_to_ground import OpenToGround\n",
    "from  qiskit_metal.qlibrary.terminations.short_to_ground import ShortToGround\n",
    "from qiskit_metal.qlibrary.qubits.transmon_cross_fl import TransmonCrossFL\n",
    "from qiskit_metal.qlibrary.user_components.my_qcomponent import TransmonCrossRound,TransmonCrossRound_v1\n",
    "from qiskit_metal.qlibrary.couplers.coupled_line_tee import CoupledLineTee\n",
    "from qiskit_metal.qlibrary.tlines.meandered import RouteMeander\n",
    "from collections import  OrderedDict\n",
    "import  math\n",
    "import numpy as np\n",
    "import qiskit_metal as metal"
   ],
   "metadata": {
    "collapsed": false
   }
  },
  {
   "cell_type": "code",
   "execution_count": 4,
   "outputs": [
    {
     "name": "stdout",
     "output_type": "stream",
     "text": [
      "\n",
      "Qiskit Metal        0.1.2\n",
      "\n",
      "Basic\n",
      "____________________________________\n",
      " Python              3.9.13 (main, Aug 25 2022, 23:51:50) [MSC v.1916 64 bit (AMD64)]\n",
      " Platform            Windows AMD64\n",
      " Installation path   C:\\Users\\CJZ\\anaconda3\\lib\\site-packages\\qiskit_metal\n",
      "\n",
      "Packages\n",
      "____________________________________\n",
      " Numpy               1.21.5\n",
      " Qutip               4.7.1\n",
      "\n",
      "Rendering\n",
      "____________________________________\n",
      " Matplotlib          3.5.2\n",
      "\n",
      "GUI\n",
      "____________________________________\n",
      " PySide2 version     5.15.2.1\n",
      " Qt version          5.15.2\n",
      " SIP version         4.19.13\n",
      "\n",
      "IBM Quantum Team\n"
     ]
    },
    {
     "data": {
      "text/plain": "'\\nQiskit Metal        0.1.2\\n\\nBasic\\n____________________________________\\n Python              3.9.13 (main, Aug 25 2022, 23:51:50) [MSC v.1916 64 bit (AMD64)]\\n Platform            Windows AMD64\\n Installation path   C:\\\\Users\\\\CJZ\\\\anaconda3\\\\lib\\\\site-packages\\\\qiskit_metal\\n\\nPackages\\n____________________________________\\n Numpy               1.21.5\\n Qutip               4.7.1\\n\\nRendering\\n____________________________________\\n Matplotlib          3.5.2\\n\\nGUI\\n____________________________________\\n PySide2 version     5.15.2.1\\n Qt version          5.15.2\\n SIP version         4.19.13\\n\\nIBM Quantum Team'"
     },
     "execution_count": 4,
     "metadata": {},
     "output_type": "execute_result"
    }
   ],
   "source": [
    "metal.about()"
   ],
   "metadata": {
    "collapsed": false
   }
  },
  {
   "cell_type": "code",
   "execution_count": 3,
   "outputs": [],
   "source": [
    "import qiskit_metal as metal\n",
    "design = metal.designs.DesignPlanar()\n",
    "gui = metal.MetalGUI(design)\n",
    "design.chips.main.size['size_x'] = '2mm'\n",
    "design.chips.main.size['size_y'] = '2mm'\n",
    "design.chips['main']['material'] = 'sapphire'\n",
    "design.variables.cpw_gap='4 um'\n",
    "design.variables.cpw_width = '8 um'\n",
    "design.overwrite_enabled = True"
   ],
   "metadata": {
    "collapsed": false
   }
  },
  {
   "cell_type": "code",
   "execution_count": 4,
   "outputs": [],
   "source": [
    "xmon_round = TransmonCrossRound_v1(design,'my_xmon_round', options=Dict(radius = '0 um', connection_pads=dict(\n",
    "                      bus_02=dict(claw_length='61um',ground_spacing='3um', claw_width='8um',claw_gap='4um',connector_location='90'),\n",
    "                      )))\n",
    "# Add hanger consisting of capacitively coupled transmission lines.\n",
    "TQ1 = CoupledLineTee(design, 'TQ1', options=Dict(pos_x='15.02um', pos_y='1.611 mm', coupling_length='284um', coupling_space='3um',\n",
    "                                                 prime_width = '10um', prime_gap = '5um', second_width = '8um', second_gap = '4um', down_length='200um',fillet='34um',mirror=True,\n",
    "                                                 open_termination = False))\n",
    "\n",
    "pos_y = TQ1.options.pos_y\n",
    "\n",
    "otg1 = OpenToGround(design, 'otg1', options=Dict(pos_x='-0.347mm', pos_y=pos_y,  orientation='180'))\n",
    "otg2 = OpenToGround(design,\n",
    "                    'otg2',\n",
    "                    options=Dict(pos_x='0.347mm', pos_y=pos_y,width='10um',gap='5um',))\n",
    "\n",
    "\n",
    "gui.rebuild()\n",
    "gui.autoscale()"
   ],
   "metadata": {
    "collapsed": false
   }
  },
  {
   "cell_type": "code",
   "execution_count": 138,
   "outputs": [],
   "source": [
    "# TQ1.options"
   ],
   "metadata": {
    "collapsed": false
   }
  },
  {
   "cell_type": "code",
   "execution_count": 5,
   "outputs": [],
   "source": [
    "ops_oL = Dict(hfss_wire_bonds=True,\n",
    "              pin_inputs=Dict(start_pin=Dict(component='TQ1',\n",
    "                                             pin='prime_start'),\n",
    "                              end_pin=Dict(component='otg1', pin='open')),trace_width='10um',trace_gap='5um')\n",
    "\n",
    "ops_oR = Dict(hfss_wire_bonds=True,\n",
    "              pin_inputs=Dict(start_pin=Dict(component='TQ1', pin='prime_end'),\n",
    "                              end_pin=Dict(component='otg2', pin='open')),trace_width='10um',trace_gap='5um')\n",
    "\n",
    "cpw_openLeft = RouteStraight(design, 'cpw_openLeft', options=ops_oL)\n",
    "cpw_openRight = RouteStraight(design, 'cpw_openRight', options=ops_oR)\n",
    "\n",
    "# -----------------------------------------------------------------------------------------------------\n",
    "fillet = 0.034\n",
    "ops = Dict(fillet=fillet)\n",
    "\n",
    "jogsS = OrderedDict()\n",
    "jogsS[0] = [\"R\", '0.1um']\n",
    "\n",
    "qubit_cpw_length =4*design.components['my_xmon_round'].parse_options().connection_pads.bus_02.claw_width-0.004\n",
    "TQ_length =design.components['TQ1'].parse_options().down_length+design.components['TQ1'].parse_options().coupling_length-2*fillet+(math.pi/2)*fillet\n",
    "whole_length = 4.5975452-0.0028520*2-0.002633*2\n",
    "total_length = whole_length-(qubit_cpw_length+TQ_length)\n",
    "\n",
    "start_straight = 0.15-qubit_cpw_length+fillet\n",
    "\n",
    "options = Dict(total_length=total_length,\n",
    "                hfss_wire_bonds=True,\n",
    "                pin_inputs=Dict(end_pin=Dict(component='TQ1',\n",
    "                                               pin='second_end'),\n",
    "                                start_pin=Dict(component='my_xmon_round', pin='bus_02')),\n",
    "               meander=Dict(spacing='68.000001um'),\n",
    "                lead=Dict(start_straight=start_straight,start_jogged_extension=jogsS),\n",
    "                **ops)\n",
    "\n",
    "\n",
    "\n",
    "meanderQ= RouteMeander(design, 'meanderQ1', options=options)\n",
    "gui.rebuild()\n",
    "gui.autoscale()\n",
    "\n"
   ],
   "metadata": {
    "collapsed": false
   }
  },
  {
   "cell_type": "code",
   "execution_count": 163,
   "outputs": [
    {
     "data": {
      "text/plain": "0.3"
     },
     "execution_count": 163,
     "metadata": {},
     "output_type": "execute_result"
    }
   ],
   "source": [
    "# design.components['my_xmon_round'].parse_options().connection_pads.bus_02.claw_width\n",
    "# design.components['TQ1'].parse_options().coupling_length\n",
    "# design.components['TQ1'].parse_options().down_length"
   ],
   "metadata": {
    "collapsed": false
   }
  },
  {
   "cell_type": "code",
   "execution_count": 201,
   "outputs": [
    {
     "data": {
      "text/plain": "{'chip': 'main',\n 'layer': '1',\n 'pin_inputs': {'start_pin': {'component': 'TQ1', 'pin': 'prime_end'},\n  'end_pin': {'component': 'otg2', 'pin': 'open'}},\n 'fillet': '0',\n 'lead': {'start_straight': '0mm',\n  'end_straight': '0mm',\n  'start_jogged_extension': '',\n  'end_jogged_extension': ''},\n 'total_length': '7mm',\n 'trace_width': '10um',\n 'hfss_wire_bonds': True,\n 'q3d_wire_bonds': False,\n 'trace_gap': '5um',\n '_actual_length': '0.04797999999999997 mm'}"
     },
     "execution_count": 201,
     "metadata": {},
     "output_type": "execute_result"
    }
   ],
   "source": [
    "cpw_openRight.options"
   ],
   "metadata": {
    "collapsed": false
   }
  },
  {
   "cell_type": "code",
   "execution_count": 9,
   "outputs": [
    {
     "data": {
      "text/plain": "{'short_segments_to_not_fillet': 'True',\n 'check_short_segments_by_scaling_fillet': 2.0,\n 'gds_unit': 0.001,\n 'ground_plane': 'True',\n 'negative_mask': {'main': [1]},\n 'fabricate': 'True',\n 'corners': 'circular bend',\n 'tolerance': '0.00001',\n 'precision': '0.000000001',\n 'width_LineString': '10um',\n 'path_filename': '../resources/Fake_Junctions.GDS',\n 'junction_pad_overlap': '5um',\n 'max_points': '199',\n 'cheese': {'datatype': '100',\n  'shape': '0',\n  'cheese_0_x': '25um',\n  'cheese_0_y': '25um',\n  'cheese_1_radius': '100um',\n  'view_in_file': {'main': {1: False}},\n  'delta_x': '100um',\n  'delta_y': '100um',\n  'edge_nocheese': '200um'},\n 'no_cheese': {'datatype': '99',\n  'buffer': '25um',\n  'cap_style': '2',\n  'join_style': '2',\n  'view_in_file': {'main': {1: False}}},\n 'bounding_box_scale_x': '1.2',\n 'bounding_box_scale_y': '1.2'}"
     },
     "execution_count": 9,
     "metadata": {},
     "output_type": "execute_result"
    }
   ],
   "source": [
    "a_gds = design.renderers.gds\n",
    "a_gds.options"
   ],
   "metadata": {
    "collapsed": false
   }
  },
  {
   "cell_type": "code",
   "execution_count": 11,
   "outputs": [
    {
     "name": "stderr",
     "output_type": "stream",
     "text": [
      "05:42PM 06s WARNING [_import_junctions_to_one_cell]: Not able to find file:\"../resources/Fake_Junctions.GDS\".  Not used to replace junction. Checked directory:\"C:\\Users\\CJZ\\PycharmProjects\\resources\".\n"
     ]
    },
    {
     "data": {
      "text/plain": "1"
     },
     "execution_count": 11,
     "metadata": {},
     "output_type": "execute_result"
    }
   ],
   "source": [
    "a_gds.options['short_segments_to_not_fillet'] = 'True'\n",
    "a_gds.options['fabricate']='True'\n",
    "scale_fillet = 2.0\n",
    "a_gds.options['check_short_segments_by_scaling_fillet'] = scale_fillet\n",
    "a_gds.options.negative_mask = {'main': [1,]}\n",
    "# a_gds.options.cheese.shape = '1'\n",
    "# a_gds.options.cheese.delta_x = '200um'\n",
    "# a_gds.options.cheese.delta_y = '200um'\n",
    "# a_gds.options.cheese.edge_nocheese = '200 um'\n",
    "# a_gds.options.no_cheese.buffer = '50 um'\n",
    "# a_gds.options.cheese.cheese_1_radius = '25 um'\n",
    "a_gds.options.cheese.view_in_file =  {'main': {1: False, },}\n",
    "a_gds.options.no_cheese.view_in_file =  {'main': {1: False}, }\n",
    "a_gds.export_to_gds('100qubit_simulation_v7.gds')"
   ],
   "metadata": {
    "collapsed": false
   }
  }
 ],
 "metadata": {
  "kernelspec": {
   "display_name": "Python 3",
   "language": "python",
   "name": "python3"
  },
  "language_info": {
   "codemirror_mode": {
    "name": "ipython",
    "version": 2
   },
   "file_extension": ".py",
   "mimetype": "text/x-python",
   "name": "python",
   "nbconvert_exporter": "python",
   "pygments_lexer": "ipython2",
   "version": "2.7.6"
  }
 },
 "nbformat": 4,
 "nbformat_minor": 0
}
