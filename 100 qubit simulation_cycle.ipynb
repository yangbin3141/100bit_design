{
 "cells": [
  {
   "cell_type": "code",
   "execution_count": 1,
   "metadata": {
    "ExecuteTime": {
     "end_time": "2023-05-22T15:31:00.705412Z",
     "start_time": "2023-05-22T15:31:00.647418Z"
    },
    "collapsed": true
   },
   "outputs": [],
   "source": [
    "# automatic reloading of modules when they change.\n",
    "%load_ext autoreload\n",
    "%autoreload 2"
   ]
  },
  {
   "cell_type": "code",
   "execution_count": 2,
   "metadata": {
    "ExecuteTime": {
     "end_time": "2023-05-22T15:31:04.618416Z",
     "start_time": "2023-05-22T15:31:00.673415Z"
    }
   },
   "outputs": [],
   "source": [
    "from qiskit_metal import draw, Dict\n",
    "from qiskit_metal.qlibrary.core import BaseQubit\n",
    "from qiskit_metal.toolbox_metal import math_and_overrides\n",
    "from qiskit_metal.qlibrary.core import QComponent\n",
    "from qiskit_metal.draw import LineString\n",
    "from qiskit_metal.qlibrary.core.qroute import QRouteLead, QRoutePoint, QRoute\n",
    "from qiskit_metal.qlibrary.tlines.straight_path import RouteStraight\n",
    "from qiskit_metal.qlibrary.terminations.open_to_ground import OpenToGround\n",
    "from  qiskit_metal.qlibrary.terminations.short_to_ground import ShortToGround\n",
    "from qiskit_metal.qlibrary.qubits.transmon_cross_fl import TransmonCrossFL\n",
    "from qiskit_metal.qlibrary.user_components.my_qcomponent import TransmonCrossRound,TransmonCrossRound_v1,TransmonCrossRound_v2\n",
    "from qiskit_metal.qlibrary.couplers.coupled_line_tee import CoupledLineTee\n",
    "from qiskit_metal.qlibrary.tlines.meandered import RouteMeander\n",
    "from collections import  OrderedDict\n",
    "import  math\n",
    "import pyEPR as epr\n",
    "from qiskit_metal.analyses.quantization import EPRanalysis\n",
    "import numpy as np\n",
    "import qiskit_metal as metal\n"
   ]
  },
  {
   "cell_type": "code",
   "execution_count": 3,
   "metadata": {
    "ExecuteTime": {
     "end_time": "2023-05-22T15:31:04.683417Z",
     "start_time": "2023-05-22T15:31:04.618416Z"
    }
   },
   "outputs": [],
   "source": [
    "# metal.about()"
   ]
  },
  {
   "cell_type": "code",
   "execution_count": 4,
   "metadata": {
    "ExecuteTime": {
     "end_time": "2023-05-22T15:31:05.697411Z",
     "start_time": "2023-05-22T15:31:04.684417Z"
    }
   },
   "outputs": [],
   "source": [
    "import qiskit_metal as metal\n",
    "design = metal.designs.DesignPlanar()\n",
    "gui = metal.MetalGUI(design)\n",
    "design.chips.main.size['size_x'] = '0.754655mm'\n",
    "design.chips.main.size['size_y'] = '2.0279760mm'\n",
    "# design.chips.main.size['center_x'] = '-0.0060855mm'\n",
    "# design.chips.main.size['center_y'] = '0.771655mm'\n",
    "\n",
    "design.chips['main']['material'] = 'sapphire'\n",
    "design.variables.cpw_gap='4 um'\n",
    "design.variables.cpw_width = '8 um'\n",
    "design.overwrite_enabled = True"
   ]
  },
  {
   "cell_type": "code",
   "execution_count": 5,
   "metadata": {
    "ExecuteTime": {
     "end_time": "2023-05-22T15:31:05.768412Z",
     "start_time": "2023-05-22T15:31:05.698411Z"
    }
   },
   "outputs": [],
   "source": [
    "# design.chips.main"
   ]
  },
  {
   "cell_type": "code",
   "execution_count": 6,
   "metadata": {
    "ExecuteTime": {
     "end_time": "2023-05-22T15:31:06.497412Z",
     "start_time": "2023-05-22T15:31:05.772417Z"
    }
   },
   "outputs": [],
   "source": [
    "\n",
    "xmon_round = TransmonCrossRound_v1(design,'my_xmon_round', options=Dict(radius = '0 um', connection_pads=dict(\n",
    "                      bus_02=dict(claw_length='61um',ground_spacing='3um', claw_width='8um',claw_gap='4um',connector_location='90'),\n",
    "                      )))\n",
    "# xmon_round = TransmonCrossRound_v2(design,'my_xmon_round', options=Dict(cross_length='154um',radius = '0 um', connection_pads=dict(\n",
    "#                       bus_02=dict(claw_length='66um',ground_spacing='3um', claw_width='8um',claw_gap='4um',connector_location='90'),\n",
    "#                       )))\n",
    "# Add hanger consisting of capacitively coupled transmission lines.\n",
    "TQ1 = CoupledLineTee(design, 'TQ1', options=Dict(pos_x='15.02um', pos_y='1.611 mm', coupling_length='284um', coupling_space='3um',\n",
    "                                                 prime_width = '10um', prime_gap = '5um', second_width = '8um', second_gap = '4um', down_length='200um',fillet='34um',mirror=True,\n",
    "                                                 open_termination = False,hfss_wire_bonds=False))\n",
    "\n",
    "pos_y = TQ1.options.pos_y\n",
    "\n",
    "otg1 = OpenToGround(design, 'otg1', options=Dict(pos_x='-0.347mm', pos_y=pos_y,  orientation='180',width='10um',gap='5um'))\n",
    "otg2 = OpenToGround(design,\n",
    "                    'otg2',\n",
    "                    options=Dict(pos_x='0.347mm', pos_y=pos_y,width='10um',gap='5um',))\n",
    "\n",
    "\n",
    "gui.rebuild()\n",
    "gui.autoscale()"
   ]
  },
  {
   "cell_type": "code",
   "execution_count": 7,
   "metadata": {
    "ExecuteTime": {
     "end_time": "2023-05-22T15:31:06.570412Z",
     "start_time": "2023-05-22T15:31:06.498412Z"
    }
   },
   "outputs": [],
   "source": [
    "# TQ1.pins\n",
    "# xmon_round.pins"
   ]
  },
  {
   "cell_type": "code",
   "execution_count": 8,
   "metadata": {
    "ExecuteTime": {
     "end_time": "2023-05-22T15:31:07.245411Z",
     "start_time": "2023-05-22T15:31:06.570412Z"
    }
   },
   "outputs": [],
   "source": [
    "ops_oL = Dict(hfss_wire_bonds=False,\n",
    "              pin_inputs=Dict(start_pin=Dict(component='TQ1',\n",
    "                                             pin='prime_start'),\n",
    "                              end_pin=Dict(component='otg1', pin='open')),trace_width='10um',trace_gap='5um')\n",
    "\n",
    "ops_oR = Dict(hfss_wire_bonds=False,\n",
    "              pin_inputs=Dict(start_pin=Dict(component='TQ1', pin='prime_end'),\n",
    "                              end_pin=Dict(component='otg2', pin='open')),trace_width='10um',trace_gap='5um')\n",
    "\n",
    "cpw_openLeft = RouteStraight(design, 'cpw_openLeft', options=ops_oL)\n",
    "cpw_openRight = RouteStraight(design, 'cpw_openRight', options=ops_oR)\n",
    "\n",
    "# -----------------------------------------------------------------------------------------------------\n",
    "fillet = 0.034\n",
    "# ops = Dict(fillet=fillet)\n",
    "\n",
    "jogsS = OrderedDict()\n",
    "jogsS[0] = [\"R\", '0um']\n",
    "\n",
    "# spacing = 0.068000001\n",
    "# spacing = 0.068001\n",
    "spacing = 0.06801\n",
    "qubit_cpw_length =4*design.components['my_xmon_round'].parse_options().connection_pads.bus_02.claw_width-0.004\n",
    "TQ_length =design.components['TQ1'].parse_options().down_length+design.components['TQ1'].parse_options().coupling_length-2*fillet+(math.pi/2)*fillet\n",
    "whole_length = 4.59754517821977\n",
    "total_length = whole_length-(qubit_cpw_length+TQ_length)\n",
    "\n",
    "start_straight = 0.15-qubit_cpw_length+fillet\n",
    "\n",
    "l1 = start_straight-fillet\n",
    "l2 = TQ1.pins.second_end.middle[1]-xmon_round.pins.bus_02.middle[1]-start_straight-13*spacing-fillet\n",
    "arc_length = 14*math.pi*fillet\n",
    "l3 = TQ1.parse_options().coupling_length/2-TQ1.parse_options().pos_x\n",
    "excess_length = total_length-arc_length-l1-l2\n",
    "asymmetry = (27*l3-28*fillet-excess_length)/28\n",
    "L1 = 2*(l3-fillet-asymmetry)\n",
    "L2 = l3-2*fillet-2*asymmetry\n",
    "\n",
    "options = Dict(total_length=total_length,\n",
    "                hfss_wire_bonds=False,\n",
    "                pin_inputs=Dict(end_pin=Dict(component='TQ1',\n",
    "                                               pin='second_end'),\n",
    "                                start_pin=Dict(component='my_xmon_round', pin='bus_02')),\n",
    "               meander=Dict(spacing=spacing,asymmetry=asymmetry),\n",
    "                lead=Dict(start_straight=start_straight,start_jogged_extension=jogsS),\n",
    "              fillet=fillet)\n",
    "\n",
    "\n",
    "\n",
    "meanderQ= RouteMeander(design, 'meanderQ1', options=options)\n",
    "gui.rebuild()\n",
    "gui.autoscale()\n",
    "\n"
   ]
  },
  {
   "cell_type": "code",
   "execution_count": null,
   "metadata": {
    "ExecuteTime": {
     "end_time": "2023-05-22T15:37:35.246065Z",
     "start_time": "2023-05-22T15:31:58.558531Z"
    },
    "pycharm": {
     "is_executing": true
    }
   },
   "outputs": [],
   "source": [
    "# search for freq by gradient\n",
    "\n",
    "%%time\n",
    "\n",
    "from qiskit_metal.analyses.em.cpw_calculations import guided_wavelength\n",
    "\n",
    "def find_resonator_length(frequency,line_width,line_gap,N):\n",
    "    [lambdaG,etfSqrt,q]=guided_wavelength(frequency*10**9,line_width*10**-6,line_gap*10**-6,500*10**-6,100*10**-9,10)\n",
    "    return  lambdaG/N*10**3\n",
    "# find_resonator_length(frequency=6.36,line_width=8,line_gap=4,N=4)\n",
    "\n",
    "\n",
    "\n",
    "tar_freq= 6.66\n",
    "whole_length = find_resonator_length(frequency=tar_freq,line_width=8,line_gap=4,N=4)\n",
    "total_length = whole_length-(qubit_cpw_length+TQ_length)\n",
    "# total_length = 4.108880921234283\n",
    "# total_length1 = total_length\n",
    "eps = 1.0\n",
    "sim_freq = tar_freq+1e-2\n",
    "n=0\n",
    "# sweep_list = []\n",
    "\n",
    "\n",
    "\n",
    "# eig_qres = EPRanalysis(design, \"hfss\")\n",
    "# hfss = eig_qres.sim.renderer\n",
    "# hfss.start()\n",
    "\n",
    "\n",
    "while abs(sim_freq-tar_freq)>1e-3:\n",
    "        jogsS = OrderedDict()\n",
    "        jogsS[0] = [\"R\", '0um']\n",
    "\n",
    "        # spacing = 0.068000001\n",
    "        # spacing = 0.068001\n",
    "        # spacing = 0.06801\n",
    "        # qubit_cpw_length =4*design.components['my_xmon_round'].parse_options().connection_pads.bus_02.claw_width-0.004\n",
    "        # TQ_length =design.components['TQ1'].parse_options().down_length+design.components['TQ1'].parse_options().coupling_length-2*fillet+(math.pi/2)*fillet\n",
    "        # whole_length = 14.59754517821977\n",
    "        # total_length = whole_length-(qubit_cpw_length+TQ_length)\n",
    "\n",
    "        start_straight = 0.15-qubit_cpw_length+fillet\n",
    "\n",
    "        l1 = start_straight-fillet\n",
    "        l2 = TQ1.pins.second_end.middle[1]-xmon_round.pins.bus_02.middle[1]-start_straight-13*spacing-fillet\n",
    "        arc_length = 14*math.pi*fillet\n",
    "        l3 = TQ1.parse_options().coupling_length/2-TQ1.parse_options().pos_x\n",
    "        excess_length = total_length-arc_length-l1-l2\n",
    "        asymmetry = (27*l3-28*fillet-excess_length)/28\n",
    "        L1 = 2*(l3-fillet-asymmetry)\n",
    "        L2 = l3-2*fillet-2*asymmetry\n",
    "\n",
    "        options = Dict(total_length=total_length,\n",
    "                        hfss_wire_bonds=False,\n",
    "                        pin_inputs=Dict(end_pin=Dict(component='TQ1',\n",
    "                                                       pin='second_end'),\n",
    "                                        start_pin=Dict(component='my_xmon_round', pin='bus_02')),\n",
    "                       meander=Dict(spacing=spacing,asymmetry=asymmetry),\n",
    "                        lead=Dict(start_straight=start_straight,start_jogged_extension=jogsS),\n",
    "                      fillet=fillet)\n",
    "\n",
    "        meanderQ= RouteMeander(design, 'meanderQ1', options=options)\n",
    "        gui.rebuild()\n",
    "        gui.autoscale()\n",
    "\n",
    "\n",
    "        eig_qres = EPRanalysis(design, \"hfss\")\n",
    "        hfss = eig_qres.sim.renderer\n",
    "        hfss.start()\n",
    "        hfss.new_ansys_design(\"XmonReadout_\"+str(n), 'eigenmode')\n",
    "        # hfss.activate_ansys_design(\"XmonReadout_\"+str(n), 'eigenmode')  # use new_ansys_design() to force creation of a blank design\n",
    "        # hfss.start()\n",
    "            ### for render_design()\n",
    "        # Render every QComponent in QDesign.\n",
    "        render_qcomps = []\n",
    "\n",
    "        # Identify which kind of pins in Ansys.\n",
    "        # Follow details from renderer in\n",
    "        # QHFSSRenderer.render_design.\n",
    "        # No pins are open, so don't need to utilize render_endcaps.\n",
    "        open_terminations = []\n",
    "\n",
    "        #List of tuples of jj's that shouldn't be rendered.\n",
    "        #Follow details from renderer in QHFSSRenderer.render_design.\n",
    "        # render_ignored_jjs = []\n",
    "        render_ignored_jjs =[('my_xmon_round', 'rect_jj')]\n",
    "\n",
    "        # Either calculate a bounding box based on the location of\n",
    "        # rendered geometries or use chip size from design class.\n",
    "        box_plus_buffer = True\n",
    "\n",
    "        # eig_qres.sim.setup.name=\"sweeper_em_setup\"\n",
    "        # eig_qres.sim.setup.min_freq_ghz=2\n",
    "        # eig_qres.sim.setup.n_modes=2\n",
    "        # eig_qres.sim.setup.max_passes=19\n",
    "        # eig_qres.sim.setup.min_converged = 2\n",
    "        # eig_qres.sim.setup.max_delta_f = 0.01\n",
    "\n",
    "        eig_qres.setup.junctions.jj.rect = 'JJ_rect_Lj_my_xmon_round_rect_jj'\n",
    "        eig_qres.setup.junctions.jj.line = 'JJ_Lj_my_xmon_round_rect_jj_'\n",
    "\n",
    "\n",
    "        hfss.render_design(selection=[],\n",
    "                       open_pins=[],\n",
    "                       # port_list=[('cpw_openRight', 'end', 50), ('cpw_openLeft', 'end', 50)],\n",
    "                       jj_to_port=[],\n",
    "                       ignored_jjs=render_ignored_jjs,\n",
    "                       box_plus_buffer = True)\n",
    "\n",
    "        setup = hfss.pinfo.setup\n",
    "        setup.n_modes = 2\n",
    "        setup.passes = 4\n",
    "        setup.delta_f=0.01\n",
    "        setup.min_freq = '2GHz'\n",
    "\n",
    "        setup.analyze()\n",
    "        eig_qres.sim.convergence_t, eig_qres.sim.convergence_f, _ = hfss.get_convergences()\n",
    "        sim_freq = eig_qres.sim.convergence_f['re(Mode(2)) [g]'].get(list(eig_qres.sim.convergence_f['re(Mode(2)) [g]'].keys())[-1])\n",
    "        print(f\"{n}th cycle is  complete, the lowest frequency is {sim_freq},the total length is {total_length}\")\n",
    "        tar_length = find_resonator_length(frequency=sim_freq,line_width=8,line_gap=4,N=4)\n",
    "        tar_length1 = find_resonator_length(frequency=sim_freq-1e-3,line_width=8,line_gap=4,N=4)\n",
    "        if abs(tar_freq-sim_freq)<0.01:\n",
    "            l_r =0.5\n",
    "        else:\n",
    "            l_r = 1\n",
    "        grad =l_r* (tar_length-tar_length1)/1e-3\n",
    "        delta_length = grad*(tar_freq-sim_freq)\n",
    "        total_length = total_length+delta_length\n",
    "        n=n+1\n",
    "\n",
    "\n",
    "# eig_qres.sim.close()\n",
    "\n",
    "\n",
    "\n"
   ]
  },
  {
   "cell_type": "code",
   "execution_count": 13,
   "outputs": [],
   "source": [
    "# eig_qres.sim.close()"
   ],
   "metadata": {
    "collapsed": false
   }
  },
  {
   "cell_type": "code",
   "execution_count": null,
   "metadata": {
    "ExecuteTime": {
     "end_time": "2023-05-22T11:51:04.378471Z",
     "start_time": "2023-05-22T11:29:51.560207Z"
    }
   },
   "outputs": [],
   "source": [
    "# sweep search freq by gradient\n",
    "\n",
    "%%time\n",
    "\n",
    "from qiskit_metal.analyses.em.cpw_calculations import guided_wavelength\n",
    "def find_resonator_length(frequency,line_width,line_gap,N):\n",
    "    [lambdaG,etfSqrt,q]=guided_wavelength(frequency*10**9,line_width*10**-6,line_gap*10**-6,500*10**-6,100*10**-9,10)\n",
    "    return  lambdaG/N*10**3\n",
    "# find_resonator_length(frequency=6.36,line_width=8,line_gap=4,N=4)\n",
    "\n",
    "\n",
    "\n",
    "tar_freq= 6.66\n",
    "whole_length = find_resonator_length(frequency=tar_freq,line_width=8,line_gap=4,N=4)\n",
    "total_length = whole_length-(qubit_cpw_length+TQ_length)\n",
    "# total_length = 4.108880921234283\n",
    "total_length1 = total_length\n",
    "eps = 1.0\n",
    "sim_freq = tar_freq+1e-2\n",
    "n=0\n",
    "sweep_list = []\n",
    "\n",
    "while abs(sim_freq-tar_freq)>1e-3:\n",
    "    eig_qres = EPRanalysis(design, \"hfss\")\n",
    "        ### for render_design()\n",
    "    # Render every QComponent in QDesign.\n",
    "    render_qcomps = []\n",
    "\n",
    "    # Identify which kind of pins in Ansys.\n",
    "    # Follow details from renderer in\n",
    "    # QHFSSRenderer.render_design.\n",
    "    # No pins are open, so don't need to utilize render_endcaps.\n",
    "    open_terminations = []\n",
    "\n",
    "    #List of tuples of jj's that shouldn't be rendered.\n",
    "    #Follow details from renderer in QHFSSRenderer.render_design.\n",
    "    # render_ignored_jjs = []\n",
    "    render_ignored_jjs =[('my_xmon_round', 'rect_jj')]\n",
    "\n",
    "    # Either calculate a bounding box based on the location of\n",
    "    # rendered geometries or use chip size from design class.\n",
    "    box_plus_buffer = True\n",
    "\n",
    "    eig_qres.sim.setup.name=\"sweeper_em_setup\"\n",
    "    eig_qres.sim.setup.min_freq_ghz=2\n",
    "    eig_qres.sim.setup.n_modes=2\n",
    "    eig_qres.sim.setup.max_passes=19\n",
    "    eig_qres.sim.setup.min_converged = 2\n",
    "    eig_qres.sim.setup.max_delta_f = 0.01\n",
    "\n",
    "    eig_qres.setup.junctions.jj.rect = 'JJ_rect_Lj_my_xmon_round_rect_jj'\n",
    "    eig_qres.setup.junctions.jj.line = 'JJ_Lj_my_xmon_round_rect_jj_'\n",
    "\n",
    "    total_length1_list = []\n",
    "    total_length1_list.append( total_length1)\n",
    "    all_sweeps, return_code = eig_qres.run_sweep(meanderQ.name,\n",
    "                                            'total_length',\n",
    "                                            total_length1_list,\n",
    "                                            render_qcomps,\n",
    "                                            open_terminations,\n",
    "                                            ignored_jjs=render_ignored_jjs,\n",
    "                                            # port_list=[('cpw_openRight', 'end', 50), ('cpw_openLeft', 'end', 50)],\n",
    "                                            design_name=\"GetEigenModeSolution\",\n",
    "                                            box_plus_buffer=box_plus_buffer\n",
    "                                            )\n",
    "    sweep_list.append(all_sweeps)\n",
    "    sim_freq = all_sweeps[total_length1_list[0]]['sim_variables']['convergence_f']['re(Mode(1)) [g]'][eig_qres.sim.setup.max_passes]\n",
    "    print(f\"{n}th cycle is  complete, the lowest frequency is {sim_freq},the total length is {total_length1}\")\n",
    "    tar_length = find_resonator_length(frequency=sim_freq,line_width=8,line_gap=4,N=4)\n",
    "    tar_length1 = find_resonator_length(frequency=sim_freq-1e-3,line_width=8,line_gap=4,N=4)\n",
    "    if abs(tar_freq-sim_freq)<0.01:\n",
    "        l_r =0.5\n",
    "    else:\n",
    "        l_r = 1\n",
    "    grad =l_r* (tar_length-tar_length1)/1e-3\n",
    "    delta_length = grad*(tar_freq-sim_freq)\n",
    "    total_length1 = total_length1+delta_length\n",
    "    n=n+1\n",
    "    eig_qres.sim.close()\n",
    "\n",
    "\n",
    "\n",
    "print(f\"the closest frequency is {sim_freq}\")"
   ]
  },
  {
   "cell_type": "code",
   "execution_count": null,
   "metadata": {
    "ExecuteTime": {
     "end_time": "2023-05-22T14:31:16.925363Z",
     "start_time": "2023-05-22T14:31:16.855362Z"
    }
   },
   "outputs": [],
   "source": [
    "# eig_qres = EPRanalysis(design, \"hfss\")\n",
    "#\n",
    "# eig_qres.sim.setup\n",
    "# sweep_list[0][4.344709301045363]['sim_variables']['convergence_f']\n",
    "sim_freq = all_sweeps[total_length1_list[0]]\n",
    "sim_freq"
   ]
  },
  {
   "cell_type": "code",
   "execution_count": null,
   "metadata": {
    "ExecuteTime": {
     "end_time": "2023-05-22T11:26:14.482444Z",
     "start_time": "2023-05-22T11:26:14.310444Z"
    },
    "pycharm": {
     "is_executing": true
    }
   },
   "outputs": [],
   "source": [
    "eig_qres.sim.close()"
   ]
  },
  {
   "cell_type": "code",
   "execution_count": 17,
   "metadata": {},
   "outputs": [
    {
     "ename": "KeyboardInterrupt",
     "evalue": "",
     "output_type": "error",
     "traceback": [
      "\u001B[1;31m---------------------------------------------------------------------------\u001B[0m",
      "\u001B[1;31mcom_error\u001B[0m                                 Traceback (most recent call last)",
      "\u001B[1;32m~\\anaconda3\\lib\\site-packages\\win32com\\client\\dynamic.py\u001B[0m in \u001B[0;36m_GetGoodDispatch\u001B[1;34m(IDispatch, clsctx)\u001B[0m\n\u001B[0;32m     85\u001B[0m         \u001B[1;32mtry\u001B[0m\u001B[1;33m:\u001B[0m\u001B[1;33m\u001B[0m\u001B[1;33m\u001B[0m\u001B[0m\n\u001B[1;32m---> 86\u001B[1;33m             \u001B[0mIDispatch\u001B[0m \u001B[1;33m=\u001B[0m \u001B[0mpythoncom\u001B[0m\u001B[1;33m.\u001B[0m\u001B[0mconnect\u001B[0m\u001B[1;33m(\u001B[0m\u001B[0mIDispatch\u001B[0m\u001B[1;33m)\u001B[0m\u001B[1;33m\u001B[0m\u001B[1;33m\u001B[0m\u001B[0m\n\u001B[0m\u001B[0;32m     87\u001B[0m         \u001B[1;32mexcept\u001B[0m \u001B[0mpythoncom\u001B[0m\u001B[1;33m.\u001B[0m\u001B[0mole_error\u001B[0m\u001B[1;33m:\u001B[0m\u001B[1;33m\u001B[0m\u001B[1;33m\u001B[0m\u001B[0m\n",
      "\u001B[1;31mcom_error\u001B[0m: (-2147221021, '操作无法使用', None, None)",
      "\nDuring handling of the above exception, another exception occurred:\n",
      "\u001B[1;31mKeyboardInterrupt\u001B[0m                         Traceback (most recent call last)",
      "\u001B[1;32m<timed exec>\u001B[0m in \u001B[0;36m<module>\u001B[1;34m\u001B[0m\n",
      "\u001B[1;32m~\\anaconda3\\lib\\site-packages\\qiskit_metal\\analyses\\core\\base.py\u001B[0m in \u001B[0;36mrun_sweep\u001B[1;34m(self, *args, **kwargs)\u001B[0m\n\u001B[0;32m    101\u001B[0m             \u001B[0mself\u001B[0m\u001B[1;33m.\u001B[0m\u001B[0m_initialize_sweep\u001B[0m\u001B[1;33m(\u001B[0m\u001B[1;33m)\u001B[0m\u001B[1;33m\u001B[0m\u001B[1;33m\u001B[0m\u001B[0m\n\u001B[0;32m    102\u001B[0m \u001B[1;33m\u001B[0m\u001B[0m\n\u001B[1;32m--> 103\u001B[1;33m         \u001B[0mall_sweep\u001B[0m\u001B[1;33m,\u001B[0m \u001B[0mreturn_code\u001B[0m \u001B[1;33m=\u001B[0m \u001B[0mself\u001B[0m\u001B[1;33m.\u001B[0m\u001B[0m_sweeper\u001B[0m\u001B[1;33m.\u001B[0m\u001B[0mrun_sweep\u001B[0m\u001B[1;33m(\u001B[0m\u001B[1;33m*\u001B[0m\u001B[0margs\u001B[0m\u001B[1;33m,\u001B[0m \u001B[1;33m**\u001B[0m\u001B[0mkwargs\u001B[0m\u001B[1;33m)\u001B[0m\u001B[1;33m\u001B[0m\u001B[1;33m\u001B[0m\u001B[0m\n\u001B[0m\u001B[0;32m    104\u001B[0m         \u001B[1;32mreturn\u001B[0m \u001B[0mall_sweep\u001B[0m\u001B[1;33m,\u001B[0m \u001B[0mreturn_code\u001B[0m\u001B[1;33m\u001B[0m\u001B[1;33m\u001B[0m\u001B[0m\n\u001B[0;32m    105\u001B[0m \u001B[1;33m\u001B[0m\u001B[0m\n",
      "\u001B[1;32m~\\anaconda3\\lib\\site-packages\\qiskit_metal\\analyses\\sweep_and_optimize\\sweeper.py\u001B[0m in \u001B[0;36mrun_sweep\u001B[1;34m(self, *args, **kwarg)\u001B[0m\n\u001B[0;32m    117\u001B[0m         \u001B[0mall_dicts\u001B[0m \u001B[1;33m=\u001B[0m \u001B[1;33m{\u001B[0m\u001B[1;33m**\u001B[0m\u001B[0mprevious_run\u001B[0m\u001B[1;33m,\u001B[0m \u001B[1;33m**\u001B[0m\u001B[0mclean_kwargs\u001B[0m\u001B[1;33m,\u001B[0m \u001B[1;33m**\u001B[0m\u001B[0mkwarg\u001B[0m\u001B[1;33m}\u001B[0m\u001B[1;33m\u001B[0m\u001B[1;33m\u001B[0m\u001B[0m\n\u001B[0;32m    118\u001B[0m \u001B[1;33m\u001B[0m\u001B[0m\n\u001B[1;32m--> 119\u001B[1;33m         all_sweep, check_result = self.iterate_option_sweep(\n\u001B[0m\u001B[0;32m    120\u001B[0m             \u001B[0margs\u001B[0m\u001B[1;33m,\u001B[0m\u001B[1;33m\u001B[0m\u001B[1;33m\u001B[0m\u001B[0m\n\u001B[0;32m    121\u001B[0m             \u001B[0mall_dicts\u001B[0m\u001B[1;33m=\u001B[0m\u001B[0mall_dicts\u001B[0m\u001B[1;33m,\u001B[0m\u001B[1;33m\u001B[0m\u001B[1;33m\u001B[0m\u001B[0m\n",
      "\u001B[1;32m~\\anaconda3\\lib\\site-packages\\qiskit_metal\\analyses\\sweep_and_optimize\\sweeper.py\u001B[0m in \u001B[0;36miterate_option_sweep\u001B[1;34m(self, args, all_dicts, option_path, a_value, all_sweep)\u001B[0m\n\u001B[0;32m    160\u001B[0m \u001B[1;33m\u001B[0m\u001B[0m\n\u001B[0;32m    161\u001B[0m             \u001B[1;32mtry\u001B[0m\u001B[1;33m:\u001B[0m\u001B[1;33m\u001B[0m\u001B[1;33m\u001B[0m\u001B[0m\n\u001B[1;32m--> 162\u001B[1;33m                 \u001B[0mself\u001B[0m\u001B[1;33m.\u001B[0m\u001B[0mparent\u001B[0m\u001B[1;33m.\u001B[0m\u001B[0mrun\u001B[0m\u001B[1;33m(\u001B[0m\u001B[1;33m**\u001B[0m\u001B[0mall_dicts\u001B[0m\u001B[1;33m)\u001B[0m\u001B[1;33m\u001B[0m\u001B[1;33m\u001B[0m\u001B[0m\n\u001B[0m\u001B[0;32m    163\u001B[0m             \u001B[1;32mexcept\u001B[0m \u001B[0mException\u001B[0m \u001B[1;32mas\u001B[0m \u001B[0mex\u001B[0m\u001B[1;33m:\u001B[0m\u001B[1;33m\u001B[0m\u001B[1;33m\u001B[0m\u001B[0m\n\u001B[0;32m    164\u001B[0m                 \u001B[0mtemplate\u001B[0m \u001B[1;33m=\u001B[0m \u001B[1;34m\"An exception of type {0} occurred. Arguments:\\n{1!r}\"\u001B[0m\u001B[1;33m\u001B[0m\u001B[1;33m\u001B[0m\u001B[0m\n",
      "\u001B[1;32m~\\anaconda3\\lib\\site-packages\\qiskit_metal\\analyses\\quantization\\energy_participation_ratio.py\u001B[0m in \u001B[0;36mrun\u001B[1;34m(self, *args, **kwargs)\u001B[0m\n\u001B[0;32m    158\u001B[0m         \"\"\"\n\u001B[0;32m    159\u001B[0m         \u001B[1;32mif\u001B[0m \u001B[0misinstance\u001B[0m\u001B[1;33m(\u001B[0m\u001B[0mself\u001B[0m\u001B[1;33m.\u001B[0m\u001B[0msim\u001B[0m\u001B[1;33m,\u001B[0m \u001B[0mEigenmodeSim\u001B[0m\u001B[1;33m)\u001B[0m\u001B[1;33m:\u001B[0m\u001B[1;33m\u001B[0m\u001B[1;33m\u001B[0m\u001B[0m\n\u001B[1;32m--> 160\u001B[1;33m             \u001B[0mself\u001B[0m\u001B[1;33m.\u001B[0m\u001B[0msim\u001B[0m\u001B[1;33m.\u001B[0m\u001B[0mrun\u001B[0m\u001B[1;33m(\u001B[0m\u001B[1;33m*\u001B[0m\u001B[0margs\u001B[0m\u001B[1;33m,\u001B[0m \u001B[1;33m**\u001B[0m\u001B[0mkwargs\u001B[0m\u001B[1;33m)\u001B[0m\u001B[1;33m\u001B[0m\u001B[1;33m\u001B[0m\u001B[0m\n\u001B[0m\u001B[0;32m    161\u001B[0m         \u001B[1;32mreturn\u001B[0m \u001B[0mself\u001B[0m\u001B[1;33m.\u001B[0m\u001B[0mrun_epr\u001B[0m\u001B[1;33m(\u001B[0m\u001B[1;33m)\u001B[0m\u001B[1;33m\u001B[0m\u001B[1;33m\u001B[0m\u001B[0m\n\u001B[0;32m    162\u001B[0m \u001B[1;33m\u001B[0m\u001B[0m\n",
      "\u001B[1;32m~\\anaconda3\\lib\\site-packages\\qiskit_metal\\analyses\\core\\simulation.py\u001B[0m in \u001B[0;36mrun\u001B[1;34m(self, *args, **kwargs)\u001B[0m\n\u001B[0;32m    201\u001B[0m         \u001B[0mpreventing\u001B[0m \u001B[0mmethod\u001B[0m \u001B[0mname\u001B[0m \u001B[0mcollision\u001B[0m \u001B[0mwhen\u001B[0m \u001B[0msim\u001B[0m \u001B[1;32mand\u001B[0m \u001B[0mnon\u001B[0m\u001B[1;33m-\u001B[0m\u001B[0msim\u001B[0m \u001B[0mQAnalysis\u001B[0m \u001B[0mclasses\u001B[0m \u001B[0mare\u001B[0m \u001B[0minherited\u001B[0m\u001B[1;33m.\u001B[0m\u001B[1;33m\u001B[0m\u001B[1;33m\u001B[0m\u001B[0m\n\u001B[0;32m    202\u001B[0m         \"\"\"\n\u001B[1;32m--> 203\u001B[1;33m         \u001B[0mself\u001B[0m\u001B[1;33m.\u001B[0m\u001B[0mrun_sim\u001B[0m\u001B[1;33m(\u001B[0m\u001B[1;33m*\u001B[0m\u001B[0margs\u001B[0m\u001B[1;33m,\u001B[0m \u001B[1;33m**\u001B[0m\u001B[0mkwargs\u001B[0m\u001B[1;33m)\u001B[0m\u001B[1;33m\u001B[0m\u001B[1;33m\u001B[0m\u001B[0m\n\u001B[0m\u001B[0;32m    204\u001B[0m \u001B[1;33m\u001B[0m\u001B[0m\n\u001B[0;32m    205\u001B[0m     \u001B[1;33m@\u001B[0m\u001B[0mabstractmethod\u001B[0m\u001B[1;33m\u001B[0m\u001B[1;33m\u001B[0m\u001B[0m\n",
      "\u001B[1;32m~\\anaconda3\\lib\\site-packages\\qiskit_metal\\analyses\\simulation\\eigenmode.py\u001B[0m in \u001B[0;36mrun_sim\u001B[1;34m(self, name, components, open_terminations, port_list, jj_to_port, ignored_jjs, box_plus_buffer)\u001B[0m\n\u001B[0;32m    125\u001B[0m \u001B[1;33m\u001B[0m\u001B[0m\n\u001B[0;32m    126\u001B[0m         \u001B[1;32mif\u001B[0m \u001B[1;32mnot\u001B[0m \u001B[0mself\u001B[0m\u001B[1;33m.\u001B[0m\u001B[0mrenderer_initialized\u001B[0m\u001B[1;33m:\u001B[0m\u001B[1;33m\u001B[0m\u001B[1;33m\u001B[0m\u001B[0m\n\u001B[1;32m--> 127\u001B[1;33m             \u001B[0mself\u001B[0m\u001B[1;33m.\u001B[0m\u001B[0m_initialize_renderer\u001B[0m\u001B[1;33m(\u001B[0m\u001B[1;33m)\u001B[0m\u001B[1;33m\u001B[0m\u001B[1;33m\u001B[0m\u001B[0m\n\u001B[0m\u001B[0;32m    128\u001B[0m \u001B[1;33m\u001B[0m\u001B[0m\n\u001B[0;32m    129\u001B[0m         \u001B[0mvars_to_initialize\u001B[0m \u001B[1;33m=\u001B[0m \u001B[0mself\u001B[0m\u001B[1;33m.\u001B[0m\u001B[0msetup\u001B[0m\u001B[1;33m.\u001B[0m\u001B[0mvars\u001B[0m\u001B[1;33m\u001B[0m\u001B[1;33m\u001B[0m\u001B[0m\n",
      "\u001B[1;32m~\\anaconda3\\lib\\site-packages\\qiskit_metal\\analyses\\core\\simulation.py\u001B[0m in \u001B[0;36m_initialize_renderer\u001B[1;34m(self)\u001B[0m\n\u001B[0;32m    139\u001B[0m         \"\"\"Starts the renderer by executing the routine of the selected renderer.\n\u001B[0;32m    140\u001B[0m         \"\"\"\n\u001B[1;32m--> 141\u001B[1;33m         \u001B[0mself\u001B[0m\u001B[1;33m.\u001B[0m\u001B[0mrenderer\u001B[0m\u001B[1;33m.\u001B[0m\u001B[0mstart\u001B[0m\u001B[1;33m(\u001B[0m\u001B[1;33m)\u001B[0m\u001B[1;33m\u001B[0m\u001B[1;33m\u001B[0m\u001B[0m\n\u001B[0m\u001B[0;32m    142\u001B[0m \u001B[1;33m\u001B[0m\u001B[0m\n\u001B[0;32m    143\u001B[0m     def _render(self, solution_type, vars_to_initialize,\n",
      "\u001B[1;32m~\\anaconda3\\lib\\site-packages\\qiskit_metal\\renderers\\renderer_base\\renderer_base.py\u001B[0m in \u001B[0;36mstart\u001B[1;34m(self, force)\u001B[0m\n\u001B[0;32m    376\u001B[0m         \u001B[1;31m#  but only after the TODO before the `if` is completed\u001B[0m\u001B[1;33m\u001B[0m\u001B[1;33m\u001B[0m\u001B[0m\n\u001B[0;32m    377\u001B[0m         \u001B[1;31m# try to initialize the renderer\u001B[0m\u001B[1;33m\u001B[0m\u001B[1;33m\u001B[0m\u001B[0m\n\u001B[1;32m--> 378\u001B[1;33m         \u001B[0mself\u001B[0m\u001B[1;33m.\u001B[0m\u001B[0minitiated\u001B[0m \u001B[1;33m=\u001B[0m \u001B[0mself\u001B[0m\u001B[1;33m.\u001B[0m\u001B[0m_initiate_renderer\u001B[0m\u001B[1;33m(\u001B[0m\u001B[1;33m)\u001B[0m\u001B[1;33m\u001B[0m\u001B[1;33m\u001B[0m\u001B[0m\n\u001B[0m\u001B[0;32m    379\u001B[0m \u001B[1;33m\u001B[0m\u001B[0m\n\u001B[0;32m    380\u001B[0m         \u001B[1;32mreturn\u001B[0m \u001B[0mself\u001B[0m\u001B[1;33m.\u001B[0m\u001B[0minitiated\u001B[0m\u001B[1;33m\u001B[0m\u001B[1;33m\u001B[0m\u001B[0m\n",
      "\u001B[1;32m~\\anaconda3\\lib\\site-packages\\qiskit_metal\\renderers\\renderer_ansys\\ansys_renderer.py\u001B[0m in \u001B[0;36m_initiate_renderer\u001B[1;34m(self)\u001B[0m\n\u001B[0;32m    300\u001B[0m         \u001B[1;31m# after opening, should establish a connection (able to create a new project)\u001B[0m\u001B[1;33m\u001B[0m\u001B[1;33m\u001B[0m\u001B[0m\n\u001B[0;32m    301\u001B[0m \u001B[1;33m\u001B[0m\u001B[0m\n\u001B[1;32m--> 302\u001B[1;33m         \u001B[0mself\u001B[0m\u001B[1;33m.\u001B[0m\u001B[0mrapp\u001B[0m \u001B[1;33m=\u001B[0m \u001B[0mHfssApp\u001B[0m\u001B[1;33m(\u001B[0m\u001B[1;33m)\u001B[0m\u001B[1;33m\u001B[0m\u001B[1;33m\u001B[0m\u001B[0m\n\u001B[0m\u001B[0;32m    303\u001B[0m         \u001B[0mself\u001B[0m\u001B[1;33m.\u001B[0m\u001B[0mrdesktop\u001B[0m \u001B[1;33m=\u001B[0m \u001B[0mself\u001B[0m\u001B[1;33m.\u001B[0m\u001B[0mrapp\u001B[0m\u001B[1;33m.\u001B[0m\u001B[0mget_app_desktop\u001B[0m\u001B[1;33m(\u001B[0m\u001B[1;33m)\u001B[0m\u001B[1;33m\u001B[0m\u001B[1;33m\u001B[0m\u001B[0m\n\u001B[0;32m    304\u001B[0m         \u001B[1;32mif\u001B[0m \u001B[0mself\u001B[0m\u001B[1;33m.\u001B[0m\u001B[0mrdesktop\u001B[0m\u001B[1;33m.\u001B[0m\u001B[0mproject_count\u001B[0m\u001B[1;33m(\u001B[0m\u001B[1;33m)\u001B[0m \u001B[1;33m==\u001B[0m \u001B[1;36m0\u001B[0m\u001B[1;33m:\u001B[0m\u001B[1;33m\u001B[0m\u001B[1;33m\u001B[0m\u001B[0m\n",
      "\u001B[1;32m~\\anaconda3\\lib\\site-packages\\pyEPR\\ansys.py\u001B[0m in \u001B[0;36m__init__\u001B[1;34m(self, ProgID)\u001B[0m\n\u001B[0;32m    380\u001B[0m         '''\n\u001B[0;32m    381\u001B[0m         \u001B[0msuper\u001B[0m\u001B[1;33m(\u001B[0m\u001B[0mHfssApp\u001B[0m\u001B[1;33m,\u001B[0m \u001B[0mself\u001B[0m\u001B[1;33m)\u001B[0m\u001B[1;33m.\u001B[0m\u001B[0m__init__\u001B[0m\u001B[1;33m(\u001B[0m\u001B[1;33m)\u001B[0m\u001B[1;33m\u001B[0m\u001B[1;33m\u001B[0m\u001B[0m\n\u001B[1;32m--> 382\u001B[1;33m         \u001B[0mself\u001B[0m\u001B[1;33m.\u001B[0m\u001B[0m_app\u001B[0m \u001B[1;33m=\u001B[0m \u001B[0mDispatch\u001B[0m\u001B[1;33m(\u001B[0m\u001B[0mProgID\u001B[0m\u001B[1;33m)\u001B[0m\u001B[1;33m\u001B[0m\u001B[1;33m\u001B[0m\u001B[0m\n\u001B[0m\u001B[0;32m    383\u001B[0m \u001B[1;33m\u001B[0m\u001B[0m\n\u001B[0;32m    384\u001B[0m     \u001B[1;32mdef\u001B[0m \u001B[0mget_app_desktop\u001B[0m\u001B[1;33m(\u001B[0m\u001B[0mself\u001B[0m\u001B[1;33m)\u001B[0m\u001B[1;33m:\u001B[0m\u001B[1;33m\u001B[0m\u001B[1;33m\u001B[0m\u001B[0m\n",
      "\u001B[1;32m~\\anaconda3\\lib\\site-packages\\win32com\\client\\__init__.py\u001B[0m in \u001B[0;36mDispatch\u001B[1;34m(dispatch, userName, resultCLSID, typeinfo, UnicodeToString, clsctx)\u001B[0m\n\u001B[0;32m    115\u001B[0m     \u001B[1;34m\"\"\"Creates a Dispatch based COM object.\"\"\"\u001B[0m\u001B[1;33m\u001B[0m\u001B[1;33m\u001B[0m\u001B[0m\n\u001B[0;32m    116\u001B[0m     \u001B[1;32massert\u001B[0m \u001B[0mUnicodeToString\u001B[0m \u001B[1;32mis\u001B[0m \u001B[1;32mNone\u001B[0m\u001B[1;33m,\u001B[0m \u001B[1;34m\"this is deprecated and will go away\"\u001B[0m\u001B[1;33m\u001B[0m\u001B[1;33m\u001B[0m\u001B[0m\n\u001B[1;32m--> 117\u001B[1;33m     \u001B[0mdispatch\u001B[0m\u001B[1;33m,\u001B[0m \u001B[0muserName\u001B[0m \u001B[1;33m=\u001B[0m \u001B[0mdynamic\u001B[0m\u001B[1;33m.\u001B[0m\u001B[0m_GetGoodDispatchAndUserName\u001B[0m\u001B[1;33m(\u001B[0m\u001B[0mdispatch\u001B[0m\u001B[1;33m,\u001B[0m \u001B[0muserName\u001B[0m\u001B[1;33m,\u001B[0m \u001B[0mclsctx\u001B[0m\u001B[1;33m)\u001B[0m\u001B[1;33m\u001B[0m\u001B[1;33m\u001B[0m\u001B[0m\n\u001B[0m\u001B[0;32m    118\u001B[0m     \u001B[1;32mreturn\u001B[0m \u001B[0m__WrapDispatch\u001B[0m\u001B[1;33m(\u001B[0m\u001B[0mdispatch\u001B[0m\u001B[1;33m,\u001B[0m \u001B[0muserName\u001B[0m\u001B[1;33m,\u001B[0m \u001B[0mresultCLSID\u001B[0m\u001B[1;33m,\u001B[0m \u001B[0mtypeinfo\u001B[0m\u001B[1;33m,\u001B[0m \u001B[0mclsctx\u001B[0m\u001B[1;33m=\u001B[0m\u001B[0mclsctx\u001B[0m\u001B[1;33m)\u001B[0m\u001B[1;33m\u001B[0m\u001B[1;33m\u001B[0m\u001B[0m\n\u001B[0;32m    119\u001B[0m \u001B[1;33m\u001B[0m\u001B[0m\n",
      "\u001B[1;32m~\\anaconda3\\lib\\site-packages\\win32com\\client\\dynamic.py\u001B[0m in \u001B[0;36m_GetGoodDispatchAndUserName\u001B[1;34m(IDispatch, userName, clsctx)\u001B[0m\n\u001B[0;32m    104\u001B[0m     \u001B[1;32melse\u001B[0m\u001B[1;33m:\u001B[0m\u001B[1;33m\u001B[0m\u001B[1;33m\u001B[0m\u001B[0m\n\u001B[0;32m    105\u001B[0m         \u001B[0muserName\u001B[0m \u001B[1;33m=\u001B[0m \u001B[0mstr\u001B[0m\u001B[1;33m(\u001B[0m\u001B[0muserName\u001B[0m\u001B[1;33m)\u001B[0m\u001B[1;33m\u001B[0m\u001B[1;33m\u001B[0m\u001B[0m\n\u001B[1;32m--> 106\u001B[1;33m     \u001B[1;32mreturn\u001B[0m \u001B[1;33m(\u001B[0m\u001B[0m_GetGoodDispatch\u001B[0m\u001B[1;33m(\u001B[0m\u001B[0mIDispatch\u001B[0m\u001B[1;33m,\u001B[0m \u001B[0mclsctx\u001B[0m\u001B[1;33m)\u001B[0m\u001B[1;33m,\u001B[0m \u001B[0muserName\u001B[0m\u001B[1;33m)\u001B[0m\u001B[1;33m\u001B[0m\u001B[1;33m\u001B[0m\u001B[0m\n\u001B[0m\u001B[0;32m    107\u001B[0m \u001B[1;33m\u001B[0m\u001B[0m\n\u001B[0;32m    108\u001B[0m \u001B[1;33m\u001B[0m\u001B[0m\n",
      "\u001B[1;32m~\\anaconda3\\lib\\site-packages\\win32com\\client\\dynamic.py\u001B[0m in \u001B[0;36m_GetGoodDispatch\u001B[1;34m(IDispatch, clsctx)\u001B[0m\n\u001B[0;32m     86\u001B[0m             \u001B[0mIDispatch\u001B[0m \u001B[1;33m=\u001B[0m \u001B[0mpythoncom\u001B[0m\u001B[1;33m.\u001B[0m\u001B[0mconnect\u001B[0m\u001B[1;33m(\u001B[0m\u001B[0mIDispatch\u001B[0m\u001B[1;33m)\u001B[0m\u001B[1;33m\u001B[0m\u001B[1;33m\u001B[0m\u001B[0m\n\u001B[0;32m     87\u001B[0m         \u001B[1;32mexcept\u001B[0m \u001B[0mpythoncom\u001B[0m\u001B[1;33m.\u001B[0m\u001B[0mole_error\u001B[0m\u001B[1;33m:\u001B[0m\u001B[1;33m\u001B[0m\u001B[1;33m\u001B[0m\u001B[0m\n\u001B[1;32m---> 88\u001B[1;33m             IDispatch = pythoncom.CoCreateInstance(\n\u001B[0m\u001B[0;32m     89\u001B[0m                 \u001B[0mIDispatch\u001B[0m\u001B[1;33m,\u001B[0m \u001B[1;32mNone\u001B[0m\u001B[1;33m,\u001B[0m \u001B[0mclsctx\u001B[0m\u001B[1;33m,\u001B[0m \u001B[0mpythoncom\u001B[0m\u001B[1;33m.\u001B[0m\u001B[0mIID_IDispatch\u001B[0m\u001B[1;33m\u001B[0m\u001B[1;33m\u001B[0m\u001B[0m\n\u001B[0;32m     90\u001B[0m             )\n",
      "\u001B[1;31mKeyboardInterrupt\u001B[0m: "
     ]
    }
   ],
   "source": [
    "#grid search target freq\n",
    "\n",
    "%%time\n",
    "tar_freq= 6.66\n",
    "total_length1_list = []\n",
    "total_length2_list = []\n",
    "sweep_list = []\n",
    "total_length1_list.append( str(total_length)+'mm')\n",
    "all_sweeps, return_code = eig_qres.run_sweep(meanderQ.name,\n",
    "                                        'total_length',\n",
    "                                        total_length1_list,\n",
    "                                        render_qcomps,\n",
    "                                        open_terminations,\n",
    "                                         ignored_jjs=render_ignored_jjs,\n",
    "                                        design_name=\"GetEigenModeSolution\",\n",
    "                                       box_plus_buffer=box_plus_buffer\n",
    "                                      )\n",
    "sweep_list.append(all_sweeps)\n",
    "sim_freq = all_sweeps[total_length1_list[0]]['sim_variables']['convergence_f']['re(Mode(2)) [g]'][15]\n",
    "N=0\n",
    "start_length = total_length\n",
    "while abs(sim_freq-tar_freq)>1e-3 and N<3:\n",
    "    if sim_freq<tar_freq:\n",
    "        end_length = start_length-math.pow(10,-(2+N))\n",
    "        total_length2_list = np.linspace(start_length,end_length,5)\n",
    "    else:\n",
    "        end_length = start_length+math.pow(10,-(2+N))\n",
    "        total_length2_list = np.linspace(start_length,end_length,5)\n",
    "        all_sweeps, return_code = eig_qres.run_sweep(meanderQ.name,\n",
    "                                        'total_length',\n",
    "                                        total_length2_list,\n",
    "                                        render_qcomps,\n",
    "                                        open_terminations,\n",
    "                                         ignored_jjs=render_ignored_jjs,\n",
    "                                        design_name=\"GetEigenModeSolution\",\n",
    "                                       box_plus_buffer=box_plus_buffer\n",
    "                                      )\n",
    "        sweep_list.append(all_sweeps)\n",
    "        sim_freq_list = []\n",
    "        for i in range(5):\n",
    "            sim_freq_list.append( all_sweeps[total_length2_list[i]]['sim_variables']['convergence_f']['re(Mode(2)) [g]'][15])\n",
    "        sim_freq_array = np.array(sim_freq_list)\n",
    "        abs_diff_array = np.absolute(sim_freq_array-tar_freq)\n",
    "        sim_freq = sim_freq_array[abs_diff_array.argmin()]\n",
    "        total_length2_list = []\n",
    "        N= N+1\n"
   ]
  },
  {
   "cell_type": "code",
   "execution_count": 9,
   "outputs": [],
   "source": [
    "# eig_qres = EPRanalysis(design, \"hfss\")"
   ],
   "metadata": {
    "collapsed": false
   }
  },
  {
   "cell_type": "code",
   "execution_count": null,
   "metadata": {
    "pycharm": {
     "is_executing": true
    }
   },
   "outputs": [],
   "source": [
    "\n",
    "# hfss = eig_qres.sim.renderer\n",
    "# hfss.start()\n"
   ]
  },
  {
   "cell_type": "code",
   "execution_count": 123,
   "metadata": {},
   "outputs": [],
   "source": [
    "# sim_design = hfss.pinfo.project.get_designs()[0]\n",
    "# oModule = sim_design._design.GetModule(\"BoundarySetup\")\n",
    "#\n",
    "# oModule.AssignImpedance(\n",
    "# \t[\n",
    "# \t\t\"NAME:Imped1\",\n",
    "# \t\t\"Objects:=\"\t\t, [\"bus_02_connector_arm_my_xmon_round\",\"cross_my_xmon_round\",\"ground_main_plane\",\"prime_cpw_TQ1\",\"second_cpw_TQ1\",\"trace_cpw_openLeft\",\"trace_cpw_openRight\",\"trace_meanderQ1\"],\n",
    "# \t\t\"Resistance:=\"\t\t, \"0\",\n",
    "# \t\t\"Reactance:=\"\t\t, \"0.005\",\n",
    "# \t\t\"InfGroundPlane:=\"\t, True\n",
    "# \t])"
   ]
  },
  {
   "cell_type": "code",
   "execution_count": 6,
   "metadata": {},
   "outputs": [
    {
     "data": {
      "text/plain": [
       "{'short_segments_to_not_fillet': 'True',\n",
       " 'check_short_segments_by_scaling_fillet': '2.0',\n",
       " 'gds_unit': 0.001,\n",
       " 'ground_plane': 'True',\n",
       " 'negative_mask': {'main': []},\n",
       " 'fabricate': 'False',\n",
       " 'corners': 'circular bend',\n",
       " 'tolerance': '0.00001',\n",
       " 'precision': '0.000000001',\n",
       " 'width_LineString': '10um',\n",
       " 'path_filename': '../resources/Fake_Junctions.GDS',\n",
       " 'junction_pad_overlap': '5um',\n",
       " 'max_points': '199',\n",
       " 'cheese': {'datatype': '100',\n",
       "  'shape': '0',\n",
       "  'cheese_0_x': '25um',\n",
       "  'cheese_0_y': '25um',\n",
       "  'cheese_1_radius': '100um',\n",
       "  'view_in_file': {'main': {1: True}},\n",
       "  'delta_x': '100um',\n",
       "  'delta_y': '100um',\n",
       "  'edge_nocheese': '200um'},\n",
       " 'no_cheese': {'datatype': '99',\n",
       "  'buffer': '25um',\n",
       "  'cap_style': '2',\n",
       "  'join_style': '2',\n",
       "  'view_in_file': {'main': {1: True}}},\n",
       " 'bounding_box_scale_x': '1.2',\n",
       " 'bounding_box_scale_y': '1.2'}"
      ]
     },
     "execution_count": 6,
     "metadata": {},
     "output_type": "execute_result"
    }
   ],
   "source": [
    "a_gds = design.renderers.gds\n",
    "a_gds.options"
   ]
  },
  {
   "cell_type": "code",
   "execution_count": 7,
   "metadata": {},
   "outputs": [
    {
     "name": "stderr",
     "output_type": "stream",
     "text": [
      "10:41AM 46s WARNING [_import_junctions_to_one_cell]: Not able to find file:\"../resources/Fake_Junctions.GDS\".  Not used to replace junction. Checked directory:\"C:\\Users\\CJZ\\PycharmProjects\\resources\".\n"
     ]
    },
    {
     "data": {
      "text/plain": [
       "1"
      ]
     },
     "execution_count": 7,
     "metadata": {},
     "output_type": "execute_result"
    }
   ],
   "source": [
    "a_gds.options['short_segments_to_not_fillet'] = 'True'\n",
    "a_gds.options['fabricate']='True'\n",
    "scale_fillet = 2.0\n",
    "a_gds.options['check_short_segments_by_scaling_fillet'] = scale_fillet\n",
    "a_gds.options.negative_mask = {'main': [1,]}\n",
    "# a_gds.options.cheese.shape = '1'\n",
    "# a_gds.options.cheese.delta_x = '200um'\n",
    "# a_gds.options.cheese.delta_y = '200um'\n",
    "# a_gds.options.cheese.edge_nocheese = '200 um'\n",
    "# a_gds.options.no_cheese.buffer = '50 um'\n",
    "# a_gds.options.cheese.cheese_1_radius = '25 um'\n",
    "a_gds.options.cheese.view_in_file =  {'main': {1: False, },}\n",
    "a_gds.options.no_cheese.view_in_file =  {'main': {1: False}, }\n",
    "a_gds.export_to_gds('100qubit_simulation.gds')"
   ]
  }
 ],
 "metadata": {
  "kernelspec": {
   "display_name": "Python 3 (ipykernel)",
   "language": "python",
   "name": "python3"
  },
  "language_info": {
   "codemirror_mode": {
    "name": "ipython",
    "version": 2
   },
   "file_extension": ".py",
   "mimetype": "text/x-python",
   "name": "python",
   "nbconvert_exporter": "python",
   "pygments_lexer": "ipython2",
   "version": "2.7.6"
  }
 },
 "nbformat": 4,
 "nbformat_minor": 1
}
