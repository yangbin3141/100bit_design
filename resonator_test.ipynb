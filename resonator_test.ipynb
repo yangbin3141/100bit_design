{
 "cells": [
  {
   "cell_type": "code",
   "execution_count": 17,
   "metadata": {
    "collapsed": true
   },
   "outputs": [],
   "source": [
    "#Enables module automatic reload.\n",
    "#Your notebook will be able to pick up code updates made to qiskit-metal (or other) module code.\n",
    "\n",
    "%reload_ext autoreload\n",
    "%autoreload 2"
   ]
  },
  {
   "cell_type": "code",
   "execution_count": 18,
   "outputs": [],
   "source": [
    "from qiskit_metal import designs, draw\n",
    "from qiskit_metal import MetalGUI, Dict, Headings\n",
    "\n",
    "design = designs.DesignPlanar()\n",
    "gui = MetalGUI(design)\n",
    "\n",
    "# If you disable the next line with \"overwrite_enabled\", then you will need to\n",
    "# delete a component [<component>.delete()] before recreating it.\n",
    "design.overwrite_enabled = True"
   ],
   "metadata": {
    "collapsed": false
   }
  },
  {
   "cell_type": "code",
   "execution_count": 19,
   "outputs": [
    {
     "data": {
      "text/plain": "{'pos_x': '0.0um',\n 'pos_y': '0.0um',\n 'orientation': '0.0',\n 'chip': 'main',\n 'layer': '1',\n 'trace_width': 'cpw_width',\n 'trace_gap': 'cpw_gap',\n 'coupler_length': '62.5um',\n 'lead_length': '25um'}"
     },
     "execution_count": 19,
     "metadata": {},
     "output_type": "execute_result"
    }
   ],
   "source": [
    "from qiskit_metal.qlibrary.terminations.launchpad_wb_coupled import LaunchpadWirebondCoupled\n",
    "\n",
    "#Explore the options of the LaunchpadWirebondCoupled.\n",
    "LaunchpadWirebondCoupled.get_template_options(design)"
   ],
   "metadata": {
    "collapsed": false
   }
  },
  {
   "cell_type": "code",
   "execution_count": 4,
   "outputs": [
    {
     "data": {
      "text/plain": "{'chip': 'main',\n 'layer': '1',\n 'pin_inputs': {'start_pin': {'component': '', 'pin': ''},\n  'end_pin': {'component': '', 'pin': ''}},\n 'fillet': '0',\n 'lead': {'start_straight': '0mm',\n  'end_straight': '0mm',\n  'start_jogged_extension': '',\n  'end_jogged_extension': ''},\n 'total_length': '7mm',\n 'trace_width': 'cpw_width',\n 'meander': {'spacing': '200um', 'asymmetry': '0um'},\n 'snap': 'true',\n 'prevent_short_edges': 'true',\n 'hfss_wire_bonds': False,\n 'q3d_wire_bonds': False}"
     },
     "execution_count": 4,
     "metadata": {},
     "output_type": "execute_result"
    }
   ],
   "source": [
    "from qiskit_metal.qlibrary.tlines.meandered import RouteMeander\n",
    "\n",
    "#Explore the options of the RouteMeander.\n",
    "RouteMeander.get_template_options(design)"
   ],
   "metadata": {
    "collapsed": false
   }
  },
  {
   "cell_type": "code",
   "execution_count": 5,
   "outputs": [
    {
     "data": {
      "text/plain": "{'pos_x': '0.0um',\n 'pos_y': '0.0um',\n 'orientation': '0.0',\n 'chip': 'main',\n 'layer': '1',\n 'width': '10um'}"
     },
     "execution_count": 5,
     "metadata": {},
     "output_type": "execute_result"
    }
   ],
   "source": [
    "from qiskit_metal.qlibrary.terminations.open_to_ground import OpenToGround\n",
    "from qiskit_metal.qlibrary.terminations.short_to_ground import ShortToGround\n",
    "\n",
    "#Explore the options of the OpenToGround.\n",
    "OpenToGround.get_template_options(design)\n",
    "# ShortToGround.get_template_options(design)"
   ],
   "metadata": {
    "collapsed": false
   }
  },
  {
   "cell_type": "code",
   "execution_count": 20,
   "outputs": [],
   "source": [
    "#Setup the launchpad location and orientation.\n",
    "launch_options = dict(pos_x='990um', pos_y='2812um', orientation='270', lead_length='30um')\n",
    "\n",
    "lp = LaunchpadWirebondCoupled(design, 'P4_Q', options = launch_options)"
   ],
   "metadata": {
    "collapsed": false
   }
  },
  {
   "cell_type": "code",
   "execution_count": 21,
   "outputs": [],
   "source": [
    "#Setup the OpenToGround location and orientation.\n",
    "otg_options = dict(pos_x='2.5mm',  pos_y='0.5mm', orientation='0')\n",
    "\n",
    "otg = OpenToGround(design, 'open_to_ground', options=otg_options)\n",
    "# otg = ShortToGround(design, 'short_to_ground', options=otg_options)"
   ],
   "metadata": {
    "collapsed": false
   }
  },
  {
   "cell_type": "code",
   "execution_count": 22,
   "outputs": [],
   "source": [
    "#After the two QComponents are added to design, connect them with a RouteMeander.\n",
    "meander_options = Dict(\n",
    "        total_length='10 mm',\n",
    "        fillet='90 um',\n",
    "        lead = dict(start_straight='100um'),\n",
    "        pin_inputs=Dict(\n",
    "            start_pin=Dict(component=lp.name, pin='tie'),\n",
    "            end_pin=Dict(component=otg.name, pin='open')), )\n",
    "\n",
    "meander = RouteMeander(design, 'bus',  options=meander_options)\n",
    "gui.rebuild()\n",
    "gui.autoscale()"
   ],
   "metadata": {
    "collapsed": false
   }
  },
  {
   "cell_type": "code",
   "execution_count": null,
   "outputs": [],
   "source": [],
   "metadata": {
    "collapsed": false
   }
  }
 ],
 "metadata": {
  "kernelspec": {
   "display_name": "Python 3",
   "language": "python",
   "name": "python3"
  },
  "language_info": {
   "codemirror_mode": {
    "name": "ipython",
    "version": 2
   },
   "file_extension": ".py",
   "mimetype": "text/x-python",
   "name": "python",
   "nbconvert_exporter": "python",
   "pygments_lexer": "ipython2",
   "version": "2.7.6"
  }
 },
 "nbformat": 4,
 "nbformat_minor": 0
}
