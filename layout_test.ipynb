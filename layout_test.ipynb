{
 "cells": [
  {
   "cell_type": "code",
   "execution_count": 58,
   "metadata": {
    "collapsed": true
   },
   "outputs": [
    {
     "name": "stdout",
     "output_type": "stream",
     "text": [
      "The autoreload extension is already loaded. To reload it, use:\n",
      "  %reload_ext autoreload\n"
     ]
    }
   ],
   "source": [
    "%load_ext autoreload\n",
    "%autoreload 2"
   ]
  },
  {
   "cell_type": "code",
   "execution_count": 59,
   "outputs": [],
   "source": [
    "from qiskit_metal import draw, Dict,designs\n",
    "from qiskit_metal.qlibrary.core import BaseQubit\n",
    "from qiskit_metal.toolbox_metal import math_and_overrides\n",
    "from qiskit_metal.qlibrary.core import QComponent\n",
    "from qiskit_metal.draw import LineString\n",
    "# import qiskit_metal as metal\n",
    "from qiskit_metal import MetalGUI, Dict, Headings\n",
    "from qiskit_metal.qlibrary.core.qroute import QRouteLead, QRoutePoint, QRoute\n",
    "from qiskit_metal.qlibrary.qubits.transmon_cross import TransmonCross\n",
    "from qiskit_metal.qlibrary.resonator.readoutres_fc import ReadoutResFC\n",
    "from  qiskit_metal.qlibrary.user_components.my_qcomponent import  New_Transomon_Cross, RouteConnector,MyReadoutRes01,MyFluxLine01\n",
    "from qiskit_metal.qlibrary.tlines.straight_path import RouteStraight\n",
    "from qiskit_metal.qlibrary.tlines.pathfinder import RoutePathfinder\n",
    "from qiskit_metal.qlibrary.terminations.launchpad_wb import LaunchpadWirebond\n",
    "from qiskit_metal.qlibrary.sample_shapes.circle_raster import CircleRaster\n",
    "import  math\n",
    "import numpy as np"
   ],
   "metadata": {
    "collapsed": false
   }
  },
  {
   "cell_type": "code",
   "execution_count": 60,
   "outputs": [],
   "source": [
    "# Initialise design\n",
    "design = designs.DesignPlanar()\n",
    "# Specify design name\n",
    "design.metadata['design_name'] = 'FlipChip_Device'\n",
    "# launch GUI\n",
    "gui = MetalGUI(design)\n",
    "# Allow running the same cell here multiple times to overwrite changes\n",
    "design.overwrite_enabled = True"
   ],
   "metadata": {
    "collapsed": false
   }
  },
  {
   "cell_type": "code",
   "execution_count": 61,
   "outputs": [],
   "source": [
    "# Create a new circle object\n",
    "class Circle(QComponent):\n",
    "    \"\"\"A single configurable circle.\n",
    "\n",
    "    Inherits QComponent class.\n",
    "\n",
    "    .. image::\n",
    "        CircleRaster.png\n",
    "\n",
    "    .. meta::\n",
    "        Circle Raster\n",
    "\n",
    "    Default Options:\n",
    "        * radius: '300um'\n",
    "        * resolution: '16'\n",
    "        * cap_style: 'round' -- Valid options are 'round', 'flat', 'square'\n",
    "        * subtract: 'False'\n",
    "        * helper: 'False'\n",
    "    \"\"\"\n",
    "\n",
    "    default_options = dict(\n",
    "        radius='500um',\n",
    "        linewidth ='0.1 um',\n",
    "        resolution='16',\n",
    "        cap_style='round',  # round, flat, square\n",
    "        # join_style = 'round', # round, mitre, bevel\n",
    "        # General\n",
    "        subtract='False',\n",
    "        helper='False')\n",
    "    \"\"\"Default drawing options\"\"\"\n",
    "\n",
    "    TOOLTIP = \"\"\"A single configurable circle\"\"\"\n",
    "\n",
    "    def make(self):\n",
    "        \"\"\"The make function implements the logic that creates the geoemtry\n",
    "        (poly, path, etc.) from the qcomponent.options dictionary of\n",
    "        parameters, and the adds them to the design, using\n",
    "        qcomponent.add_qgeometry(...), adding in extra needed information, such\n",
    "        as layer, subtract, etc.\"\"\"\n",
    "        p = self.p  # p for parsed parameters. Access to the parsed options.\n",
    "\n",
    "        # create the geometry\n",
    "        center = draw.Point(p.pos_x,p.pos_y)\n",
    "        radius = p.radius\n",
    "        linewidth = p.linewidth\n",
    "        circle =draw.shapely. LinearRing(center.buffer(radius).exterior.coords).buffer(linewidth)\n",
    "        # inner_ring = draw.shapely.LinearRing(center.buffer(radius-linewidth).exterior.coords)\n",
    "        # circle = outer_ring.difference(inner_ring)\n",
    "        # Add the circle to the design\n",
    "        # design.qgeometry.add_qgeometry(kind='poly',component_name='my_circle', geometry={'circle':circle},)\n",
    "        #\n",
    "        #     #join_style = getattr(JOIN_STYLE, p.join_style)\n",
    "        # )\n",
    "\n",
    "        # add qgeometry\n",
    "        self.add_qgeometry('poly', {'circle': circle},\n",
    "                           subtract=p.subtract,\n",
    "                           helper=p.helper,\n",
    "                           layer=p.layer,\n",
    "                           chip=p.chip)\n",
    "\n",
    "\n",
    "# Draw the design\n",
    "mycircle = Circle(design,'mycircle')\n",
    "gui.rebuild()\n",
    "gui.autoscale()\n",
    "# gui.zoom_on_components(['my_circle'])\n"
   ],
   "metadata": {
    "collapsed": false
   }
  },
  {
   "cell_type": "code",
   "execution_count": 13,
   "outputs": [
    {
     "data": {
      "text/plain": "{'pos_x': '0.0um',\n 'pos_y': '0.0um',\n 'orientation': '0.0',\n 'chip': 'main',\n 'layer': '1',\n 'radius': '300um',\n 'resolution': '16',\n 'cap_style': 'round',\n 'subtract': 'False',\n 'helper': 'False'}"
     },
     "execution_count": 13,
     "metadata": {},
     "output_type": "execute_result"
    }
   ],
   "source": [
    "circle.options"
   ],
   "metadata": {
    "collapsed": false
   }
  },
  {
   "cell_type": "code",
   "execution_count": 51,
   "outputs": [
    {
     "data": {
      "text/plain": "<POLYGON ((5.999 0.049, 5.999 -0.049, 5.975 -0.539, 5.965 -0.637, 5.893 -1.1...>",
      "image/svg+xml": "<svg xmlns=\"http://www.w3.org/2000/svg\" xmlns:xlink=\"http://www.w3.org/1999/xlink\" width=\"100.0\" height=\"100.0\" viewBox=\"-6.478699092701587 -6.478699092701587 12.957398185403173 12.957398185403173\" preserveAspectRatio=\"xMinYMin meet\"><g transform=\"matrix(1,0,0,-1,0,0.0)\"><path fill-rule=\"evenodd\" fill=\"#66cc99\" stroke=\"#555555\" stroke-width=\"0.2591479637080635\" opacity=\"0.6\" d=\"M 5.998795456205173,0.04906767432741718 L 5.998795456205173,-0.04906767432741713 L 5.9747190895661575,-0.5391533759752202 L 5.965100143325766,-0.6368161761031659 L 5.893102911980933,-1.122182084536004 L 5.873957655210696,-1.2184317899839057 L 5.754732931855588,-1.694403566175576 L 5.726245743844065,-1.7883132396645305 L 5.560941727739455,-2.250307015217668 L 5.523386955679877,-2.3409722552557306 L 5.3135956148652195,-2.78453877756027 L 5.267334931742047,-2.8710864283232107 L 5.015076671512998,-3.2919539092912333 L 4.960555592993371,-3.3735504695904437 L 4.66825979829433,-3.7676657253106605 L 4.606003392168644,-3.843525375665246 L 4.276485031287697,-4.207092860779756 L 4.207092860779755,-4.276485031287697 L 3.8435253756652457,-4.606003392168644 L 3.767665725310662,-4.668259798294329 L 3.3735504695904455,-4.960555592993371 L 3.291953909291233,-5.015076671512999 L 2.8710864283232107,-5.267334931742047 L 2.7845387775602717,-5.313595614865218 L 2.340972255255732,-5.523386955679877 L 2.2503070152176696,-5.560941727739454 L 1.7883132396645318,-5.726245743844066 L 1.6944035661755747,-5.754732931855589 L 1.2184317899839048,-5.873957655210696 L 1.1221820845360029,-5.893102911980933 L 0.636816176103165,-5.965100143325765 L 0.5391533759752227,-5.974719089566157 L 0.04906767432741919,-5.998795456205173 L -0.049067674327416766,-5.998795456205173 L -0.5391533759752203,-5.9747190895661575 L -0.6368161761031662,-5.965100143325766 L -1.122182084536004,-5.893102911980933 L -1.2184317899839041,-5.873957655210696 L -1.6944035661755739,-5.754732931855589 L -1.788313239664531,-5.726245743844066 L -2.2503070152176687,-5.560941727739455 L -2.3409722552557293,-5.523386955679878 L -2.78453877756027,-5.3135956148652195 L -2.8710864283232125,-5.267334931742046 L -3.2919539092912338,-5.015076671512997 L -3.3735504695904424,-4.960555592993372 L -3.767665725310659,-4.668259798294331 L -3.843525375665245,-4.6060033921686445 L -4.207092860779755,-4.276485031287697 L -4.276485031287696,-4.207092860779756 L -4.606003392168644,-3.8435253756652465 L -4.66825979829433,-3.7676657253106605 L -4.960555592993371,-3.3735504695904437 L -5.015076671512999,-3.291953909291233 L -5.267334931742047,-2.871086428323211 L -5.313595614865218,-2.784538777560272 L -5.523386955679877,-2.3409722552557324 L -5.560941727739455,-2.2503070152176683 L -5.726245743844065,-1.788313239664531 L -5.754732931855587,-1.6944035661755774 L -5.873957655210695,-1.2184317899839083 L -5.893102911980933,-1.122182084536004 L -5.965100143325765,-0.636816176103165 L -5.974719089566157,-0.5391533759752231 L -5.998795456205173,-0.04906767432741949 L -5.998795456205173,0.04906767432741646 L -5.9747190895661575,0.5391533759752201 L -5.965100143325766,0.6368161761031657 L -5.893102911980933,1.1221820845360044 L -5.873957655210696,1.2184317899839057 L -5.754732931855589,1.6944035661755743 L -5.726245743844066,1.7883132396645307 L -5.560941727739455,2.2503070152176683 L -5.523386955679878,2.3409722552557293 L -5.3135956148652195,2.7845387775602695 L -5.267334931742048,2.8710864283232103 L -5.0150766715129995,3.291953909291232 L -4.960555592993371,3.373550469590444 L -4.668259798294329,3.7676657253106605 L -4.606003392168645,3.8435253756652434 L -4.276485031287699,4.207092860779754 L -4.207092860779757,4.276485031287697 L -3.843525375665248,4.606003392168643 L -3.7676657253106622,4.668259798294328 L -3.3735504695904437,4.960555592993371 L -3.291953909291233,5.015076671512999 L -2.871086428323211,5.267334931742047 L -2.784538777560271,5.313595614865219 L -2.3409722552557333,5.523386955679876 L -2.2503070152176723,5.560941727739452 L -1.788313239664533,5.726245743844064 L -1.6944035661755759,5.754732931855588 L -1.2184317899839068,5.873957655210695 L -1.122182084536007,5.893102911980932 L -0.636816176103166,5.965100143325765 L -0.5391533759752195,5.9747190895661575 L -0.049067674327418216,5.998795456205173 L 0.04906767432741637,5.998795456205173 L 0.5391533759752177,5.9747190895661575 L 0.6368161761031624,5.965100143325766 L 1.1221820845360035,5.893102911980933 L 1.2184317899839052,5.873957655210696 L 1.6944035661755739,5.754732931855589 L 1.7883132396645307,5.726245743844065 L 2.2503070152176705,5.560941727739453 L 2.3409722552557315,5.523386955679877 L 2.784538777560269,5.3135956148652195 L 2.8710864283232103,5.267334931742047 L 3.2919539092912316,5.015076671512999 L 3.373550469590442,4.960555592993373 L 3.7676657253106605,4.66825979829433 L 3.843525375665246,4.606003392168644 L 4.207092860779755,4.276485031287698 L 4.276485031287697,4.207092860779756 L 4.606003392168642,3.843525375665247 L 4.668259798294327,3.7676657253106636 L 4.96055559299337,3.373550469590445 L 5.015076671512999,3.291953909291232 L 5.267334931742046,2.8710864283232107 L 5.313595614865217,2.7845387775602726 L 5.523386955679875,2.340972255255735 L 5.560941727739452,2.2503070152176727 L 5.726245743844064,1.7883132396645331 L 5.754732931855588,1.694403566175576 L 5.873957655210695,1.2184317899839072 L 5.893102911980932,1.1221820845360073 L 5.965100143325765,0.6368161761031663 L 5.9747190895661575,0.5391533759752197 L 5.998795456205173,0.04906767432741718 z M 3.9987940035296075,-6.450980184903013e-17 L 3.9795387174210326,0.3919503529929678 L 3.9219582980265417,0.7801260098247551 L 3.826607276261566,1.160788626721671 L 3.694403934589869,1.5302722145916519 L 3.5266214634614497,1.8850184445032268 L 3.324875699792506,2.2216109163383306 L 3.0911095655726126,2.536808060593043 L 2.8275743564638893,2.827574356463888 L 2.53680806059304,3.0911095655726157 L 2.2216109163383293,3.324875699792507 L 1.885018444503227,3.52662146346145 L 1.5302722145916487,3.6944039345898703 L 1.1607886267216696,3.8266072762615666 L 0.7801260098247554,3.921958298026542 L 0.39195035299296477,3.9795387174210326 L -9.08995101411847e-16,3.9987940035296075 L -0.39195035299296754,3.9795387174210326 L -0.7801260098247552,3.9219582980265417 L -1.1607886267216707,3.826607276261566 L -1.5302722145916539,3.694403934589868 L -1.8850184445032243,3.5266214634614514 L -2.221610916338332,3.3248756997925053 L -2.536808060593041,3.0911095655726153 L -2.827574356463888,2.8275743564638893 L -3.091109565572617,2.536808060593038 L -3.324875699792507,2.2216109163383297 L -3.5266214634614514,1.8850184445032254 L -3.694403934589871,1.5302722145916476 L -3.826607276261566,1.1607886267216712 L -3.9219582980265417,0.7801260098247562 L -3.9795387174210326,0.391950352992966 L -3.998794003529607,7.543308188335674e-16 L -3.979538717421032,-0.39195035299296666 L -3.921958298026542,-0.7801260098247557 L -3.8266072762615657,-1.1607886267216725 L -3.6944039345898707,-1.5302722145916494 L -3.5266214634614514,-1.8850184445032243 L -3.3248756997925053,-2.221610916338332 L -3.0911095655726166,-2.5368080605930388 L -2.8275743564638884,-2.827574356463888 L -2.536808060593039,-3.091109565572616 L -2.221610916338331,-3.3248756997925053 L -1.8850184445032228,-3.5266214634614528 L -1.5302722145916487,-3.6944039345898707 L -1.16078862672167,-3.8266072762615666 L -0.7801260098247531,-3.9219582980265426 L -0.39195035299297004,-3.979538717421032 L -1.041265037488785e-15,-3.998794003529607 L 0.3919503529929657,-3.979538717421032 L 0.7801260098247564,-3.9219582980265417 L 1.160788626721671,-3.8266072762615666 L 1.530272214591649,-3.6944039345898707 L 1.8850184445032225,-3.5266214634614528 L 2.221610916338333,-3.324875699792505 L 2.536808060593039,-3.091109565572616 L 2.827574356463889,-2.827574356463888 L 3.0911095655726166,-2.536808060593039 L 3.3248756997925066,-2.2216109163383306 L 3.526621463461452,-1.8850184445032245 L 3.6944039345898703,-1.5302722145916503 L 3.826607276261565,-1.1607886267216745 L 3.9219582980265435,-0.7801260098247489 L 3.979538717421032,-0.3919503529929701 L 3.9987940035296075,-6.450980184903013e-17 z\" /></g></svg>"
     },
     "execution_count": 51,
     "metadata": {},
     "output_type": "execute_result"
    }
   ],
   "source": [
    "center = draw.Point(0,0)\n",
    "radius = 5\n",
    "outer_ring =draw.shapely. LinearRing(center.buffer(radius).exterior.coords).buffer(1)\n",
    "# inner_ring = draw.shapely.LinearRing(center.buffer(radius-4).exterior.coords)\n",
    "# circle = outer_ring.difference(inner_ring)\n",
    "outer_ring"
   ],
   "metadata": {
    "collapsed": false
   }
  },
  {
   "cell_type": "code",
   "execution_count": 15,
   "outputs": [
    {
     "data": {
      "text/plain": "<GEOMETRYCOLLECTION (GEOMETRYCOLLECTION (POINT (-7.071 0), POINT (-6.566 0.5...>",
      "image/svg+xml": "<svg xmlns=\"http://www.w3.org/2000/svg\" xmlns:xlink=\"http://www.w3.org/1999/xlink\" width=\"100.0\" height=\"100.0\" viewBox=\"-7.353910524340095 -0.282842712474619 7.636753236814714 1.5758379695014488\" preserveAspectRatio=\"xMinYMin meet\"><g transform=\"matrix(1,0,0,-1,0,1.010152544552211)\"><g><g><circle cx=\"-7.0710678118654755\" cy=\"0.0\" r=\"0.22910259710444142\" stroke=\"#555555\" stroke-width=\"0.07636753236814714\" fill=\"#66cc99\" opacity=\"0.6\" /><circle cx=\"-6.56599153958937\" cy=\"0.5050762722761055\" r=\"0.22910259710444142\" stroke=\"#555555\" stroke-width=\"0.07636753236814714\" fill=\"#66cc99\" opacity=\"0.6\" /><circle cx=\"-6.0609152673132645\" cy=\"1.010152544552211\" r=\"0.22910259710444142\" stroke=\"#555555\" stroke-width=\"0.07636753236814714\" fill=\"#66cc99\" opacity=\"0.6\" /></g><circle cx=\"0.0\" cy=\"0.0\" r=\"0.22910259710444142\" stroke=\"#555555\" stroke-width=\"0.07636753236814714\" fill=\"#66cc99\" opacity=\"0.6\" /></g></g></svg>"
     },
     "execution_count": 15,
     "metadata": {},
     "output_type": "execute_result"
    }
   ],
   "source": [
    "points = []\n",
    "N=14\n",
    "size = 10.0\n",
    "for i in range(N):\n",
    "    shape = draw.Point(-size/2+i*size/N,size/2)\n",
    "    points.append(shape)\n",
    "# for i in range(N):\n",
    "#     shape = draw.Point(size/2,size/2-i*size/N)\n",
    "x = draw.shapely.geometrycollections(points)\n",
    "x0 = draw.rotate(x,90,origin=(0,0))\n",
    "x1 = draw.rotate(x0,90,origin=(0,0))\n",
    "x2 = draw.rotate(x1,90,origin=(0,0))\n",
    "square = draw.shapely.geometrycollections([x,x0,x1,x2])\n",
    "square = draw.rotate(square,45,origin=(0,0))\n",
    "square_coords =[]\n",
    "for i in range(4):\n",
    "    for j in range(N):\n",
    "        square_coords.append(square.geoms[i].geoms[j].coords[0])\n",
    "\n",
    "draw.shapely.geometrycollections([square.geoms[0].geoms[:3],draw.Point(0,0)])\n",
    "# square.geoms[1]"
   ],
   "metadata": {
    "collapsed": false
   }
  },
  {
   "cell_type": "code",
   "execution_count": 14,
   "outputs": [],
   "source": [
    "opt=Dict(pos_x=0 , pos_y=0, orientation='-45', pad_width='245 um', pad_height='245 um', pad_gap = '100 um', lead_length = '176 um', chip = 'C_chip')\n",
    "opt_a=Dict(pos_x=0 , pos_y=0, orientation='45', pad_width='245 um', pad_height='245 um', pad_gap = '100 um', lead_length = '176 um', chip = 'C_chip')\n",
    "opt_b=Dict(pos_x=0 , pos_y=0, orientation='135', pad_width='245 um', pad_height='245 um', pad_gap = '100 um', lead_length = '176 um', chip = 'C_chip')\n",
    "opt_c=Dict(pos_x=0 , pos_y=0, orientation='-135', pad_width='245 um', pad_height='245 um', pad_gap = '100 um', lead_length = '176 um', chip = 'C_chip')\n",
    "# test = OpenToGround(design, 'open01', options=Dict(pos_x='-3 mm',  pos_y=pos_y_zline+0.02, orientation='-45', chip ='C_chip'),)\n",
    "launch_zline = LaunchpadWirebond(design,'launch_zline',options=opt)\n",
    "launch_zline_a = LaunchpadWirebond(design,'launch_zline_a',options=opt_a)\n",
    "launch_zline_b = LaunchpadWirebond(design,'launch_zline_b',options=opt_b)\n",
    "launch_zline_c = LaunchpadWirebond(design,'launch_zline_c',options=opt_c)\n",
    "gui.rebuild()\n",
    "gui.autoscale()"
   ],
   "metadata": {
    "collapsed": false
   }
  },
  {
   "cell_type": "code",
   "execution_count": 15,
   "outputs": [],
   "source": [
    "design.delete_all_components()\n",
    "launch_list = []\n",
    "for i in range(4):\n",
    "    for j in range(N):\n",
    "         if (i==0):\n",
    "            launch_list.append(design.copy_qcomponent(launch_zline,'launch_zline'+str(i)+str(j), Dict(pos_x =square_coords[i*N+j][0] ,pos_y=square_coords[i*N+j][1])))\n",
    "         elif (i==1):\n",
    "             launch_list.append(design.copy_qcomponent(launch_zline_a,'launch_zline'+str(i)+str(j), Dict(pos_x =square_coords[i*N+j][0] ,pos_y=square_coords[i*N+j][1])))\n",
    "         elif (i==2):\n",
    "             launch_list.append(design.copy_qcomponent(launch_zline_b,'launch_zline'+str(i)+str(j), Dict(pos_x =square_coords[i*N+j][0] ,pos_y=square_coords[i*N+j][1])))\n",
    "         else:\n",
    "             launch_list.append(design.copy_qcomponent(launch_zline_c,'launch_zline'+str(i)+str(j), Dict(pos_x =square_coords[i*N+j][0] ,pos_y=square_coords[i*N+j][1])))\n",
    "# launch_list.append(design.copy_qcomponent(launch_zline,'launch_zline'+str(15), Dict(pos_x =square_coords[15][0] ,pos_y=square_coords[15][1])))\n",
    "gui.rebuild()\n",
    "gui.autoscale()\n",
    "\n"
   ],
   "metadata": {
    "collapsed": false
   }
  },
  {
   "cell_type": "code",
   "execution_count": null,
   "outputs": [],
   "source": [],
   "metadata": {
    "collapsed": false
   }
  }
 ],
 "metadata": {
  "kernelspec": {
   "display_name": "Python 3",
   "language": "python",
   "name": "python3"
  },
  "language_info": {
   "codemirror_mode": {
    "name": "ipython",
    "version": 2
   },
   "file_extension": ".py",
   "mimetype": "text/x-python",
   "name": "python",
   "nbconvert_exporter": "python",
   "pygments_lexer": "ipython2",
   "version": "2.7.6"
  }
 },
 "nbformat": 4,
 "nbformat_minor": 0
}
