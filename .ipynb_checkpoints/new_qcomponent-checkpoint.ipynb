{
 "cells": [
  {
   "cell_type": "code",
   "execution_count": 41,
   "metadata": {},
   "outputs": [
    {
     "name": "stdout",
     "output_type": "stream",
     "text": [
      "The autoreload extension is already loaded. To reload it, use:\n",
      "  %reload_ext autoreload\n"
     ]
    }
   ],
   "source": [
    "%load_ext autoreload\n",
    "%autoreload 2"
   ]
  },
  {
   "cell_type": "code",
   "execution_count": 42,
   "metadata": {},
   "outputs": [],
   "source": [
    "from qiskit_metal import draw, Dict\n",
    "from qiskit_metal.toolbox_metal import math_and_overrides\n",
    "from qiskit_metal.qlibrary.core import QComponent"
   ]
  },
  {
   "cell_type": "code",
   "execution_count": 43,
   "metadata": {},
   "outputs": [
    {
     "data": {
      "image/svg+xml": [
       "<svg xmlns=\"http://www.w3.org/2000/svg\" xmlns:xlink=\"http://www.w3.org/1999/xlink\" width=\"100.0\" height=\"100.0\" viewBox=\"-0.54 -0.54 1.08 1.08\" preserveAspectRatio=\"xMinYMin meet\"><g transform=\"matrix(1,0,0,-1,0,0.0)\"><path fill-rule=\"evenodd\" fill=\"#66cc99\" stroke=\"#555555\" stroke-width=\"0.0216\" opacity=\"0.6\" d=\"M -0.5,-0.5 L 0.5,-0.5 L 0.5,0.5 L -0.5,0.5 L -0.5,-0.5 z\" /></g></svg>"
      ],
      "text/plain": [
       "<POLYGON ((-0.5 -0.5, 0.5 -0.5, 0.5 0.5, -0.5 0.5, -0.5 -0.5))>"
      ]
     },
     "execution_count": 43,
     "metadata": {},
     "output_type": "execute_result"
    }
   ],
   "source": [
    "draw.rectangle(1,1,0,0)"
   ]
  },
  {
   "cell_type": "code",
   "execution_count": 7,
   "metadata": {},
   "outputs": [
    {
     "data": {
      "image/svg+xml": [
       "<svg xmlns=\"http://www.w3.org/2000/svg\" xmlns:xlink=\"http://www.w3.org/1999/xlink\" width=\"100.0\" height=\"100.0\" viewBox=\"-0.7556092571435928 -0.7556092571435927 1.5112185142871857 1.5112185142871857\" preserveAspectRatio=\"xMinYMin meet\"><g transform=\"matrix(1,0,0,-1,0,1.1102230246251565e-16)\"><path fill-rule=\"evenodd\" fill=\"#66cc99\" stroke=\"#555555\" stroke-width=\"0.030224370285743714\" opacity=\"0.6\" d=\"M 0.6996382010588822,-1.1447406239808679e-15 L 0.6962692518902114,-0.0685765357331092 L 0.6861948492063475,-0.13649264193936195 L 0.6695120150123653,-0.20309424938927026 L 0.6463814141213178,-0.26773994819494973 L 0.617025806864258,-0.32980716493796824 L 0.5817279037864787,-0.38869815839169886 L 0.5408276429904162,-0.44384577609608933 L 0.49471891634589266,-0.494718916345893 L 0.4438457760960895,-0.5408276429904161 L 0.388698158391699,-0.5817279037864787 L 0.3298071649379679,-0.6170258068642582 L 0.26773994819494984,-0.6463814141213178 L 0.20309424938927073,-0.6695120150123653 L 0.13649264193936234,-0.6861948492063475 L 0.06857653573311014,-0.6962692518902112 L -1.2354541076086926e-15,-0.6996382010588822 L -0.06857653573310916,-0.6962692518902114 L -0.13649264193936264,-0.6861948492063474 L -0.20309424938926898,-0.6695120150123658 L -0.26773994819495,-0.6463814141213177 L -0.3298071649379683,-0.6170258068642581 L -0.38869815839169825,-0.5817279037864791 L -0.4438457760960889,-0.5408276429904165 L -0.49471891634589327,-0.49471891634589227 L -0.5408276429904163,-0.4438457760960892 L -0.581727903786479,-0.3886981583916987 L -0.6170258068642578,-0.32980716493796886 L -0.6463814141213178,-0.26773994819494984 L -0.6695120150123656,-0.20309424938926984 L -0.6861948492063475,-0.1364926419393624 L -0.6962692518902113,-0.06857653573311005 L -0.6996382010588823,-1.8689705740039566e-15 L -0.6962692518902112,0.06857653573311043 L -0.6861948492063474,0.13649264193936225 L -0.6695120150123655,0.20309424938927026 L -0.6463814141213176,0.2677399481949507 L -0.6170258068642583,0.329807164937968 L -0.5817279037864794,0.3886981583916981 L -0.5408276429904166,0.4438457760960887 L -0.49471891634589266,0.494718916345893 L -0.44384577609608966,0.540827642990416 L -0.3886981583916994,0.5817279037864784 L -0.32980716493796847,0.617025806864258 L -0.26773994819495023,0.6463814141213177 L -0.20309424938927056,0.6695120150123653 L -0.13649264193936253,0.6861948492063474 L -0.06857653573310986,0.6962692518902113 L -1.8388068845354155e-16,0.6996382010588823 L 0.0685765357331092,0.6962692518902113 L 0.136492641939362,0.6861948492063475 L 0.20309424938926934,0.6695120150123657 L 0.26773994819495,0.6463814141213176 L 0.3298071649379693,0.6170258068642576 L 0.38869815839169836,0.5817279037864791 L 0.44384577609608933,0.5408276429904162 L 0.4947189163458926,0.49471891634589293 L 0.540827642990416,0.44384577609608955 L 0.5817279037864793,0.388698158391698 L 0.6170258068642577,0.3298071649379689 L 0.6463814141213178,0.26773994819494995 L 0.6695120150123653,0.20309424938927062 L 0.6861948492063474,0.13649264193936259 L 0.6962692518902112,0.06857653573311104 L 0.6996382010588822,-1.1447406239808679e-15 z\" /></g></svg>"
      ],
      "text/plain": [
       "<POLYGON ((0.7 0, 0.696 -0.069, 0.686 -0.136, 0.67 -0.203, 0.646 -0.268, 0.6...>"
      ]
     },
     "execution_count": 7,
     "metadata": {},
     "output_type": "execute_result"
    }
   ],
   "source": [
    "face=draw.shapely.geometry.Point(0, 0).buffer(1)\n",
    "face.buffer(-0.3)"
   ]
  },
  {
   "cell_type": "code",
   "execution_count": 6,
   "metadata": {},
   "outputs": [
    {
     "data": {
      "image/svg+xml": [
       "<svg xmlns=\"http://www.w3.org/2000/svg\" xmlns:xlink=\"http://www.w3.org/1999/xlink\" width=\"100.0\" height=\"100.0\" viewBox=\"-0.12 -0.12 3.24 2.24\" preserveAspectRatio=\"xMinYMin meet\"><g transform=\"matrix(1,0,0,-1,0,2.0)\"><polyline fill=\"none\" stroke=\"#66cc99\" stroke-width=\"0.06480000000000001\" points=\"0.0,0.0 1.0,1.0 0.0,2.0 2.0,2.0 3.0,1.0 1.0,0.0\" opacity=\"0.8\" /></g></svg>"
      ],
      "text/plain": [
       "<LINESTRING (0 0, 1 1, 0 2, 2 2, 3 1, 1 0)>"
      ]
     },
     "execution_count": 6,
     "metadata": {},
     "output_type": "execute_result"
    }
   ],
   "source": [
    "line = draw.LineString([(0, 0),(1, 1), (0, 2), (2, 2), (3, 1), (1, 0)])\n",
    "line"
   ]
  },
  {
   "cell_type": "code",
   "execution_count": 13,
   "metadata": {},
   "outputs": [
    {
     "data": {
      "image/svg+xml": [
       "<svg xmlns=\"http://www.w3.org/2000/svg\" xmlns:xlink=\"http://www.w3.org/1999/xlink\" width=\"100.0\" height=\"100.0\" viewBox=\"-10.8 -10.8 21.6 21.6\" preserveAspectRatio=\"xMinYMin meet\"><g transform=\"matrix(1,0,0,-1,0,0.0)\"><path fill-rule=\"evenodd\" fill=\"#66cc99\" stroke=\"#555555\" stroke-width=\"0.43200000000000005\" opacity=\"0.6\" d=\"M 10.0,0.0 L 7.0710678118654755,-7.0710678118654755 L 6.123233995736766e-16,-10.0 L -7.071067811865475,-7.0710678118654755 L -10.0,-1.2246467991473533e-15 L -7.071067811865477,7.071067811865475 L -1.8369701987210296e-15,10.0 L 7.071067811865474,7.071067811865477 L 10.0,0.0 z\" /></g></svg>"
      ],
      "text/plain": [
       "<POLYGON ((10 0, 7.071 -7.071, 0 -10, -7.071 -7.071, -10 0, -7.071 7.071, 0 ...>"
      ]
     },
     "execution_count": 13,
     "metadata": {},
     "output_type": "execute_result"
    }
   ],
   "source": [
    "draw.Point(0, 0).buffer(10.0, 2)"
   ]
  },
  {
   "cell_type": "code",
   "execution_count": 20,
   "metadata": {},
   "outputs": [],
   "source": [
    "import qiskit_metal as metal\n",
    "?metal.qlibrary.core.QComponent.add_qgeometry"
   ]
  },
  {
   "cell_type": "code",
   "execution_count": 40,
   "metadata": {},
   "outputs": [
    {
     "data": {
      "image/svg+xml": [
       "<svg xmlns=\"http://www.w3.org/2000/svg\" xmlns:xlink=\"http://www.w3.org/1999/xlink\" width=\"300\" height=\"300\" viewBox=\"-702.0 -702.0 1404.0 1404.0\" preserveAspectRatio=\"xMinYMin meet\"><g transform=\"matrix(1,0,0,-1,0,0.0)\"><g><path fill-rule=\"evenodd\" fill=\"#66cc99\" stroke=\"#555555\" stroke-width=\"9.36\" opacity=\"0.6\" d=\"M 10.0,-640.0 L 10.0,-650.0 L -10.0,-650.0 L -10.0,-40.0 L -9.95184726672197,-39.01982859670439 L -9.807852804032304,-38.04909677983872 L -9.569403357322088,-37.09715322745538 L -9.238795325112868,-36.1731656763491 L -8.819212643483551,-35.28603263174002 L -8.314696123025453,-34.44429766980398 L -7.730104533627369,-33.65606715836354 L -7.071067811865475,-32.928932188134524 L 32.928932188134524,7.071067811865475 L 33.65606715836354,7.730104533627369 L 34.44429766980398,8.314696123025453 L 35.28603263174002,8.81921264348355 L 36.1731656763491,9.238795325112868 L 37.09715322745538,9.56940335732209 L 38.04909677983872,9.807852804032304 L 39.01982859670439,9.951847266721968 L 40.0,10.0 L 640.0,10.0 L 650.0,9.999999999999998 L 650.0,-10.000000000000002 L 44.14213562373095,-10.0 L 10.0,-44.14213562373095 L 10.0,-640.0 z\" /><path fill-rule=\"evenodd\" fill=\"#66cc99\" stroke=\"#555555\" stroke-width=\"9.36\" opacity=\"0.6\" d=\"M -10.0,640.0 L -10.0,650.0 L 10.0,650.0 L 10.0,40.0 L 9.95184726672197,39.01982859670439 L 9.807852804032304,38.04909677983872 L 9.569403357322088,37.09715322745538 L 9.238795325112868,36.1731656763491 L 8.819212643483551,35.28603263174002 L 8.314696123025453,34.44429766980398 L 7.730104533627369,33.65606715836354 L 7.071067811865475,32.928932188134524 L -32.928932188134524,-7.071067811865475 L -33.65606715836354,-7.730104533627369 L -34.44429766980398,-8.314696123025453 L -35.28603263174002,-8.81921264348355 L -36.1731656763491,-9.238795325112868 L -37.09715322745538,-9.56940335732209 L -38.04909677983872,-9.807852804032304 L -39.01982859670439,-9.951847266721968 L -40.0,-10.0 L -640.0,-10.0 L -650.0,-9.999999999999998 L -650.0,10.000000000000002 L -44.14213562373095,10.0 L -27.071067811865476,27.071067811865476 L -10.0,44.14213562373095 L -10.0,640.0 z\" /><polyline fill=\"none\" stroke=\"#66cc99\" stroke-width=\"9.36\" points=\"-27.071067811865476,27.071067811865476 -33.63603896932107,33.63603896932107\" opacity=\"0.8\" /></g></g></svg>"
      ],
      "text/plain": [
       "<GEOMETRYCOLLECTION (POLYGON ((10 -640, 10 -650, -10 -650, -10 -40, -9.952 -...>"
      ]
     },
     "execution_count": 40,
     "metadata": {},
     "output_type": "execute_result"
    }
   ],
   "source": [
    "from shapely.ops import unary_union\n",
    "from qiskit_metal.draw import LineString\n",
    "import  math\n",
    "# from shapely.measurement import length\n",
    "scale = 1.0\n",
    "cross_width = 1340.0\n",
    "cross_height = 80.0\n",
    "pad_width = 20.0\n",
    "pad_height = 20.0\n",
    "pad_distance = 20.0\n",
    "jj_pad_width = 10.0\n",
    "jj_pad_height = 9.0\n",
    "#two islands draw\n",
    "start_point = cross_width/2-pad_width/2-pad_distance\n",
    "mid_point = cross_height/2\n",
    "num_interpolation = 5\n",
    "point_space = (start_point-mid_point)/num_interpolation\n",
    "first_point = start_point-point_space\n",
    "second_point = start_point-2*point_space\n",
    "third_point = start_point- 3*point_space\n",
    "fourth_point = start_point-4*point_space\n",
    "point0 = (-start_point,0)\n",
    "point1 = (-first_point,0)\n",
    "point2 = (-second_point,0)\n",
    "point3 = (-third_point,0)\n",
    "point4 = (-fourth_point,0)\n",
    "point5 = (-mid_point,0)\n",
    "point6 = (0,mid_point)\n",
    "point7 = (0,fourth_point)\n",
    "point8 = (0,third_point)\n",
    "point9 = (0,second_point)\n",
    "point10 = (0,first_point)\n",
    "point11 = (0,start_point)\n",
    "\n",
    "line = LineString([point0,point1,point2,point3,point4,point5,point6,point7,point8,point9,point10,point11])\n",
    "line0 = line.buffer(10,cap_style=3,join_style=1)\n",
    "line1 = draw.rotate(line0, -180,origin=(0,0))\n",
    "length_island =draw.shapely.length(LineString([point5,point6]))\n",
    "#Joesphon Junction draw\n",
    "island1_mid_point = draw.shapely.line_interpolate_point(LineString([point5,point6]),length_island/2)\n",
    "island2_mid_point = draw.shapely.transform(island1_mid_point,lambda x:-x)\n",
    "jj_pad1_end_coord = (-mid_point+ jj_pad_height*math.sqrt(2)/2.0, mid_point- jj_pad_height*math.sqrt(2)/2.0)\n",
    "rect_jj_pad1_referenceLine = LineString([island1_mid_point,jj_pad1_end_coord])\n",
    "rect_jj = LineString([island1_mid_point,island2_mid_point])\n",
    "unary_union([line0,line1,rect_jj_pad1_referenceLine])\n",
    "\n",
    "# draw.shapely.get_coordinates(island2_mid_point)\n",
    "# length_island\n",
    "\n"
   ]
  },
  {
   "cell_type": "code",
   "execution_count": null,
   "metadata": {},
   "outputs": [],
   "source": []
  }
 ],
 "metadata": {
  "kernelspec": {
   "display_name": "Python 3 (ipykernel)",
   "language": "python",
   "name": "python3"
  },
  "language_info": {
   "codemirror_mode": {
    "name": "ipython",
    "version": 3
   },
   "file_extension": ".py",
   "mimetype": "text/x-python",
   "name": "python",
   "nbconvert_exporter": "python",
   "pygments_lexer": "ipython3",
   "version": "3.9.13"
  }
 },
 "nbformat": 4,
 "nbformat_minor": 1
}
