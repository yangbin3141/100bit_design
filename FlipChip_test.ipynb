{
 "cells": [
  {
   "cell_type": "code",
   "execution_count": 1,
   "metadata": {
    "collapsed": true
   },
   "outputs": [],
   "source": [
    "%load_ext autoreload\n",
    "%autoreload 2"
   ]
  },
  {
   "cell_type": "code",
   "execution_count": 2,
   "outputs": [],
   "source": [
    "from qiskit_metal import draw, Dict,designs\n",
    "from qiskit_metal.qlibrary.core import BaseQubit\n",
    "from qiskit_metal.toolbox_metal import math_and_overrides\n",
    "from qiskit_metal.qlibrary.core import QComponent\n",
    "from qiskit_metal.draw import LineString\n",
    "from qiskit_metal import MetalGUI, Dict, Headings\n",
    "from qiskit_metal.qlibrary.core.qroute import QRouteLead, QRoutePoint, QRoute\n",
    "from qiskit_metal.qlibrary.qubits.transmon_cross import TransmonCross\n",
    "from qiskit_metal.qlibrary.resonator.readoutres_fc import ReadoutResFC\n",
    "from  qiskit_metal.qlibrary.user_components.my_qcomponent import  New_Transomon_Cross, RouteConnector,MyReadoutRes01,MyFluxLine01,MyFluxLine02,MyConnector,MyXYLine01\n",
    "from  qiskit_metal.qlibrary.terminations.short_to_ground import ShortToGround\n",
    "from qiskit_metal.qlibrary.tlines.straight_path import RouteStraight\n",
    "from qiskit_metal.qlibrary.tlines.pathfinder import RoutePathfinder\n",
    "from qiskit_metal.qlibrary.terminations.launchpad_wb import LaunchpadWirebond\n",
    "import  math\n",
    "from collections import  OrderedDict\n",
    "import numpy as np"
   ],
   "metadata": {
    "collapsed": false
   }
  },
  {
   "cell_type": "code",
   "execution_count": 3,
   "outputs": [],
   "source": [
    "# Initialise design\n",
    "design = designs.DesignFlipChip()\n",
    "# Specify design name\n",
    "design.metadata['design_name'] = 'FlipChip_Device'\n",
    "# launch GUI\n",
    "gui = MetalGUI(design)\n",
    "# Allow running the same cell here multiple times to overwrite changes\n",
    "design.overwrite_enabled = True"
   ],
   "metadata": {
    "collapsed": false
   }
  },
  {
   "cell_type": "code",
   "execution_count": 4,
   "outputs": [
    {
     "data": {
      "text/plain": "{'cpw_width': '10 um',\n 'cpw_gap': '5 um',\n 'sample_holder_top': '890um',\n 'sample_holder_bottom': '1650um'}"
     },
     "execution_count": 4,
     "metadata": {},
     "output_type": "execute_result"
    }
   ],
   "source": [
    "# design.chips.Q_chip.size_x = '12.5 mm'\n",
    "# design.chips.Q_chip.size_y = '12.5 mm'\n",
    "# design.chips.C_chip.size_x = '12.5 mm'\n",
    "# design.chips.C_chip.size_y = '12.5 mm'\n",
    "design.chips['Q_chip']['material'] = 'sapphire'\n",
    "design.chips['C_chip']['material'] = 'sapphire'\n",
    "design.chips['Q_chip']['size']['size_x'] = '8 mm'\n",
    "design.chips['Q_chip']['size']['size_y'] = '8 mm'\n",
    "design.chips['C_chip']['size']['size_x'] = '15 mm'\n",
    "design.chips['C_chip']['size']['size_y'] = '15 mm'\n",
    "# float(design.chips['Q_chip']['size']['size_x'][0])\n",
    "design.variables.cpw_gap='5 um'\n",
    "design.variables"
   ],
   "metadata": {
    "collapsed": false
   }
  },
  {
   "cell_type": "code",
   "execution_count": 5,
   "outputs": [],
   "source": [
    "# design the layout of launchpad\n",
    "points = []\n",
    "N=14\n",
    "size = 10.0\n",
    "for i in range(N):\n",
    "    shape = draw.Point(-size/2+i*size/N,size/2)\n",
    "    points.append(shape)\n",
    "# for i in range(N):\n",
    "#     shape = draw.Point(size/2,size/2-i*size/N)\n",
    "x = draw.shapely.geometrycollections(points)\n",
    "x0 = draw.rotate(x,90,origin=(0,0))\n",
    "x1 = draw.rotate(x0,90,origin=(0,0))\n",
    "x2 = draw.rotate(x1,90,origin=(0,0))\n",
    "square = draw.shapely.geometrycollections([x,x0,x1,x2])\n",
    "square = draw.rotate(square,45,origin=(0,0))\n",
    "square_coords =[]\n",
    "for i in range(4):\n",
    "    for j in range(N):\n",
    "        square_coords.append(square.geoms[i].geoms[j].coords[0])\n",
    "# square_coords[15]\n",
    "# square.geoms[1]"
   ],
   "metadata": {
    "collapsed": false
   }
  },
  {
   "cell_type": "code",
   "execution_count": 6,
   "outputs": [],
   "source": [
    "opt=Dict(pos_x=0 , pos_y=0, orientation='-45', pad_width='245 um', pad_height='245 um', pad_gap = '100 um', lead_length = '176 um', chip = 'C_chip')\n",
    "opt_a=Dict(pos_x=0 , pos_y=0, orientation='45', pad_width='245 um', pad_height='245 um', pad_gap = '100 um', lead_length = '176 um', chip = 'C_chip')\n",
    "opt_b=Dict(pos_x=0 , pos_y=0, orientation='135', pad_width='245 um', pad_height='245 um', pad_gap = '100 um', lead_length = '176 um', chip = 'C_chip')\n",
    "opt_c=Dict(pos_x=0 , pos_y=0, orientation='-135', pad_width='245 um', pad_height='245 um', pad_gap = '100 um', lead_length = '176 um', chip = 'C_chip')\n",
    "# test = OpenToGround(design, 'open01', options=Dict(pos_x='-3 mm',  pos_y=pos_y_zline+0.02, orientation='-45', chip ='C_chip'),)\n",
    "launch_zline = LaunchpadWirebond(design,'launch_zline',options=opt)\n",
    "launch_zline_a = LaunchpadWirebond(design,'launch_zline_a',options=opt_a)\n",
    "launch_zline_b = LaunchpadWirebond(design,'launch_zline_b',options=opt_b)\n",
    "launch_zline_c = LaunchpadWirebond(design,'launch_zline_c',options=opt_c)\n",
    "gui.rebuild()\n",
    "gui.autoscale()"
   ],
   "metadata": {
    "collapsed": false
   }
  },
  {
   "cell_type": "code",
   "execution_count": 7,
   "outputs": [
    {
     "data": {
      "text/plain": "{'pos_x': 0,\n 'pos_y': 0,\n 'orientation': '-45',\n 'chip': 'C_chip',\n 'layer': '1',\n 'trace_width': 'cpw_width',\n 'trace_gap': 'cpw_gap',\n 'lead_length': '176 um',\n 'pad_width': '245 um',\n 'pad_height': '245 um',\n 'pad_gap': '100 um',\n 'taper_height': '122um'}"
     },
     "execution_count": 7,
     "metadata": {},
     "output_type": "execute_result"
    }
   ],
   "source": [
    "launch_zline.options"
   ],
   "metadata": {
    "collapsed": false
   }
  },
  {
   "cell_type": "code",
   "execution_count": 8,
   "outputs": [],
   "source": [
    "design.delete_all_components()\n",
    "launch_list = []\n",
    "for i in range(4):\n",
    "    for j in range(N):\n",
    "         if (i==0):\n",
    "            launch_list.append(design.copy_qcomponent(launch_zline,'launch_zline'+str(i)+str(j), Dict(pos_x =square_coords[i*N+j][0] ,pos_y=square_coords[i*N+j][1])))\n",
    "         elif (i==1):\n",
    "             launch_list.append(design.copy_qcomponent(launch_zline_a,'launch_zline'+str(i)+str(j), Dict(pos_x =square_coords[i*N+j][0] ,pos_y=square_coords[i*N+j][1])))\n",
    "         elif (i==2):\n",
    "             launch_list.append(design.copy_qcomponent(launch_zline_b,'launch_zline'+str(i)+str(j), Dict(pos_x =square_coords[i*N+j][0] ,pos_y=square_coords[i*N+j][1])))\n",
    "         else:\n",
    "             launch_list.append(design.copy_qcomponent(launch_zline_c,'launch_zline'+str(i)+str(j), Dict(pos_x =square_coords[i*N+j][0] ,pos_y=square_coords[i*N+j][1])))\n",
    "# launch_list.append(design.copy_qcomponent(launch_zline,'launch_zline'+str(15), Dict(pos_x =square_coords[15][0] ,pos_y=square_coords[15][1])))\n",
    "gui.rebuild()\n",
    "gui.autoscale()"
   ],
   "metadata": {
    "collapsed": false
   }
  },
  {
   "cell_type": "code",
   "execution_count": 9,
   "outputs": [],
   "source": [
    "# # delete existing components\n",
    "# design.delete_all_components()\n",
    "\n",
    "# draw an Xmon on the Q_chip. Notice that I have defined one more item called chip and set it to be the 'Q_chip'\n",
    "# position the center of the Xmon at (0,0)\n",
    "q0_x = '0.0 mm'\n",
    "q0_y = '0.0 mm'\n",
    "\n",
    "# build the device, positioned at (q1_x, q1_y)\n",
    "# q1 = TransmonCross(design, 'Q1', options = Dict(pos_x=q1_x, pos_y=q1_y, **options))\n",
    "q0 = New_Transomon_Cross(design, 'Q0', options = Dict(pos_x=q0_x, pos_y=q0_y, chip='Q_chip'))\n",
    "\n",
    "# rebuild in gui\n",
    "gui.rebuild()\n",
    "gui.autoscale()"
   ],
   "metadata": {
    "collapsed": false
   }
  },
  {
   "cell_type": "code",
   "execution_count": 10,
   "outputs": [],
   "source": [
    "q0.options.gds_cell_name = 'FakeJunction_01'\n"
   ],
   "metadata": {
    "collapsed": false
   }
  },
  {
   "cell_type": "code",
   "execution_count": 11,
   "outputs": [
    {
     "data": {
      "text/plain": "[(-2.71, 1.355),\n (-1.355, 1.355),\n (0.0, 1.355),\n (1.3549999999999995, 1.355),\n (2.71, 1.355),\n (-2.71, -1.355),\n (-1.355, -1.355),\n (0.0, -1.355),\n (1.3549999999999995, -1.355),\n (2.71, -1.355)]"
     },
     "execution_count": 11,
     "metadata": {},
     "output_type": "execute_result"
    }
   ],
   "source": [
    "#design the n qubits layout (n must be even)\n",
    "qq_space = 0.015\n",
    "qubit_num = 10\n",
    "qubit_pos_list = []\n",
    "y1 = q0.parse_options().cross_width+qq_space\n",
    "y2 = -1*(q0.parse_options().cross_width+qq_space)\n",
    "x1 = -int(qubit_num/4)*y1\n",
    "for i in range(int(qubit_num)):\n",
    "    if  (i<qubit_num/2):\n",
    "        qubit_pos_list.append((x1+i*y1,y1))\n",
    "    else:\n",
    "        qubit_pos_list.append((x1+(i-qubit_num/2)*y1,y2))\n",
    "qubit_pos_list"
   ],
   "metadata": {
    "collapsed": false
   }
  },
  {
   "cell_type": "code",
   "execution_count": 12,
   "outputs": [],
   "source": [
    "qubit_list = []\n",
    "for i in range(int(qubit_num)):\n",
    "     qubit_list.append(design.copy_qcomponent(q0,'Q'+str(i+1), Dict(pos_x =qubit_pos_list[i][0] ,pos_y=qubit_pos_list[i][1])))\n",
    "gui.rebuild()\n",
    "gui.autoscale()"
   ],
   "metadata": {
    "collapsed": false
   }
  },
  {
   "cell_type": "code",
   "execution_count": 13,
   "outputs": [],
   "source": [
    "# draw a readout resonator on the C_chip. Note that we specify the chip='C_chip'.\n",
    "\n",
    "options = Dict(\n",
    "       readout_radius='50 um',\n",
    "       readout_cpw_width='10 um',\n",
    "       readout_cpw_gap='5 um',\n",
    "       readout_cpw_turnradius='27 um',\n",
    "       vertical_start_length = '40 um',\n",
    "       vertical_end_length = '300 um',\n",
    "       horizontal_start_length01= '400 um',\n",
    "       horizontal_start_length02 = '400 um',\n",
    "       horizontal_end_length = '500 um',\n",
    "       total_length = '4200 um',\n",
    "       arc_step='1 um',\n",
    "       meander_round = '5',\n",
    "       orientation='0',\n",
    "       layer='1',\n",
    "       layer_subtract='2',\n",
    "       inverse = False,\n",
    "       mirror = False,\n",
    "       subtract=True,\n",
    "       chip='C_chip ',)\n",
    "location_x = qubit_list[0].parse_options().cross_width/4\n",
    "# the resonator is set to have its origin at the center of the circular patch.\n",
    "# So we set the qubit and the resonator to share the same coordinate (q1_x, q1_y)\n",
    "r1 = MyReadoutRes01(design, 'R1', options = Dict(pos_x = qubit_pos_list[0][0]+location_x, pos_y = qubit_pos_list[0][1], **options))\n",
    "# rebuild in gui\n",
    "gui.rebuild()\n",
    "gui.autoscale()"
   ],
   "metadata": {
    "collapsed": false
   }
  },
  {
   "cell_type": "code",
   "execution_count": 14,
   "outputs": [],
   "source": [
    "# draw first five resonators\n",
    "resonator_list = []\n",
    "resonator_list.append(r1)\n",
    "for i in range(int(qubit_num/2)-1):\n",
    "     location = qubit_list[i+1].parse_options().cross_width/4\n",
    "     resonator_list.append(design.copy_qcomponent(r1,'R'+str(i+2), Dict(pos_x =qubit_pos_list[i+1][0]+location,pos_y=qubit_pos_list[i+1][1])))\n",
    "gui.rebuild()\n",
    "gui.autoscale()"
   ],
   "metadata": {
    "collapsed": false
   }
  },
  {
   "cell_type": "code",
   "execution_count": 15,
   "outputs": [],
   "source": [
    "# draw next five resonators\n",
    "options = Dict(\n",
    "       readout_radius='50 um',\n",
    "       readout_cpw_width='10 um',\n",
    "       readout_cpw_gap='5 um',\n",
    "       readout_cpw_turnradius='27 um',\n",
    "       vertical_start_length = '40 um',\n",
    "       vertical_end_length = '300 um',\n",
    "       horizontal_start_length01= '400 um',\n",
    "       horizontal_start_length02 = '400 um',\n",
    "       horizontal_end_length = '500 um',\n",
    "       total_length = '4200 um',\n",
    "       arc_step='1 um',\n",
    "       meander_round = '5',\n",
    "       orientation='0',\n",
    "       layer='1',\n",
    "       layer_subtract='2',\n",
    "       inverse = True,\n",
    "       mirror = False,\n",
    "       subtract=True,\n",
    "       chip='C_chip ',)\n",
    "location_x = qubit_list[5].parse_options().cross_width/4\n",
    "# the resonator is set to have its origin at the center of the circular patch.\n",
    "# So we set the qubit and the resonator to share the same coordinate (q1_x, q1_y)\n",
    "r1 = MyReadoutRes01(design, 'R6', options = Dict(pos_x = qubit_pos_list[5][0]-location_x, pos_y = qubit_pos_list[5][1], **options))\n",
    "# rebuild in gui\n",
    "gui.rebuild()\n",
    "gui.autoscale()"
   ],
   "metadata": {
    "collapsed": false
   }
  },
  {
   "cell_type": "code",
   "execution_count": 16,
   "outputs": [],
   "source": [
    "resonator_list.append(r1)\n",
    "for i in range(int(qubit_num/2)-1):\n",
    "     location = qubit_list[i+1].parse_options().cross_width/4\n",
    "     resonator_list.append(design.copy_qcomponent(r1,'R'+str(i+2+int(qubit_num/2)), Dict(pos_x =qubit_pos_list[i+1+int(qubit_num/2)][0]-location,pos_y=qubit_pos_list[i+1+int(qubit_num/2)][1])))\n",
    "gui.rebuild()\n",
    "gui.autoscale()"
   ],
   "metadata": {
    "collapsed": false
   }
  },
  {
   "cell_type": "code",
   "execution_count": 17,
   "outputs": [
    {
     "data": {
      "text/plain": "0.56"
     },
     "execution_count": 17,
     "metadata": {},
     "output_type": "execute_result"
    }
   ],
   "source": [
    "design.components['launch_zline02'].pins\n",
    "design.components['R1'].pins.readout.middle[1]"
   ],
   "metadata": {
    "collapsed": false
   }
  },
  {
   "cell_type": "code",
   "execution_count": 18,
   "outputs": [],
   "source": [
    "# draw first readout line\n",
    "res_readout_y = design.components['R1'].pins.readout.middle[1]\n",
    "rr_space = 0.025\n",
    "readout01_y = res_readout_y-rr_space\n",
    "Q_chip_size =float(design.chips['Q_chip']['size']['size_x'][0])\n",
    "extended_pin_length = 0.09\n",
    "fillet = 0.09\n",
    "\n",
    "def  get_extended_pos_y(y1,length,ydirction):\n",
    "    y_extended = y1+length*ydirction\n",
    "    return y_extended\n",
    "\n",
    "def  get_connector_pos_xy(y,size,type):\n",
    "    if (type==1):\n",
    "        x = y-size*math.sqrt(2)/2\n",
    "    elif (type==2):\n",
    "        x = size*math.sqrt(2)/2-y\n",
    "    elif (type==3):\n",
    "        x = y+size*math.sqrt(2)/2\n",
    "    else:\n",
    "        x = -size*math.sqrt(2)/2-y\n",
    "\n",
    "    return x,y\n",
    "\n",
    "y_extended_launch_zline02 =get_extended_pos_y(design.components['launch_zline02'].pins.tie.middle[1],extended_pin_length,\n",
    "                                              design.components['launch_zline02'].pins.tie.normal[1])\n",
    "\n",
    "readout01_c_pos_x_l, readout01_c_pos_y_l = get_connector_pos_xy(y_extended_launch_zline02,Q_chip_size,1)\n",
    "\n",
    "opt = Dict(pos_x=readout01_c_pos_x_l,\n",
    "                           pos_y=readout01_c_pos_y_l,\n",
    "                           width='10 um',\n",
    "                           gap='7 um',\n",
    "                           width0='10 um',\n",
    "                           gap0='5 um',\n",
    "                           length = '100 um',\n",
    "                           orientation='0',\n",
    "                           layer='1',\n",
    "                           layer_subtract='2',\n",
    "                           subtract=True,\n",
    "                           chip='C_Chip', )\n",
    "my_connector_readout01_l = MyConnector(design,'my_connector_readout01_l', options=opt)\n",
    "\n",
    "pin_opt = Dict( pin_inputs=Dict(start_pin=Dict(component='my_connector_readout01_l',pin='c_pin_l'),\n",
    "                         end_pin=Dict(component='launch_zline02',pin='tie'),),lead = Dict(end_straight = extended_pin_length,),\n",
    "                          chip = 'C_chip')\n",
    "readout01_lz02=RoutePathfinder(design,'readout01_lz02',options=pin_opt)\n",
    "\n",
    "y_extended_launch_zline312 =get_extended_pos_y(design.components['launch_zline312'].pins.tie.middle[1],extended_pin_length,\n",
    "                                              design.components['launch_zline312'].pins.tie.normal[1])\n",
    "readout01_c_pos_x_r, readout01_c_pos_y_r = get_connector_pos_xy(y_extended_launch_zline312,Q_chip_size,2)\n",
    "\n",
    "opt = Dict(pos_x=readout01_c_pos_x_r,\n",
    "                           pos_y=readout01_c_pos_y_r,\n",
    "                           width='10 um',\n",
    "                           gap='5 um',\n",
    "                           width0='10 um',\n",
    "                           gap0='7 um',\n",
    "                           length = '100 um',\n",
    "                           orientation='0',\n",
    "                           layer='1',\n",
    "                           layer_subtract='2',\n",
    "                           subtract=True,\n",
    "                           chip='C_Chip', )\n",
    "my_connector_readout01_r = MyConnector(design,'my_connector_readout01_r', options=opt)\n",
    "\n",
    "pin_opt = Dict( pin_inputs=Dict(start_pin=Dict(component='my_connector_readout01_r',pin='c_pin_r'),\n",
    "                         end_pin=Dict(component='launch_zline312',pin='tie'),),lead = Dict(end_straight = extended_pin_length,),\n",
    "                          fillet=fillet, chip = 'C_chip')\n",
    "readout01_lz312=RoutePathfinder(design,'readout01_lz312',options=pin_opt)\n",
    "\n",
    "\n",
    "anchors_readout01_pos_y = design.components['R1'].pins.readout.middle[1]-rr_space\n",
    "anchors_readout01_pos_x01 = readout01_c_pos_x_l+0.4\n",
    "anchors_readout01_pos_x02 = readout01_c_pos_x_r-0.4\n",
    "anchors = OrderedDict()\n",
    "anchors[0] = np.array([anchors_readout01_pos_x01,anchors_readout01_pos_y])\n",
    "anchors[1]=np.array([anchors_readout01_pos_x02,anchors_readout01_pos_y])\n",
    "lead = Dict(start_straight=0.2,end_straight=0.2,)\n",
    "options = Dict( pin_inputs=Dict(start_pin=Dict(component='my_connector_readout01_l',pin='c_pin_r'),\n",
    "                         end_pin=Dict(component='my_connector_readout01_r',pin='c_pin_l'),),anchors=anchors,\n",
    "                          lead=lead, fillet=fillet, trace_gap='7um', chip = 'C_chip')\n",
    "lc_readout01_rc = RoutePathfinder(design,'lc_readout01_rc',options=options)\n",
    "\n",
    "\n",
    "# pin_opt = Dict( pin_inputs=Dict(start_pin=Dict(component='launch_zline01',pin='tie'),\n",
    "#                          end_pin=Dict(component='launch_zline313',pin='tie'),),\n",
    "#                           trace_width='10um',trace_gap='6um',chip = 'C_chip')\n",
    "# readout01=RoutePathfinder(design,'Readout01',options=pin_opt)\n",
    "\n",
    "# pin_opt = Dict( pin_inputs=Dict(start_pin=Dict(component='launch_zline113',pin='tie'),\n",
    "#                          end_pin=Dict(component='launch_zline21',pin='tie'),),\n",
    "#                           trace_width='10um',trace_gap='6um',chip = 'C_chip')\n",
    "# readout02=RoutePathfinder(design,'Readout02',options=pin_opt)\n",
    "gui.rebuild()\n",
    "gui.autoscale()\n",
    "\n",
    "# anchors_readout01_pos_y,anchors_readout01_pos_x01,anchors_readout01_pos_x02"
   ],
   "metadata": {
    "collapsed": false
   }
  },
  {
   "cell_type": "code",
   "execution_count": 19,
   "outputs": [],
   "source": [
    "# draw second readout line\n",
    "res_readout_y = design.components['R6'].pins.readout.middle[1]\n",
    "# rr_space = 0.025\n",
    "# readout02_y = res_readout_y+rr_space\n",
    "\n",
    "# extended_pin_length = 0.09\n",
    "# fillet = 0.09\n",
    "\n",
    "y_extended_launch_zline112 =get_extended_pos_y(design.components['launch_zline112'].pins.tie.middle[1],extended_pin_length,\n",
    "                                              design.components['launch_zline112'].pins.tie.normal[1])\n",
    "\n",
    "readout02_c_pos_x_l, readout02_c_pos_y_l = get_connector_pos_xy(y_extended_launch_zline112,Q_chip_size,4)\n",
    "\n",
    "opt = Dict(pos_x=readout02_c_pos_x_l,\n",
    "                           pos_y=readout02_c_pos_y_l,\n",
    "                           width='10 um',\n",
    "                           gap='7 um',\n",
    "                           width0='10 um',\n",
    "                           gap0='5 um',\n",
    "                           length = '100 um',\n",
    "                           orientation='0',\n",
    "                           layer='1',\n",
    "                           layer_subtract='2',\n",
    "                           subtract=True,\n",
    "                           chip='C_Chip', )\n",
    "my_connector_readout02_l = MyConnector(design,'my_connector_readout02_l', options=opt)\n",
    "\n",
    "pin_opt = Dict( pin_inputs=Dict(start_pin=Dict(component='my_connector_readout02_l',pin='c_pin_l'),\n",
    "                         end_pin=Dict(component='launch_zline112',pin='tie'),),lead = Dict(end_straight = extended_pin_length,),\n",
    "                          chip = 'C_chip')\n",
    "readout01_lz112=RoutePathfinder(design,'readout01_lz112',options=pin_opt)\n",
    "\n",
    "y_extended_launch_zline22 =get_extended_pos_y(design.components['launch_zline22'].pins.tie.middle[1],extended_pin_length,\n",
    "                                              design.components['launch_zline22'].pins.tie.normal[1])\n",
    "readout02_c_pos_x_r, readout02_c_pos_y_r = get_connector_pos_xy(y_extended_launch_zline22,Q_chip_size,3)\n",
    "\n",
    "opt = Dict(pos_x=readout02_c_pos_x_r,\n",
    "                           pos_y=readout02_c_pos_y_r,\n",
    "                           width='10 um',\n",
    "                           gap='5 um',\n",
    "                           width0='10 um',\n",
    "                           gap0='7 um',\n",
    "                           length = '100 um',\n",
    "                           orientation='0',\n",
    "                           layer='1',\n",
    "                           layer_subtract='2',\n",
    "                           subtract=True,\n",
    "                           chip='C_Chip', )\n",
    "my_connector_readout02_r = MyConnector(design,'my_connector_readout02_r', options=opt)\n",
    "\n",
    "pin_opt = Dict( pin_inputs=Dict(start_pin=Dict(component='my_connector_readout02_r',pin='c_pin_r'),\n",
    "                         end_pin=Dict(component='launch_zline22',pin='tie'),),lead = Dict(end_straight = extended_pin_length,),\n",
    "                          fillet=fillet, chip = 'C_chip')\n",
    "readout01_lz22=RoutePathfinder(design,'readout01_lz22',options=pin_opt)\n",
    "\n",
    "rr_space = 0.025\n",
    "anchors_readout02_pos_y = design.components['R6'].pins.readout.middle[1]+rr_space\n",
    "anchors_readout02_pos_x01 = readout02_c_pos_x_l+0.4\n",
    "anchors_readout02_pos_x02 = readout02_c_pos_x_r-0.4\n",
    "anchors = OrderedDict()\n",
    "anchors[0] = np.array([anchors_readout02_pos_x01,anchors_readout02_pos_y])\n",
    "anchors[1]=np.array([anchors_readout02_pos_x02,anchors_readout02_pos_y])\n",
    "lead = Dict(start_straight=0.2,end_straight=0.2,)\n",
    "options = Dict( pin_inputs=Dict(start_pin=Dict(component='my_connector_readout02_l',pin='c_pin_r'),\n",
    "                         end_pin=Dict(component='my_connector_readout02_r',pin='c_pin_l'),),anchors=anchors,\n",
    "                          lead=lead, fillet=fillet, trace_gap='7um', chip = 'C_chip')\n",
    "lc_readout02_rc = RoutePathfinder(design,'lc_readout02_rc',options=options)\n",
    "\n",
    "\n",
    "# pin_opt = Dict( pin_inputs=Dict(start_pin=Dict(component='launch_zline01',pin='tie'),\n",
    "#                          end_pin=Dict(component='launch_zline313',pin='tie'),),\n",
    "#                           trace_width='10um',trace_gap='6um',chip = 'C_chip')\n",
    "# readout01=RoutePathfinder(design,'Readout01',options=pin_opt)\n",
    "\n",
    "# pin_opt = Dict( pin_inputs=Dict(start_pin=Dict(component='launch_zline113',pin='tie'),\n",
    "#                          end_pin=Dict(component='launch_zline21',pin='tie'),),\n",
    "#                           trace_width='10um',trace_gap='6um',chip = 'C_chip')\n",
    "# readout02=RoutePathfinder(design,'Readout02',options=pin_opt)\n",
    "gui.rebuild()\n",
    "gui.autoscale()"
   ],
   "metadata": {
    "collapsed": false
   }
  },
  {
   "cell_type": "code",
   "execution_count": 20,
   "outputs": [
    {
     "data": {
      "text/plain": "{'chip': 'C_chip',\n 'layer': '1',\n 'pin_inputs': {'start_pin': {'component': 'my_connector_readout01_l',\n   'pin': 'c_pin_r'},\n  'end_pin': {'component': 'my_connector_readout01_r', 'pin': 'c_pin_l'}},\n 'fillet': 0.09,\n 'lead': {'start_straight': 0.2,\n  'end_straight': 0.2,\n  'start_jogged_extension': '',\n  'end_jogged_extension': ''},\n 'total_length': '7mm',\n 'trace_width': 'cpw_width',\n 'anchors': {0: array([-4.43479211,  0.535     ]),\n  1: array([4.43479211, 0.535     ])},\n 'advanced': {'avoid_collision': 'true'},\n 'step_size': '0.25mm',\n 'hfss_wire_bonds': False,\n 'q3d_wire_bonds': False,\n 'trace_gap': '7um',\n '_actual_length': '9.989195177646161 mm'}"
     },
     "execution_count": 20,
     "metadata": {},
     "output_type": "execute_result"
    }
   ],
   "source": [
    "# launch_list[4].pins\n",
    "lc_readout01_rc.options"
   ],
   "metadata": {
    "collapsed": false
   }
  },
  {
   "cell_type": "code",
   "execution_count": 21,
   "outputs": [],
   "source": [
    "#draw z line with connector\n",
    "#calculate y position for z(flux) control line connection between launch and qubit\n",
    "y_extended_launch_zline04 = get_extended_pos_y(design.components['launch_zline04'].pins.tie.middle[1],extended_pin_length,design.components['launch_zline04'].pins.tie.normal[1])\n",
    "# y_1 = design.components['launch_zline04'].pins.tie.middle[1]+extended_pin_length*design.components['launch_zline04'].pins.tie.normal[1]\n",
    "y1_zline = y_extended_launch_zline04-qubit_pos_list[0][1]\n",
    "zline01_c_pos_x, zline01_c_pos_y = get_connector_pos_xy(y_extended_launch_zline04,Q_chip_size,1)\n",
    "\n",
    "opt = Dict(pos_x=zline01_c_pos_x,\n",
    "                           pos_y=zline01_c_pos_y,\n",
    "                           width='10 um',\n",
    "                           gap='7 um',\n",
    "                           width0='10 um',\n",
    "                           gap0='5 um',\n",
    "                           length = '100 um',\n",
    "                           orientation='0',\n",
    "                           layer='1',\n",
    "                           layer_subtract='2',\n",
    "                           subtract=True,\n",
    "                           chip='C_Chip', )\n",
    "my_connector_zline01 = MyConnector(design,'my_connector_zline01',options=opt)\n",
    "\n",
    "opt = Dict(pos_x=qubit_pos_list[0][0], pos_y=qubit_pos_list[0][1] ,  end_yposition=y1_zline,\n",
    "           inverse = True, mirror = True, flux_cpw_gap0 = '7 um', end_horizontal_length = '100 um')\n",
    "my_flux01 = MyFluxLine02(design,'my_flux01',options=opt)\n",
    "\n",
    "pin_opt = Dict(pin_inputs=Dict(start_pin=Dict(component='my_flux01',pin='flux_pin'),\n",
    "                         end_pin=Dict(component='my_connector_zline01',pin='c_pin_r'),),trace_width = '10 um',\n",
    "                        trace_gap='7 um',fillet=fillet, chip = 'C_chip')\n",
    "zline_q1 = RouteStraight(design, 'zline_q1', options=pin_opt)\n",
    "\n",
    "pin_opt = Dict(pin_inputs=Dict(start_pin=Dict(component='my_connector_zline01',pin='c_pin_l'),\n",
    "                         end_pin=Dict(component='launch_zline04',pin='tie'),),lead = Dict(end_straight = extended_pin_length,),\n",
    "                         trace_width = '10 um', trace_gap='5 um',fillet=fillet, chip = 'C_chip')\n",
    "zline_lz04 = RouteStraight(design, 'zline_lz04', options=pin_opt)\n",
    "\n",
    "\n",
    "# y1_zline\n",
    "# opt=Dict(pos_x=-3 , pos_y=pos_y_zline, orientation='-45', pad_width='245 um', pad_height='245 um', pad_gap = '100 um', lead_length = '176 um', chip = 'C_chip')\n",
    "# # test = OpenToGround(design, 'open01', options=Dict(pos_x='-3 mm',  pos_y=pos_y_zline+0.02, orientation='-45', chip ='C_chip'),)\n",
    "# launch_zline = LaunchpadWirebond(design,'launch_zline',options=opt)\n",
    "# end_jog_length = 0.02\n",
    "# launch_zline.options.pos_y = pos_y_zline+launch_zline.parse_options().lead_length*math.cos(launch_zline.parse_options().orientation/180*math.pi)+end_jog_length*math.cos(launch_zline.parse_options().orientation/180*math.pi)\n",
    "#\n",
    "#\n",
    "gui.rebuild()\n",
    "gui.autoscale()"
   ],
   "metadata": {
    "collapsed": false
   }
  },
  {
   "cell_type": "code",
   "execution_count": 22,
   "outputs": [],
   "source": [
    "# draw xy line with connector\n",
    "\n",
    "xyline_x0_1 = qubit_pos_list[0][0]-1/3*qubit_list[0].parse_options().cross_width\n",
    "xyline_y0_1 = qubit_pos_list[0][1]\n",
    "opt = Dict(pos_x=xyline_x0_1,\n",
    "                       pos_y=xyline_y0_1,\n",
    "                       l_1='100 um',\n",
    "                       l_2='150 um',\n",
    "                       l_3 = '50 um',\n",
    "                       flux_cpw_width='5 um',\n",
    "                       flux_cpw_gap='3 um',\n",
    "                       flux_cpw_width0='10 um',\n",
    "                       flux_cpw_gap0='7 um',\n",
    "                       c_length = '15 um',\n",
    "                       angle = '-90',\n",
    "                       fillet = '1 um',\n",
    "                       orientation='90',\n",
    "                       layer='1',\n",
    "                       layer_subtract='2',\n",
    "                       inverse = False,\n",
    "                       mirror = False,\n",
    "                       subtract=True,\n",
    "                       chip='C_Chip',\n",
    "                     )\n",
    "\n",
    "my_xyline01 = MyXYLine01(design,'my_xyline01',options=opt)\n",
    "\n",
    "xyline_length = my_xyline01.parse_options().l_1\n",
    "xyline01_c_pos_x, xyline01_c_pos_y = get_connector_pos_xy(qubit_pos_list[0][1]-xyline_length,Q_chip_size,1)\n",
    "extended_pin_length_xy= (qubit_pos_list[0][1]-xyline_length-design.components['launch_zline03'].pins.tie.middle[1])/design.components['launch_zline03'].pins.tie.normal[1]\n",
    "opt = Dict(pos_x=xyline01_c_pos_x,\n",
    "                           pos_y=xyline01_c_pos_y,\n",
    "                           width='10 um',\n",
    "                           gap='7 um',\n",
    "                           width0='10 um',\n",
    "                           gap0='5 um',\n",
    "                           length = '100 um',\n",
    "                           orientation='0',\n",
    "                           layer='1',\n",
    "                           layer_subtract='2',\n",
    "                           subtract=True,\n",
    "                           chip='C_Chip', )\n",
    "my_connector_xyline01 = MyConnector(design,'my_connector_xyline01',options=opt)\n",
    "\n",
    "opts = Dict(pin_inputs=Dict(start_pin=Dict(component='my_xyline01',pin='xy_pin'),\n",
    "                         end_pin=Dict(component='my_connector_xyline01',pin='c_pin_r'),),\n",
    "                          trace_width='10um',trace_gap='7um',chip = 'C_chip',fillet='10 um')\n",
    "\n",
    "xyline_q1 = RoutePathfinder(design, 'xyline_q1', options=opts)\n",
    "\n",
    "opts = Dict(pin_inputs=Dict(start_pin=Dict(component='my_connector_xyline01',pin='c_pin_l'),\n",
    "                         end_pin=Dict(component='launch_zline03',pin='tie'),),lead = Dict(end_straight = extended_pin_length_xy,\n",
    "                                                                                     ),\n",
    "                          trace_width='10um',trace_gap='5um',chip = 'C_chip',fillet='10 um')\n",
    "\n",
    "xyline_lz03 = RoutePathfinder(design, 'xyline_lz03', options=opts)\n",
    "\n",
    "gui.rebuild()\n",
    "gui.autoscale()\n",
    "\n",
    "\n",
    "#caculate connector position\n",
    "# c_length= 0.1\n",
    "# x_1 = y_1-Q_chip_size*math.sqrt(2)/2\n",
    "#two short ground position\n",
    "\n",
    "\n",
    "# x,y = r1.make_ro()\n",
    "# x, y=-x,-y\n",
    "# x, y"
   ],
   "metadata": {
    "collapsed": false
   }
  },
  {
   "cell_type": "code",
   "execution_count": 23,
   "outputs": [
    {
     "data": {
      "text/plain": "(1.255, 1.355)"
     },
     "execution_count": 23,
     "metadata": {},
     "output_type": "execute_result"
    }
   ],
   "source": [
    "my_xyline01.pins.xy_pin.middle[1],my_xyline01.options.pos_y"
   ],
   "metadata": {
    "collapsed": false
   }
  },
  {
   "cell_type": "code",
   "execution_count": 24,
   "outputs": [],
   "source": [
    "def  xyline_creator(qubit_id, launch_pad_name, xyline_position=np.array([-2/3,0]),l_1=0.1,l_2=0.15,l_3=0.05,angle=-90, inverse=False,mirror=False,type=1, width_right='10um',gap_right='7um',width_left='10um',gap_left='5um'):\n",
    "        \"\"\"qubit_id : integral id number\n",
    "             xyline_position: numpy array assuming unit length of x y z direction of qubit\n",
    "             l_1,l_2,l_3: three parts of xyline\n",
    "             \"\"\"\n",
    "        # xyline_x0_1 = qubit_pos_list[qubit_id][0]-1/3*qubit_list[qubit_id].parse_options().cross_width\n",
    "        # xyline_y0_1 = qubit_pos_list[qubit_id][1]\n",
    "\n",
    "        xyline_x0_1, xyline_y0_1 = np.array([ qubit_pos_list[qubit_id][0],qubit_pos_list[qubit_id][1]])+xyline_position/2*qubit_list[qubit_id].parse_options().cross_width\n",
    "        opt = Dict(pos_x=xyline_x0_1,\n",
    "                               pos_y=xyline_y0_1,\n",
    "                               l_1=l_1,\n",
    "                               l_2=l_2,\n",
    "                               l_3 = l_3,\n",
    "                               flux_cpw_width='5 um',\n",
    "                               flux_cpw_gap='3 um',\n",
    "                               flux_cpw_width0=width_right,\n",
    "                               flux_cpw_gap0=gap_right,\n",
    "                               c_length = '15 um',\n",
    "                               angle = angle,\n",
    "                               fillet = '1 um',\n",
    "                               orientation='90',\n",
    "                               layer='1',\n",
    "                               layer_subtract='2',\n",
    "                               inverse = inverse,\n",
    "                               mirror = mirror,\n",
    "                               subtract=True,\n",
    "                               chip='C_Chip',\n",
    "                             )\n",
    "\n",
    "        my_xyline01 = MyXYLine01(design,'my_xyline01',options=opt)\n",
    "\n",
    "        xyline_length =my_xyline01.pins.xy_pin.middle[1]-my_xyline01.options.pos_y\n",
    "        xyline01_end_pos_y = xyline_y0_1+xyline_length\n",
    "        xyline01_c_pos_x, xyline01_c_pos_y = get_connector_pos_xy(xyline01_end_pos_y,Q_chip_size,type)\n",
    "        extended_pin_length_xy= (xyline01_end_pos_y-design.components[launch_pad_name].pins.tie.middle[1])/design.components[launch_pad_name].pins.tie.normal[1]\n",
    "        opt = Dict(pos_x=xyline01_c_pos_x,\n",
    "                                   pos_y=xyline01_c_pos_y,\n",
    "                                   width=width_right,\n",
    "                                   gap=gap_right,\n",
    "                                   width0=width_left,\n",
    "                                   gap0=gap_left,\n",
    "                                   length = '100 um',\n",
    "                                   orientation='0',\n",
    "                                   layer='1',\n",
    "                                   layer_subtract='2',\n",
    "                                   subtract=True,\n",
    "                                   chip='C_Chip', )\n",
    "        my_connector_xyline01 = MyConnector(design,'my_connector_xyline01',options=opt)\n",
    "\n",
    "        opts = Dict(pin_inputs=Dict(start_pin=Dict(component='my_xyline01',pin='xy_pin'),\n",
    "                                 end_pin=Dict(component='my_connector_xyline01',pin='c_pin_r'),),\n",
    "                                  trace_width=width_right,trace_gap=gap_right,chip = 'C_chip',fillet='10 um')\n",
    "\n",
    "        xyline_q1 = RoutePathfinder(design, 'xyline_q1', options=opts)\n",
    "\n",
    "        opts = Dict(pin_inputs=Dict(start_pin=Dict(component='my_connector_xyline01',pin='c_pin_l'),\n",
    "                                 end_pin=Dict(component=launch_pad_name,pin='tie'),),lead = Dict(end_straight = extended_pin_length_xy,),\n",
    "                                  trace_width=width_left,trace_gap=gap_left,chip = 'C_chip',fillet='10 um')\n",
    "\n",
    "        xyline_lz03 = RoutePathfinder(design, 'xyline_lz03', options=opts)\n",
    "        return my_connector_xyline01, xyline_q1, xyline_lz03\n",
    "\n",
    "xyline_creator(qubit_id=0, launch_pad_name='launch_zline03')\n",
    "# opt = Dict(pos_x=x_1,\n",
    "#                            pos_y=y_1,\n",
    "#                            width='10 um',\n",
    "#                            gap='7 um',\n",
    "#                            width0='10 um',\n",
    "#                            gap0='5 um',\n",
    "#                            length = '100 um',\n",
    "#                            orientation='0',\n",
    "#                            layer='1',\n",
    "#                            layer_subtract='2',\n",
    "#                            subtract=True,\n",
    "#                            chip='C_Chip', )\n",
    "# my_connector1 = MyConnector(design,'my_connector1',options=opt)\n",
    "# gui.rebuild()\n",
    "# gui.autoscale()\n",
    "# stg1_ai = ShortToGround(design, 'short1_ai', options=Dict(pos_x=x_12,  pos_y=y_12, orientation='180',))\n",
    "# stg1_ao = ShortToGround(design, 'short1_ao', options=Dict(pos_x=x_12,  pos_y=y_12, orientation='0',))\n",
    "# stg1_bi = ShortToGround(design, 'short1_bi', options=Dict(pos_x=x_11,  pos_y=y_11, orientation='180',))\n",
    "# stg1_bo = ShortToGround(design, 'short1_bo', options=Dict(pos_x=x_11,  pos_y=y_11, orientation='0',))\n",
    "#\n",
    "# stg1_ai.options.width = '10 um'\n",
    "# stg1_ai.options.gap = '7 um'\n",
    "# stg1_ao.options.width = '10 um'\n",
    "# stg1_ao.options.gap = '7 um'\n",
    "# stg1_bi.options.width = '10 um'\n",
    "# stg1_bi.options.gap = '5 um'\n",
    "# stg1_bo.options.width = '10 um'\n",
    "# stg1_bo.options.gap = '5 um'\n",
    "\n",
    "# stg1_bi.options.width = '10 um'\n",
    "# stg1_bo.options.gap = '5 um'\n",
    "\n",
    "\n",
    "# readout_line_ydistance = 0.15\n",
    "# readout_line_xdistance = 0.5\n",
    "# pad_pos_y0 = y-readout_line_ydistance\n",
    "# pad_pos_x0 = x -readout_line_xdistance\n",
    "# pad_pos_y1 = pad_pos_y0\n",
    "# pad_pos_x1 = x+4*readout_line_xdistance\n",
    "# pin_opt = Dict(hfss_wire_bonds=True, pin_inputs=Dict(start_pin=Dict(component='Launch_Readout0',pin='tie'),\n",
    "#                          end_pin=Dict(component='Launch_Readout1',pin='tie'),),\n",
    "#                           trace_width='10um',trace_gap='6um')\n",
    "# pin_opt.fillet = '30 um'\n",
    "# pin_opt.lead.start_straight = '90 um'\n",
    "# pin_opt.lead.end_straight = '90 um'\n",
    "#\n",
    "# jogsS = OrderedDict()\n",
    "# jogsS[0] = [\"R\", '90um']\n",
    "# jogsE = OrderedDict()\n",
    "# jogsE[0] = [\"L\", '90um']\n",
    "#\n",
    "# launch_readout0 = LaunchpadWirebond(design,'Launch_Readout0',options=Dict(pos_x=pad_pos_x0,pos_y=pad_pos_y0,orientation='90',chip = 'C_chip'))\n",
    "# launch_readout1 = LaunchpadWirebond(design,'Launch_Readout1',options=Dict(pos_x=pad_pos_x1,pos_y=pad_pos_y1,orientation='90',chip = 'C_chip'))\n",
    "# t1_readout_q_01=RoutePathfinder(design,'T1_Readout_Q_01',options=pin_opt)\n",
    "gui.rebuild()\n",
    "gui.autoscale()"
   ],
   "metadata": {
    "collapsed": false
   }
  },
  {
   "cell_type": "code",
   "execution_count": 25,
   "outputs": [],
   "source": [
    "# my_connector1.pins"
   ],
   "metadata": {
    "collapsed": false
   }
  },
  {
   "cell_type": "code",
   "execution_count": 26,
   "outputs": [],
   "source": [
    "# # design.delete_all_components()\n",
    "# opt = Dict(pos_x=qubit_pos_list[0][0], pos_y=qubit_pos_list[0][1] ,  end_yposition=y1_zline,\n",
    "#            inverse = True, mirror = True, flux_cpw_gap0 = '7 um', end_horizontal_length = '100 um')\n",
    "# my_flux01 = MyFluxLine02(design,'my_flux01',options=opt)\n",
    "# # my_flux.pins.flux_pin.normal =[0,-1]\n",
    "# gui.rebuild()\n",
    "# gui.autoscale()\n"
   ],
   "metadata": {
    "collapsed": false
   }
  },
  {
   "cell_type": "code",
   "execution_count": 27,
   "outputs": [
    {
     "data": {
      "text/plain": "{'flux_pin': {'points': array([[-3.26471469,  1.82721469],\n         [-3.26471469,  1.83721469]]),\n  'middle': array([-3.26471469,  1.83221469]),\n  'normal': array([-1.,  0.]),\n  'tangent': array([0., 1.]),\n  'width': 0.01,\n  'gap': 0.007,\n  'chip': 'main',\n  'parent_name': 93,\n  'net_id': 91,\n  'length': 0}}"
     },
     "execution_count": 27,
     "metadata": {},
     "output_type": "execute_result"
    }
   ],
   "source": [
    "\n",
    "# my_flux01.options\n",
    "my_flux01.pins\n",
    "# # stg1_ai.pins.short.gap=0.007\n",
    "# stg1_ai.pins.short.gap\n",
    "# # stg1_ai.options\n",
    "# design.components['short1_ai'].pins\n",
    "# design.template_options"
   ],
   "metadata": {
    "collapsed": false
   }
  },
  {
   "cell_type": "code",
   "execution_count": 28,
   "outputs": [],
   "source": [
    "pin_opt = Dict(pin_inputs=Dict(start_pin=Dict(component='my_flux01',pin='flux_pin'),\n",
    "                         end_pin=Dict(component='my_connector1',pin='c_pin_r'),),trace_width = '10 um',\n",
    "                        trace_gap='7 um',chip = 'C_chip')"
   ],
   "metadata": {
    "collapsed": false
   }
  },
  {
   "cell_type": "code",
   "execution_count": 29,
   "outputs": [
    {
     "name": "stderr",
     "output_type": "stream",
     "text": [
      "11:18AM 53s WARNING [__init__]: Pin flux_pin of component my_flux01 is already in use. path_zline_q1 has not been built. Please check your pin_input values.\n"
     ]
    }
   ],
   "source": [
    "path_zline_q1 = RouteStraight(design, 'path_zline_q1', options=pin_opt)\n",
    "gui.rebuild()\n",
    "gui.autoscale()"
   ],
   "metadata": {
    "collapsed": false
   }
  },
  {
   "cell_type": "code",
   "execution_count": 30,
   "outputs": [
    {
     "data": {
      "text/plain": "{'chip': 'C_chip',\n 'layer': '1',\n 'pin_inputs': {'start_pin': {'component': 'my_flux01', 'pin': 'flux_pin'},\n  'end_pin': {'component': 'my_connector1', 'pin': 'c_pin_r'}},\n 'fillet': '0',\n 'lead': {'start_straight': '0mm',\n  'end_straight': '0mm',\n  'start_jogged_extension': '',\n  'end_jogged_extension': ''},\n 'total_length': '7mm',\n 'trace_width': '10 um',\n 'hfss_wire_bonds': False,\n 'q3d_wire_bonds': False,\n 'trace_gap': '7 um'}"
     },
     "execution_count": 30,
     "metadata": {},
     "output_type": "execute_result"
    }
   ],
   "source": [
    "path_zline_q1.options\n"
   ],
   "metadata": {
    "collapsed": false
   }
  },
  {
   "cell_type": "code",
   "execution_count": 31,
   "outputs": [
    {
     "name": "stderr",
     "output_type": "stream",
     "text": [
      "11:19AM 01s WARNING [__init__]: Component my_connector1 does not exist. path_zline_l1 has not been built. Please check your pin_input values.\n"
     ]
    }
   ],
   "source": [
    "from collections import OrderedDict\n",
    "# anchors = OrderedDict()\n",
    "# anchors[0] = np.array([-0.52,0.52])\n",
    "# jogsS = OrderedDict()\n",
    "# jogsS[0] = [45, '10um']\n",
    "# options = {'pin_inputs':\n",
    "#             {'start_pin': {'component': 'short2o', 'pin': 'short'},\n",
    "#              'end_pin': {'component': 'launch_zline', 'pin': 'tie'}},\n",
    "#             'lead': {'start_straight': '491.5 um', },\n",
    "#             'step_size': '0.6mm',\n",
    "#             # 'anchors': anchors,\n",
    "#             'fillet': '90 um',\n",
    "#            'chip': 'C_chip'\n",
    "#            }\n",
    "opts = Dict(pin_inputs=Dict(start_pin=Dict(component='my_connector1',pin='c_pin_l'),\n",
    "                         end_pin=Dict(component='launch_zline04',pin='tie'),),lead = Dict(end_straight = extended_pin_length,\n",
    "                                                                                     ),\n",
    "                          trace_width='10um',trace_gap='5um',chip = 'C_chip',fillet='10 um')\n",
    "\n",
    "path_zline_l1 = RoutePathfinder(design, 'path_zline_l1', options=opts)\n",
    "gui.rebuild()\n",
    "gui.autoscale()"
   ],
   "metadata": {
    "collapsed": false
   }
  },
  {
   "cell_type": "code",
   "execution_count": 32,
   "outputs": [
    {
     "data": {
      "text/plain": "0.19201913522726752"
     },
     "execution_count": 32,
     "metadata": {},
     "output_type": "execute_result"
    }
   ],
   "source": [
    "xyline_length = 0.1\n",
    "extended_pin_length_xy= (qubit_pos_list[0][1]-xyline_length-launch_list[3].pins.tie.middle[1])/launch_list[3].pins.tie.normal[1]\n",
    "# xyline_y_1 = launch_list[3].pins.tie.middle[1]+extended_pin_length*launch_list[3].pins.tie.normal[1]\n",
    "# xyline_rtq_y_1 = abs(xyline_y_1-qubit_pos_list[0][1])\n",
    "# xyline_rtq_y_1,launch_list[3].pins.tie.middle[1],extended_pin_length*launch_list[3].pins.tie.normal[1],qubit_pos_list[0][1]\n",
    "extended_pin_length_xy"
   ],
   "metadata": {
    "collapsed": false
   }
  },
  {
   "cell_type": "code",
   "execution_count": 33,
   "outputs": [],
   "source": [
    "xyline_x0_1 = qubit_pos_list[0][0]-1/3*qubit_list[0].parse_options().cross_width\n",
    "xyline_y0_1 = qubit_pos_list[0][1]\n",
    "opt = Dict(pos_x=xyline_x0_1,\n",
    "                       pos_y=xyline_y0_1,\n",
    "                       l_1='100 um',\n",
    "                       l_2='150 um',\n",
    "                       l_3 = '50 um',\n",
    "                       flux_cpw_width='5 um',\n",
    "                       flux_cpw_gap='3 um',\n",
    "                       flux_cpw_width0='10 um',\n",
    "                       flux_cpw_gap0='7 um',\n",
    "                       c_length = '15 um',\n",
    "                       angle = '-90',\n",
    "                       fillet = '1 um',\n",
    "                       orientation='90',\n",
    "                       layer='1',\n",
    "                       layer_subtract='2',\n",
    "                       inverse = False,\n",
    "                       mirror = False,\n",
    "                       subtract=True,\n",
    "                       chip='C_Chip',\n",
    "                     )\n",
    "\n",
    "my_xyline01 = MyXYLine01(design,'my_xyline01',options=opt)\n",
    "# # my_flux.pins.flux_pin.normal =[0,-1]\n",
    "gui.rebuild()\n",
    "gui.autoscale()\n",
    "# gui.screenshot()\n",
    "# design.overwrite_enabled = True"
   ],
   "metadata": {
    "collapsed": false
   }
  },
  {
   "cell_type": "code",
   "execution_count": 34,
   "outputs": [
    {
     "name": "stderr",
     "output_type": "stream",
     "text": [
      "11:19AM 17s WARNING [__init__]: Pin tie of component launch_zline03 is already in use. path_xyline_l1 has not been built. Please check your pin_input values.\n"
     ]
    }
   ],
   "source": [
    "opts = Dict(pin_inputs=Dict(start_pin=Dict(component='my_xyline01',pin='xy_pin'),\n",
    "                         end_pin=Dict(component='launch_zline03',pin='tie'),),lead = Dict(end_straight = extended_pin_length_xy,\n",
    "                                                                                     ),\n",
    "                          trace_width='10um',trace_gap='5um',chip = 'C_chip',fillet='10 um')\n",
    "\n",
    "path_xyline_l1 = RoutePathfinder(design, 'path_xyline_l1', options=opts)\n",
    "gui.rebuild()\n",
    "gui.autoscale()\n",
    "# qubit_pos_list[0][1]\n",
    "#draw zline----first part before connector\n",
    "\n",
    "# def  get_position(pins,length):\n",
    "#     eps = 1e-2\n",
    "#     pin = Dict()\n",
    "#     pin.middle = pins.middle\n",
    "#     pin.normal = pins.normal\n",
    "#     z_line = QRouteLead()\n",
    "#     z_line.seed_from_pin(pin=pin)\n",
    "#     z_line.go_straight(eps)\n",
    "#     z_line.go_angle(length,45)\n",
    "#     return  z_line.get_tip()\n",
    "# extended_zline_length = 0.19\n",
    "# connector_length = 0.015\n",
    "# connector_total_length = extended_zline_length+connector_length\n",
    "# pos_x = get_position(my_flux01.pins.flux_pin,extended_zline_length).position[0]\n",
    "# pos_y = get_position(my_flux01.pins.flux_pin,extended_zline_length).position[1]\n",
    "# pos_x0 = get_position(my_flux01.pins.flux_pin,connector_total_length).position[0]\n",
    "# pos_y0 = get_position(my_flux01.pins.flux_pin,connector_total_length).position[1]\n",
    "# pos_x\n",
    "# my_flux.pins.flux_pin.middle\n",
    "# pins =my_flux.pins.middle\n",
    "# pin = Dict()\n",
    "# # pin.middle = pins.middle\n",
    "# # pin.normal = pins.normal\n",
    "# pins\n",
    "\n",
    "\n"
   ],
   "metadata": {
    "collapsed": false
   }
  },
  {
   "cell_type": "code",
   "execution_count": 132,
   "outputs": [
    {
     "data": {
      "text/plain": "array([-3.356,  0.56 ])"
     },
     "execution_count": 132,
     "metadata": {},
     "output_type": "execute_result"
    }
   ],
   "source": [
    "res1_readout_y = design.components['R1'].pins.readout.middle[1]\n",
    "\n",
    "\n",
    "# # set connector pins on both sides\n",
    "#\n",
    "# from qiskit_metal.qlibrary.terminations.open_to_ground import OpenToGround\n",
    "# from  qiskit_metal.qlibrary.terminations.short_to_ground import ShortToGround\n",
    "#\n",
    "# otg11 = ShortToGround(design, 'short1i', options=Dict(pos_x=pos_x,  pos_y=pos_y, orientation='135', chip ='C_chip'),)\n",
    "# otg12 = ShortToGround(design, 'short1o', options=Dict(pos_x=pos_x,  pos_y=pos_y, orientation='-45', chip ='C_chip'),)\n",
    "# otg21 = ShortToGround(design, 'short2i', options=Dict(pos_x=pos_x0,  pos_y=pos_y0, orientation='135',chip = 'C_chip'))\n",
    "# otg22 = ShortToGround(design, 'short2o', options=Dict(pos_x=pos_x0,  pos_y=pos_y0, orientation='-45',chip = 'C_chip'))\n",
    "# # otg21 = ShortToGround(design, 'short2i', options=Dict(pos_x='15 um',  pos_y='1mm', orientation='180'))\n",
    "# # otg22 = ShortToGround(design, 'short2o', options=Dict(pos_x='25 um',  pos_y='1mm', orientation='0'))\n",
    "# # def  get_position(pin, length):\n",
    "#\n",
    "# otg11.options.width = '5 um'\n",
    "# otg11.options.gap = '3 um'\n",
    "# otg12.options.width = '5 um'\n",
    "# otg12.options.gap = '3 um'\n",
    "# gui.rebuild()\n",
    "# gui.autoscale()\n",
    "# gui.zoom_on_components(['short1i'])"
   ],
   "metadata": {
    "collapsed": false
   }
  },
  {
   "cell_type": "code",
   "execution_count": 37,
   "outputs": [
    {
     "data": {
      "text/plain": "{'short': {'points': array([[-0.16199242,  0.18742136],\n         [-0.15492136,  0.19449242]]),\n  'middle': array([-0.15845689,  0.19095689]),\n  'normal': array([-0.70710678,  0.70710678]),\n  'tangent': array([0.70710678, 0.70710678]),\n  'width': 0.01,\n  'gap': 0.006,\n  'chip': 'C_chip',\n  'parent_name': 70,\n  'net_id': 0,\n  'length': 0}}"
     },
     "execution_count": 37,
     "metadata": {},
     "output_type": "execute_result"
    }
   ],
   "source": [
    "# otg22.pins"
   ],
   "metadata": {
    "collapsed": false
   }
  },
  {
   "cell_type": "code",
   "execution_count": 38,
   "outputs": [],
   "source": [
    "#draw zline ---first part before connector\n",
    "\n",
    "# jogsS = OrderedDict()\n",
    "# jogsS[0] = [45, '6um']\n",
    "#\n",
    "# pin_opt = Dict(pin_inputs=Dict(start_pin=Dict(component='my_flux',pin='flux_pin'),\n",
    "#                          end_pin=Dict(component='short1i',pin='short'),),lead = Dict(start_straight='10 um',end_straight='150 um',\n",
    "#                                                                                      start_jogged_extension = jogsS),\n",
    "#                           trace_width='5um',trace_gap='3um',chip = 'C_chip',fillet='10 um')\n",
    "# # pin_opt = Dict(pin_inputs=Dict(start_pin=Dict(component='short1o',pin='short'),\n",
    "# #                          end_pin=Dict(component='short1i',pin='short'),),\n",
    "# #                         chip = 'C_chip')\n",
    "#\n",
    "# flux_line=RouteStraight(design,'flux_line',options=pin_opt)\n",
    "#\n",
    "# gui.rebuild()\n",
    "# gui.autoscale()"
   ],
   "metadata": {
    "collapsed": false
   }
  },
  {
   "cell_type": "code",
   "execution_count": 39,
   "outputs": [
    {
     "data": {
      "text/plain": "{'chip': 'C_chip',\n 'layer': '1',\n 'pin_inputs': {'start_pin': {'component': 'my_flux', 'pin': 'flux_pin'},\n  'end_pin': {'component': 'short1i', 'pin': 'short'}},\n 'fillet': '10 um',\n 'lead': {'start_straight': '10 um',\n  'end_straight': '150 um',\n  'start_jogged_extension': {0: [45, '6um']},\n  'end_jogged_extension': ''},\n 'total_length': '7mm',\n 'trace_width': '5um',\n 'hfss_wire_bonds': False,\n 'q3d_wire_bonds': False,\n 'trace_gap': '3um',\n '_actual_length': '0.19570796266628024 mm'}"
     },
     "execution_count": 39,
     "metadata": {},
     "output_type": "execute_result"
    }
   ],
   "source": [
    "# flux_line.options"
   ],
   "metadata": {
    "collapsed": false
   }
  },
  {
   "cell_type": "code",
   "execution_count": 40,
   "outputs": [],
   "source": [
    "#draw connector\n",
    "#\n",
    "# from qiskit_metal.qlibrary.user_components.my_qcomponent import RouteConnector\n",
    "# pin_opt = Dict(pin_inputs=Dict(start_pin=Dict(\n",
    "#                                     component='short1o',\n",
    "#                                     pin='short'),\n",
    "#                                 end_pin=Dict(\n",
    "#                                     component='short2i',\n",
    "#                                     pin='short')),chip = 'C_chip')\n",
    "# my_connector = RouteConnector(design,'my_connector',pin_opt)\n",
    "#\n",
    "# # pin_opt = Dict(pin_inputs=Dict(start_pin=Dict(\n",
    "# #                                     component='open2i',\n",
    "# #                                     pin='short'),\n",
    "# #                                 end_pin=Dict(\n",
    "# #                                     component='open2o',\n",
    "# #                                     pin='short')),chip = 'C_chip')\n",
    "# # my_connector1 = RouteConnector(design,'my_connector1',pin_opt)\n",
    "# gui.rebuild()\n",
    "# gui.autoscale()"
   ],
   "metadata": {
    "collapsed": false
   }
  },
  {
   "cell_type": "code",
   "execution_count": 41,
   "outputs": [
    {
     "data": {
      "text/plain": "0.3323782462"
     },
     "execution_count": 41,
     "metadata": {},
     "output_type": "execute_result"
    }
   ],
   "source": [
    "# def  get_position(pins,length):\n",
    "#     eps = 1e-2\n",
    "#     pin = Dict()\n",
    "#     pin.middle = pins.middle\n",
    "#     pin.normal = pins.normal\n",
    "#     z_line = QRouteLead()\n",
    "#     z_line.seed_from_pin(pin=pin)\n",
    "#     z_line.go_straight(length)\n",
    "#     z_line.go_angle(eps,45)\n",
    "#     return  z_line.get_tip()\n",
    "# extended_zline_length0 = 0.2\n",
    "# pos_x_zline = get_position(otg22.pins.short,extended_zline_length0).position[0]\n",
    "# pos_y_zline = get_position(otg22.pins.short,extended_zline_length0).position[1]\n",
    "# pos_y_zline"
   ],
   "metadata": {
    "collapsed": false
   }
  },
  {
   "cell_type": "code",
   "execution_count": 42,
   "outputs": [],
   "source": [
    "opt=Dict(pos_x=-3 , pos_y=pos_y_zline, orientation='-45', pad_width='245 um', pad_height='245 um', pad_gap = '100 um', lead_length = '176 um', chip = 'C_chip')\n",
    "# test = OpenToGround(design, 'open01', options=Dict(pos_x='-3 mm',  pos_y=pos_y_zline+0.02, orientation='-45', chip ='C_chip'),)\n",
    "launch_zline = LaunchpadWirebond(design,'launch_zline',options=opt)\n",
    "end_jog_length = 0.02\n",
    "launch_zline.options.pos_y = pos_y_zline+launch_zline.parse_options().lead_length*math.cos(launch_zline.parse_options().orientation/180*math.pi)+end_jog_length*math.cos(launch_zline.parse_options().orientation/180*math.pi)\n",
    "\n",
    "\n",
    "gui.rebuild()\n",
    "gui.autoscale()"
   ],
   "metadata": {
    "collapsed": false
   }
  },
  {
   "cell_type": "code",
   "execution_count": 43,
   "outputs": [
    {
     "data": {
      "text/plain": "{'pos_x': -3,\n 'pos_y': 0.47097117531256333,\n 'orientation': '-45',\n 'chip': 'C_chip',\n 'layer': '1',\n 'trace_width': 'cpw_width',\n 'trace_gap': 'cpw_gap',\n 'lead_length': '176 um',\n 'pad_width': '245 um',\n 'pad_height': '245 um',\n 'pad_gap': '100 um',\n 'taper_height': '122um'}"
     },
     "execution_count": 43,
     "metadata": {},
     "output_type": "execute_result"
    }
   ],
   "source": [
    "launch_zline.options"
   ],
   "metadata": {
    "collapsed": false
   }
  },
  {
   "cell_type": "code",
   "execution_count": 44,
   "outputs": [
    {
     "data": {
      "text/plain": "{'tie': {'points': array([[-2.87201367,  0.35005592],\n         [-2.87908474,  0.34298485]]),\n  'middle': array([-2.87554921,  0.34652038]),\n  'normal': array([ 0.70710683, -0.70710673]),\n  'tangent': array([-0.70710673, -0.70710683]),\n  'width': 0.01,\n  'gap': 0.006,\n  'chip': 'C_chip',\n  'parent_name': 73,\n  'net_id': 0,\n  'length': 0}}"
     },
     "execution_count": 44,
     "metadata": {},
     "output_type": "execute_result"
    }
   ],
   "source": [
    "launch_zline.pins"
   ],
   "metadata": {
    "collapsed": false
   }
  },
  {
   "cell_type": "code",
   "execution_count": 45,
   "outputs": [],
   "source": [
    "from collections import OrderedDict\n",
    "# anchors = OrderedDict()\n",
    "# anchors[0] = np.array([-0.52,0.52])\n",
    "jogsS = OrderedDict()\n",
    "jogsS[0] = [45, '10um']\n",
    "# options = {'pin_inputs':\n",
    "#             {'start_pin': {'component': 'short2o', 'pin': 'short'},\n",
    "#              'end_pin': {'component': 'launch_zline', 'pin': 'tie'}},\n",
    "#             'lead': {'start_straight': '491.5 um', },\n",
    "#             'step_size': '0.6mm',\n",
    "#             # 'anchors': anchors,\n",
    "#             'fillet': '90 um',\n",
    "#            'chip': 'C_chip'\n",
    "#            }\n",
    "opts = Dict(pin_inputs=Dict(start_pin=Dict(component='short2o',pin='short'),\n",
    "                         end_pin=Dict(component='launch_zline',pin='tie'),),lead = Dict(start_straight=extended_zline_length0, end_straight = end_jog_length,\n",
    "                                                                                     start_jogged_extension = jogsS),\n",
    "                          trace_width='10um',trace_gap='6um',chip = 'C_chip',fillet='10 um')\n",
    "\n",
    "qa = RoutePathfinder(design, 'path_zline', options=opts)\n",
    "gui.rebuild()\n",
    "gui.autoscale()\n"
   ],
   "metadata": {
    "collapsed": false
   }
  },
  {
   "cell_type": "code",
   "execution_count": null,
   "outputs": [],
   "source": [],
   "metadata": {
    "collapsed": false
   }
  },
  {
   "cell_type": "code",
   "execution_count": 20,
   "outputs": [
    {
     "data": {
      "text/plain": "{'short_segments_to_not_fillet': 'True',\n 'check_short_segments_by_scaling_fillet': '2.0',\n 'gds_unit': 0.001,\n 'ground_plane': 'True',\n 'negative_mask': {'main': []},\n 'fabricate': 'False',\n 'corners': 'circular bend',\n 'tolerance': '0.00001',\n 'precision': '0.000000001',\n 'width_LineString': '10um',\n 'path_filename': '../resources/Fake_Junctions.GDS',\n 'junction_pad_overlap': '5um',\n 'max_points': '199',\n 'cheese': {'datatype': '100',\n  'shape': '0',\n  'cheese_0_x': '25um',\n  'cheese_0_y': '25um',\n  'cheese_1_radius': '100um',\n  'view_in_file': {'main': {1: True}},\n  'delta_x': '100um',\n  'delta_y': '100um',\n  'edge_nocheese': '200um'},\n 'no_cheese': {'datatype': '99',\n  'buffer': '25um',\n  'cap_style': '2',\n  'join_style': '2',\n  'view_in_file': {'main': {1: True}}},\n 'bounding_box_scale_x': '1.2',\n 'bounding_box_scale_y': '1.2'}"
     },
     "execution_count": 20,
     "metadata": {},
     "output_type": "execute_result"
    }
   ],
   "source": [
    "a_gds = design.renderers.gds\n",
    "a_gds.options\n",
    "# from  qiskit_metal.qlibrary.user_components.my_qcomponent import  New_Transomon_Cross\n",
    "# my_test = New_Transomon_Cross(design,'test_chip',options=Dict(gds_cell_name='FakeJunction_01'))\n",
    "# # my_test1 = MyQComponent(design,'test_chip1')\n",
    "# gui.rebuild()\n",
    "# gui.autoscale()\n",
    "# gui.screenshot()\n",
    "# design.overwrite_enabled = True"
   ],
   "metadata": {
    "collapsed": false
   }
  },
  {
   "cell_type": "code",
   "execution_count": 24,
   "outputs": [
    {
     "name": "stderr",
     "output_type": "stream",
     "text": [
      "03:39PM 49s WARNING [get_x_y_for_chip]: Chip name \"main\" is not in self._chips dict. Return \"None\" in tuple.\n",
      "03:39PM 49s WARNING [_create_qgeometry_for_gds]: design.get_x_y_for_chip() did NOT return a good code for chip=main,for ground subtraction-box using the size calculated from QGeometry, ((-1.465765498, -0.92, 1.034234502, 0)) will be used. \n",
      "03:39PM 49s WARNING [_import_junctions_to_one_cell]: Not able to find file:\"../resources/Fake_Junctions.GDS\".  Not used to replace junction. Checked directory:\"C:\\Users\\CJZ\\PycharmProjects\\resources\".\n",
      "03:39PM 49s WARNING [_import_junctions_to_one_cell]: Not able to find file:\"../resources/Fake_Junctions.GDS\".  Not used to replace junction. Checked directory:\"C:\\Users\\CJZ\\PycharmProjects\\resources\".\n",
      "03:39PM 49s WARNING [_import_junctions_to_one_cell]: Not able to find file:\"../resources/Fake_Junctions.GDS\".  Not used to replace junction. Checked directory:\"C:\\Users\\CJZ\\PycharmProjects\\resources\".\n",
      "03:39PM 49s WARNING [_check_either_cheese]: Chip=main is not either in no_cheese_view_in_file or cheese_view_in_file from self.options.\n"
     ]
    },
    {
     "data": {
      "text/plain": "1"
     },
     "execution_count": 24,
     "metadata": {},
     "output_type": "execute_result"
    }
   ],
   "source": [
    "a_gds.options['short_segments_to_not_fillet'] = 'True'\n",
    "scale_fillet = 2.0\n",
    "a_gds.options['check_short_segments_by_scaling_fillet'] = scale_fillet\n",
    "a_gds.options.negative_mask = {'Q_chip': []}\n",
    "a_gds.options.cheese.view_in_file =  {'Q_chip': {1: False}, 'C_chip':{1:False, 2:False}}\n",
    "a_gds.options.no_cheese.view_in_file =  {'Q_chip': {1: False}, 'C_chip':{1:False, 2: False}}\n",
    "a_gds.export_to_gds('flip_chip_test03.gds')"
   ],
   "metadata": {
    "collapsed": false
   }
  },
  {
   "cell_type": "code",
   "execution_count": 94,
   "outputs": [
    {
     "data": {
      "text/plain": "{'C_chip': {'material': 'silicon',\n  'layer_start': '0',\n  'layer_end': '2048',\n  'size': {'center_x': '0.0mm',\n   'center_y': '0.0mm',\n   'center_z': '0.0mm',\n   'size_x': '9mm',\n   'size_y': '9mm',\n   'size_z': '-280um',\n   'sample_holder_top': '890um',\n   'sample_holder_bottom': '1650um'}},\n 'Q_chip': {'material': 'silicon',\n  'layer_start': '0',\n  'layer_end': '2048',\n  'size': {'center_x': '0.0mm',\n   'center_y': '0.0mm',\n   'center_z': '20 um',\n   'size_x': '9mm',\n   'size_y': '9mm',\n   'size_z': '280um',\n   'sample_holder_top': '890um',\n   'sample_holder_bottom': '1650um'}}}"
     },
     "execution_count": 94,
     "metadata": {},
     "output_type": "execute_result"
    }
   ],
   "source": [
    "design.chips\n"
   ],
   "metadata": {
    "collapsed": false
   }
  },
  {
   "cell_type": "code",
   "execution_count": 99,
   "outputs": [
    {
     "data": {
      "text/plain": "['path', 'poly', 'junction']"
     },
     "execution_count": 99,
     "metadata": {},
     "output_type": "execute_result"
    }
   ],
   "source": [
    "design.qgeometry.get_element_types()"
   ],
   "metadata": {
    "collapsed": false
   }
  },
  {
   "cell_type": "code",
   "execution_count": 110,
   "outputs": [
    {
     "data": {
      "text/plain": "  component        name                                           geometry  \\\n0         1     cross_0  POLYGON ((0.01646 -0.00939, 0.03284 0.00698, 0...   \n1         1     cross_1  POLYGON ((-0.61309 0.01962, -0.61264 0.01941, ...   \n2         1  cross_etch  POLYGON ((-0.66000 -0.04000, -0.66098 -0.03995...   \n3         2          ro  POLYGON ((0.28524 0.00490, 0.28596 0.00975, 0....   \n4         2     ro_etch  POLYGON ((0.34750 -0.09012, 0.34748 -0.09132, ...   \n5         3  launch_pad  POLYGON ((-1.47077 -0.94500, -1.50577 -1.06700...   \n6         3      pocket  POLYGON ((-1.47677 -0.94500, -1.56377 -1.06700...   \n7         4  launch_pad  POLYGON ((1.02923 -0.94500, 0.99423 -1.06700, ...   \n8         4      pocket  POLYGON ((1.02323 -0.94500, 0.93623 -1.06700, ...   \n\n   layer  subtract  helper    chip fillet  \n0      1     False   False  Q_chip    NaN  \n1      1     False   False  Q_chip    NaN  \n2      1      True   False  Q_chip    NaN  \n3      1     False   False  C_chip    NaN  \n4      2      True   False  C_chip    NaN  \n5      1     False   False  C_chip    NaN  \n6      1      True   False  C_chip    NaN  \n7      1     False   False  C_chip    NaN  \n8      1      True   False  C_chip    NaN  ",
      "text/html": "<div>\n<style scoped>\n    .dataframe tbody tr th:only-of-type {\n        vertical-align: middle;\n    }\n\n    .dataframe tbody tr th {\n        vertical-align: top;\n    }\n\n    .dataframe thead th {\n        text-align: right;\n    }\n</style>\n<table border=\"1\" class=\"dataframe\">\n  <thead>\n    <tr style=\"text-align: right;\">\n      <th></th>\n      <th>component</th>\n      <th>name</th>\n      <th>geometry</th>\n      <th>layer</th>\n      <th>subtract</th>\n      <th>helper</th>\n      <th>chip</th>\n      <th>fillet</th>\n    </tr>\n  </thead>\n  <tbody>\n    <tr>\n      <th>0</th>\n      <td>1</td>\n      <td>cross_0</td>\n      <td>POLYGON ((0.01646 -0.00939, 0.03284 0.00698, 0...</td>\n      <td>1</td>\n      <td>False</td>\n      <td>False</td>\n      <td>Q_chip</td>\n      <td>NaN</td>\n    </tr>\n    <tr>\n      <th>1</th>\n      <td>1</td>\n      <td>cross_1</td>\n      <td>POLYGON ((-0.61309 0.01962, -0.61264 0.01941, ...</td>\n      <td>1</td>\n      <td>False</td>\n      <td>False</td>\n      <td>Q_chip</td>\n      <td>NaN</td>\n    </tr>\n    <tr>\n      <th>2</th>\n      <td>1</td>\n      <td>cross_etch</td>\n      <td>POLYGON ((-0.66000 -0.04000, -0.66098 -0.03995...</td>\n      <td>1</td>\n      <td>True</td>\n      <td>False</td>\n      <td>Q_chip</td>\n      <td>NaN</td>\n    </tr>\n    <tr>\n      <th>3</th>\n      <td>2</td>\n      <td>ro</td>\n      <td>POLYGON ((0.28524 0.00490, 0.28596 0.00975, 0....</td>\n      <td>1</td>\n      <td>False</td>\n      <td>False</td>\n      <td>C_chip</td>\n      <td>NaN</td>\n    </tr>\n    <tr>\n      <th>4</th>\n      <td>2</td>\n      <td>ro_etch</td>\n      <td>POLYGON ((0.34750 -0.09012, 0.34748 -0.09132, ...</td>\n      <td>2</td>\n      <td>True</td>\n      <td>False</td>\n      <td>C_chip</td>\n      <td>NaN</td>\n    </tr>\n    <tr>\n      <th>5</th>\n      <td>3</td>\n      <td>launch_pad</td>\n      <td>POLYGON ((-1.47077 -0.94500, -1.50577 -1.06700...</td>\n      <td>1</td>\n      <td>False</td>\n      <td>False</td>\n      <td>C_chip</td>\n      <td>NaN</td>\n    </tr>\n    <tr>\n      <th>6</th>\n      <td>3</td>\n      <td>pocket</td>\n      <td>POLYGON ((-1.47677 -0.94500, -1.56377 -1.06700...</td>\n      <td>1</td>\n      <td>True</td>\n      <td>False</td>\n      <td>C_chip</td>\n      <td>NaN</td>\n    </tr>\n    <tr>\n      <th>7</th>\n      <td>4</td>\n      <td>launch_pad</td>\n      <td>POLYGON ((1.02923 -0.94500, 0.99423 -1.06700, ...</td>\n      <td>1</td>\n      <td>False</td>\n      <td>False</td>\n      <td>C_chip</td>\n      <td>NaN</td>\n    </tr>\n    <tr>\n      <th>8</th>\n      <td>4</td>\n      <td>pocket</td>\n      <td>POLYGON ((1.02323 -0.94500, 0.93623 -1.06700, ...</td>\n      <td>1</td>\n      <td>True</td>\n      <td>False</td>\n      <td>C_chip</td>\n      <td>NaN</td>\n    </tr>\n  </tbody>\n</table>\n</div>"
     },
     "execution_count": 110,
     "metadata": {},
     "output_type": "execute_result"
    }
   ],
   "source": [
    "design.qgeometry.tables['poly']"
   ],
   "metadata": {
    "collapsed": false
   }
  },
  {
   "cell_type": "code",
   "execution_count": 111,
   "outputs": [
    {
     "ename": "AttributeError",
     "evalue": "'DesignFlipChip' object has no attribute 'chip_info'",
     "output_type": "error",
     "traceback": [
      "\u001B[1;31m---------------------------------------------------------------------------\u001B[0m",
      "\u001B[1;31mAttributeError\u001B[0m                            Traceback (most recent call last)",
      "\u001B[1;32m~\\AppData\\Local\\Temp\\ipykernel_30996\\2516485031.py\u001B[0m in \u001B[0;36m<module>\u001B[1;34m\u001B[0m\n\u001B[1;32m----> 1\u001B[1;33m \u001B[0mdesign\u001B[0m\u001B[1;33m.\u001B[0m\u001B[0mchip_info\u001B[0m\u001B[1;33m\u001B[0m\u001B[1;33m\u001B[0m\u001B[0m\n\u001B[0m",
      "\u001B[1;31mAttributeError\u001B[0m: 'DesignFlipChip' object has no attribute 'chip_info'"
     ]
    }
   ],
   "source": [
    "design.chip_info"
   ],
   "metadata": {
    "collapsed": false
   }
  },
  {
   "cell_type": "code",
   "execution_count": null,
   "outputs": [],
   "source": [],
   "metadata": {
    "collapsed": false
   }
  }
 ],
 "metadata": {
  "kernelspec": {
   "display_name": "Python 3",
   "language": "python",
   "name": "python3"
  },
  "language_info": {
   "codemirror_mode": {
    "name": "ipython",
    "version": 2
   },
   "file_extension": ".py",
   "mimetype": "text/x-python",
   "name": "python",
   "nbconvert_exporter": "python",
   "pygments_lexer": "ipython2",
   "version": "2.7.6"
  }
 },
 "nbformat": 4,
 "nbformat_minor": 0
}
