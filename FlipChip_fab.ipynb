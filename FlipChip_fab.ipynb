{
 "cells": [
  {
   "cell_type": "code",
   "execution_count": 7,
   "metadata": {
    "collapsed": true
   },
   "outputs": [
    {
     "name": "stdout",
     "output_type": "stream",
     "text": [
      "The autoreload extension is already loaded. To reload it, use:\n",
      "  %reload_ext autoreload\n"
     ]
    }
   ],
   "source": [
    "%load_ext autoreload\n",
    "%autoreload 2"
   ]
  },
  {
   "cell_type": "code",
   "execution_count": 8,
   "outputs": [],
   "source": [
    "from qiskit_metal import draw, Dict,designs\n",
    "from qiskit_metal.qlibrary.core import BaseQubit\n",
    "from qiskit_metal.toolbox_metal import math_and_overrides\n",
    "from qiskit_metal.qlibrary.core import QComponent\n",
    "from qiskit_metal.draw import LineString\n",
    "# import qiskit_metal as metal\n",
    "from qiskit_metal import MetalGUI, Dict, Headings\n",
    "from qiskit_metal.qlibrary.qubits.transmon_cross import TransmonCross\n",
    "from qiskit_metal.qlibrary.resonator.readoutres_fc import ReadoutResFC\n",
    "from  qiskit_metal.qlibrary.user_components.my_qcomponent import  New_Transomon_Cross\n",
    "import  math"
   ],
   "metadata": {
    "collapsed": false
   }
  },
  {
   "cell_type": "code",
   "execution_count": 9,
   "outputs": [],
   "source": [
    "# Initialise design\n",
    "design = designs.DesignPlanar()\n",
    "# Specify design name\n",
    "design.metadata['design_name'] = 'FlipChip_Device'\n",
    "# launch GUI\n",
    "gui = MetalGUI(design)\n",
    "# Allow running the same cell here multiple times to overwrite changes\n",
    "design.overwrite_enabled = True"
   ],
   "metadata": {
    "collapsed": false
   }
  },
  {
   "cell_type": "code",
   "execution_count": 10,
   "outputs": [],
   "source": [
    "# delete existing components\n",
    "design.delete_all_components()\n",
    "\n",
    "q1_x = '0.0 mm'\n",
    "q1_y = '0.0 mm'\n",
    "q1 = New_Transomon_Cross(design, 'Q1', options = Dict(pos_x=q1_x, pos_y=q1_y))\n",
    "\n"
   ],
   "metadata": {
    "collapsed": false
   }
  },
  {
   "cell_type": "code",
   "execution_count": 11,
   "outputs": [
    {
     "data": {
      "text/plain": "{'pos_x': '0.0 mm',\n 'pos_y': '0.0 mm',\n 'orientation': '0',\n 'chip': 'main',\n 'layer': '1',\n 'connection_pads': {},\n 'cross_width': '1340um',\n 'cross_height': '80um',\n 'cross_inside_width': '20um',\n 'pad_width': '40um',\n 'pad_height': '40um',\n 'pad_distance': '20um',\n 'jj_pad_width': '10um',\n 'jj_pad_height': '9um',\n 'jj_etch_length': '4um',\n 'jj_etch_pad1_width': '4um',\n 'jj_etch_pad2_width': '7um',\n 'round_corner_radius': '10um',\n 'hfss_wire_bonds': False,\n 'q3d_wire_bonds': False,\n 'hfss_inductance': '10nH',\n 'hfss_capacitance': 0,\n 'hfss_resistance': 0,\n 'hfss_mesh_kw_jj': 7e-06,\n 'q3d_inductance': '10nH',\n 'q3d_capacitance': 0,\n 'q3d_resistance': 0,\n 'q3d_mesh_kw_jj': 7e-06,\n 'gds_cell_name': 'FakeJunction_01'}"
     },
     "execution_count": 11,
     "metadata": {},
     "output_type": "execute_result"
    }
   ],
   "source": [
    "q1.options.gds_cell_name = 'FakeJunction_01'\n",
    "q1.options"
   ],
   "metadata": {
    "collapsed": false
   }
  },
  {
   "cell_type": "code",
   "execution_count": 12,
   "outputs": [],
   "source": [
    "from qiskit_metal.qlibrary.user_components.my_qcomponent import MyReadoutRes01\n",
    "\n",
    "options = Dict(\n",
    "       readout_radius='50 um',\n",
    "       readout_cpw_width='5 um',\n",
    "       readout_cpw_gap='10 um',\n",
    "       readout_cpw_turnradius='27 um',\n",
    "       vertical_start_length = '40 um',\n",
    "       vertical_end_length = '300 um',\n",
    "       horizontal_start_length01= '400 um',\n",
    "       horizontal_start_length02 = '400 um',\n",
    "       horizontal_end_length = '500 um',\n",
    "       total_length = '4200 um',\n",
    "       arc_step='1 um',\n",
    "       meander_round = '5',\n",
    "       orientation='0',\n",
    "       layer='2',\n",
    "       layer_subtract='2',\n",
    "       inverse = False,\n",
    "       mirror = False,\n",
    "       subtract=True,\n",
    "       )\n",
    "location_x = q1.parse_options().cross_width/4\n",
    "# the resonator is set to have its origin at the center of the circular patch.\n",
    "# So we set the qubit and the resonator to share the same coordinate (q1_x, q1_y)\n",
    "r1 = MyReadoutRes01(design, 'R1', options = Dict(pos_x = location_x, pos_y = q1_y, **options))\n",
    "# rebuild in gui\n",
    "gui.rebuild()\n",
    "gui.autoscale()"
   ],
   "metadata": {
    "collapsed": false
   }
  },
  {
   "cell_type": "code",
   "execution_count": 13,
   "outputs": [
    {
     "data": {
      "text/plain": "(-0.9657654975296135, -0.795)"
     },
     "execution_count": 13,
     "metadata": {},
     "output_type": "execute_result"
    }
   ],
   "source": [
    "x,y = r1.make_ro()\n",
    "x, y=-x,-y\n",
    "x, y"
   ],
   "metadata": {
    "collapsed": false
   }
  },
  {
   "cell_type": "code",
   "execution_count": 14,
   "outputs": [],
   "source": [
    "from qiskit_metal.qlibrary.terminations.launchpad_wb import LaunchpadWirebond\n",
    "from qiskit_metal.qlibrary.tlines.pathfinder import RoutePathfinder\n",
    "from qiskit_metal.qlibrary.tlines.straight_path import RouteStraight\n",
    "from collections import  OrderedDict\n",
    "readout_line_ydistance = 0.15\n",
    "readout_line_xdistance = 0.5\n",
    "pad_pos_y0 = y-readout_line_ydistance\n",
    "pad_pos_x0 = x -readout_line_xdistance\n",
    "pad_pos_y1 = pad_pos_y0\n",
    "pad_pos_x1 = x+4*readout_line_xdistance\n",
    "pin_opt = Dict(hfss_wire_bonds=True, pin_inputs=Dict(start_pin=Dict(component='Launch_Readout0',pin='tie'),\n",
    "                         end_pin=Dict(component='Launch_Readout1',pin='tie'),),\n",
    "                          trace_width='10um',trace_gap='6um',layer = '2',)\n",
    "pin_opt.fillet = '30 um'\n",
    "pin_opt.lead.start_straight = '90 um'\n",
    "pin_opt.lead.end_straight = '90 um'\n",
    "\n",
    "jogsS = OrderedDict()\n",
    "jogsS[0] = [\"R\", '90um']\n",
    "jogsE = OrderedDict()\n",
    "jogsE[0] = [\"L\", '90um']\n",
    "\n",
    "launch_readout0 = LaunchpadWirebond(design,'Launch_Readout0',options=Dict(pos_x=pad_pos_x0,pos_y=pad_pos_y0,orientation='90',layer = '2'))\n",
    "launch_readout1 = LaunchpadWirebond(design,'Launch_Readout1',options=Dict(pos_x=pad_pos_x1,pos_y=pad_pos_y1,orientation='90',layer = '2'))\n",
    "t1_readout_q_01=RoutePathfinder(design,'T1_Readout_Q_01',options=pin_opt)\n",
    "gui.rebuild()\n",
    "gui.autoscale()\n"
   ],
   "metadata": {
    "collapsed": false
   }
  },
  {
   "cell_type": "code",
   "execution_count": null,
   "outputs": [],
   "source": [],
   "metadata": {
    "collapsed": false
   }
  },
  {
   "cell_type": "code",
   "execution_count": null,
   "outputs": [],
   "source": [],
   "metadata": {
    "collapsed": false
   }
  },
  {
   "cell_type": "code",
   "execution_count": null,
   "outputs": [],
   "source": [],
   "metadata": {
    "collapsed": false
   }
  },
  {
   "cell_type": "code",
   "execution_count": null,
   "outputs": [],
   "source": [],
   "metadata": {
    "collapsed": false
   }
  },
  {
   "cell_type": "code",
   "execution_count": 15,
   "outputs": [
    {
     "data": {
      "text/plain": "{'short_segments_to_not_fillet': 'True',\n 'check_short_segments_by_scaling_fillet': '2.0',\n 'gds_unit': 0.001,\n 'ground_plane': 'True',\n 'negative_mask': {'main': []},\n 'fabricate': 'False',\n 'corners': 'circular bend',\n 'tolerance': '0.00001',\n 'precision': '0.000000001',\n 'width_LineString': '10um',\n 'path_filename': '../resources/Fake_Junctions.GDS',\n 'junction_pad_overlap': '5um',\n 'max_points': '199',\n 'cheese': {'datatype': '100',\n  'shape': '0',\n  'cheese_0_x': '25um',\n  'cheese_0_y': '25um',\n  'cheese_1_radius': '100um',\n  'view_in_file': {'main': {1: True}},\n  'delta_x': '100um',\n  'delta_y': '100um',\n  'edge_nocheese': '200um'},\n 'no_cheese': {'datatype': '99',\n  'buffer': '25um',\n  'cap_style': '2',\n  'join_style': '2',\n  'view_in_file': {'main': {1: True}}},\n 'bounding_box_scale_x': '1.2',\n 'bounding_box_scale_y': '1.2'}"
     },
     "execution_count": 15,
     "metadata": {},
     "output_type": "execute_result"
    }
   ],
   "source": [
    "a_gds = design.renderers.gds\n",
    "a_gds.options"
   ],
   "metadata": {
    "collapsed": false
   }
  },
  {
   "cell_type": "code",
   "execution_count": 17,
   "outputs": [
    {
     "data": {
      "text/plain": "1"
     },
     "execution_count": 17,
     "metadata": {},
     "output_type": "execute_result"
    }
   ],
   "source": [
    "a_gds.options['short_segments_to_not_fillet'] = 'True'\n",
    "scale_fillet = 2.0\n",
    "a_gds.options['check_short_segments_by_scaling_fillet'] = scale_fillet\n",
    "a_gds.options.negative_mask = {'main': [1,2]}\n",
    "a_gds.options.cheese.view_in_file =  {'main': {1: False, 2:False},}\n",
    "a_gds.options.no_cheese.view_in_file =  {'main': {1: False, 2:False}, }\n",
    "a_gds.export_to_gds('flip_chip_test_planar.gds')"
   ],
   "metadata": {
    "collapsed": false
   }
  },
  {
   "cell_type": "code",
   "execution_count": null,
   "outputs": [],
   "source": [],
   "metadata": {
    "collapsed": false
   }
  },
  {
   "cell_type": "code",
   "execution_count": null,
   "outputs": [],
   "source": [],
   "metadata": {
    "collapsed": false
   }
  }
 ],
 "metadata": {
  "kernelspec": {
   "display_name": "Python 3",
   "language": "python",
   "name": "python3"
  },
  "language_info": {
   "codemirror_mode": {
    "name": "ipython",
    "version": 2
   },
   "file_extension": ".py",
   "mimetype": "text/x-python",
   "name": "python",
   "nbconvert_exporter": "python",
   "pygments_lexer": "ipython2",
   "version": "2.7.6"
  }
 },
 "nbformat": 4,
 "nbformat_minor": 0
}
